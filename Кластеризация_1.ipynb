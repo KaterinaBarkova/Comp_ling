{
 "cells": [
  {
   "cell_type": "code",
   "execution_count": 1,
   "metadata": {},
   "outputs": [],
   "source": [
    "import pandas as pd\n",
    "import numpy as np\n",
    "\n",
    "import warnings\n",
    "warnings.filterwarnings(\"ignore\")"
   ]
  },
  {
   "cell_type": "code",
   "execution_count": 2,
   "metadata": {},
   "outputs": [],
   "source": [
    "news = pd.read_csv(\"News_Category_Dataset_v2_prep_full.csv\")"
   ]
  },
  {
   "cell_type": "code",
   "execution_count": 3,
   "metadata": {},
   "outputs": [
    {
     "data": {
      "text/html": [
       "<div>\n",
       "<style scoped>\n",
       "    .dataframe tbody tr th:only-of-type {\n",
       "        vertical-align: middle;\n",
       "    }\n",
       "\n",
       "    .dataframe tbody tr th {\n",
       "        vertical-align: top;\n",
       "    }\n",
       "\n",
       "    .dataframe thead th {\n",
       "        text-align: right;\n",
       "    }\n",
       "</style>\n",
       "<table border=\"1\" class=\"dataframe\">\n",
       "  <thead>\n",
       "    <tr style=\"text-align: right;\">\n",
       "      <th></th>\n",
       "      <th>category</th>\n",
       "      <th>headline_pr</th>\n",
       "      <th>short_description_pr</th>\n",
       "      <th>union_pr</th>\n",
       "    </tr>\n",
       "  </thead>\n",
       "  <tbody>\n",
       "    <tr>\n",
       "      <th>0</th>\n",
       "      <td>CRIME</td>\n",
       "      <td>2 mass shooting texas last week 1 tv</td>\n",
       "      <td>left husband killed child another day america</td>\n",
       "      <td>2 mass shooting texas last week 1 tvleft husba...</td>\n",
       "    </tr>\n",
       "    <tr>\n",
       "      <th>1</th>\n",
       "      <td>ENTERTAINMENT</td>\n",
       "      <td>smith join diplo nicky jam 2018 world cup offi...</td>\n",
       "      <td>course song</td>\n",
       "      <td>smith join diplo nicky jam 2018 world cup offi...</td>\n",
       "    </tr>\n",
       "    <tr>\n",
       "      <th>2</th>\n",
       "      <td>ENTERTAINMENT</td>\n",
       "      <td>hugh grant marries first time age 57</td>\n",
       "      <td>actor longtime girlfriend anna eberstein tied ...</td>\n",
       "      <td>hugh grant marries first time age 57actor long...</td>\n",
       "    </tr>\n",
       "    <tr>\n",
       "      <th>3</th>\n",
       "      <td>ENTERTAINMENT</td>\n",
       "      <td>jim carrey blast castrato adam schiff democrat...</td>\n",
       "      <td>actor give dems as kicking fighting hard enoug...</td>\n",
       "      <td>jim carrey blast castrato adam schiff democrat...</td>\n",
       "    </tr>\n",
       "    <tr>\n",
       "      <th>4</th>\n",
       "      <td>ENTERTAINMENT</td>\n",
       "      <td>julianna margulies us donald trump poop bag pi...</td>\n",
       "      <td>dietland actress said using bag really cathart...</td>\n",
       "      <td>julianna margulies us donald trump poop bag pi...</td>\n",
       "    </tr>\n",
       "  </tbody>\n",
       "</table>\n",
       "</div>"
      ],
      "text/plain": [
       "        category                                        headline_pr  \\\n",
       "0          CRIME               2 mass shooting texas last week 1 tv   \n",
       "1  ENTERTAINMENT  smith join diplo nicky jam 2018 world cup offi...   \n",
       "2  ENTERTAINMENT               hugh grant marries first time age 57   \n",
       "3  ENTERTAINMENT  jim carrey blast castrato adam schiff democrat...   \n",
       "4  ENTERTAINMENT  julianna margulies us donald trump poop bag pi...   \n",
       "\n",
       "                                short_description_pr  \\\n",
       "0      left husband killed child another day america   \n",
       "1                                        course song   \n",
       "2  actor longtime girlfriend anna eberstein tied ...   \n",
       "3  actor give dems as kicking fighting hard enoug...   \n",
       "4  dietland actress said using bag really cathart...   \n",
       "\n",
       "                                            union_pr  \n",
       "0  2 mass shooting texas last week 1 tvleft husba...  \n",
       "1  smith join diplo nicky jam 2018 world cup offi...  \n",
       "2  hugh grant marries first time age 57actor long...  \n",
       "3  jim carrey blast castrato adam schiff democrat...  \n",
       "4  julianna margulies us donald trump poop bag pi...  "
      ]
     },
     "execution_count": 3,
     "metadata": {},
     "output_type": "execute_result"
    }
   ],
   "source": [
    "news.head()"
   ]
  },
  {
   "cell_type": "code",
   "execution_count": 4,
   "metadata": {},
   "outputs": [
    {
     "data": {
      "text/plain": [
       "POLITICS          29404\n",
       "WELLNESS          17801\n",
       "ENTERTAINMENT     13383\n",
       "STYLE & BEAUTY     9634\n",
       "TRAVEL             9397\n",
       "PARENTING          8666\n",
       "FOOD & DRINK       6213\n",
       "QUEER VOICES       5515\n",
       "HEALTHY LIVING     5255\n",
       "BUSINESS           5073\n",
       "COMEDY             4389\n",
       "SPORTS             4205\n",
       "HOME & LIVING      4188\n",
       "BLACK VOICES       4111\n",
       "THE WORLDPOST      3662\n",
       "WEDDINGS           3651\n",
       "PARENTS            3544\n",
       "DIVORCE            3423\n",
       "WOMEN              3075\n",
       "IMPACT             3059\n",
       "CRIME              2674\n",
       "MEDIA              2268\n",
       "WEIRD NEWS         2198\n",
       "WORLD NEWS         2172\n",
       "TECH               2075\n",
       "GREEN              2045\n",
       "TASTE              1930\n",
       "RELIGION           1849\n",
       "SCIENCE            1773\n",
       "MONEY              1706\n",
       "STYLE              1530\n",
       "ARTS & CULTURE     1334\n",
       "ENVIRONMENT        1321\n",
       "WORLDPOST          1242\n",
       "FIFTY              1042\n",
       "GOOD NEWS          1029\n",
       "CULTURE & ARTS     1019\n",
       "LATINO VOICES      1018\n",
       "COLLEGE             918\n",
       "EDUCATION           892\n",
       "ARTS                862\n",
       "Name: category, dtype: int64"
      ]
     },
     "execution_count": 4,
     "metadata": {},
     "output_type": "execute_result"
    }
   ],
   "source": [
    "news[\"category\"].value_counts()"
   ]
  },
  {
   "cell_type": "markdown",
   "metadata": {},
   "source": [
    "![](img/1.jpeg)"
   ]
  },
  {
   "cell_type": "markdown",
   "metadata": {},
   "source": [
    "1. POLITICS\n",
    "2. WEDDINGS\n",
    "3. QUEER VOICES"
   ]
  },
  {
   "cell_type": "code",
   "execution_count": 5,
   "metadata": {},
   "outputs": [],
   "source": [
    "n = 3000\n",
    "TRAVEL = news[news[\"category\"] == \"TRAVEL\"].iloc[:n].reset_index()\n",
    "SPORTS = news[news[\"category\"] == \"SPORTS\"].iloc[:n].reset_index()\n",
    "ENTERTAINMENT = news[news[\"category\"] == \"ENTERTAINMENT\"].iloc[:n].reset_index()\n",
    "WELLNESS = news[news[\"category\"] == \"WELLNESS\"].iloc[:n].reset_index()\n",
    "FOOD_DRINK = news[news[\"category\"] == \"FOOD & DRINK\"].iloc[:n].reset_index()\n",
    "\n",
    "news = TRAVEL.append(SPORTS, ignore_index=True).append(ENTERTAINMENT, ignore_index=True)\n",
    "news = news.append(WELLNESS, ignore_index=True).append(FOOD_DRINK, ignore_index=True)"
   ]
  },
  {
   "cell_type": "code",
   "execution_count": 6,
   "metadata": {},
   "outputs": [
    {
     "data": {
      "text/html": [
       "<div>\n",
       "<style scoped>\n",
       "    .dataframe tbody tr th:only-of-type {\n",
       "        vertical-align: middle;\n",
       "    }\n",
       "\n",
       "    .dataframe tbody tr th {\n",
       "        vertical-align: top;\n",
       "    }\n",
       "\n",
       "    .dataframe thead th {\n",
       "        text-align: right;\n",
       "    }\n",
       "</style>\n",
       "<table border=\"1\" class=\"dataframe\">\n",
       "  <thead>\n",
       "    <tr style=\"text-align: right;\">\n",
       "      <th></th>\n",
       "      <th>index</th>\n",
       "      <th>category</th>\n",
       "      <th>headline_pr</th>\n",
       "      <th>short_description_pr</th>\n",
       "      <th>union_pr</th>\n",
       "    </tr>\n",
       "  </thead>\n",
       "  <tbody>\n",
       "    <tr>\n",
       "      <th>0</th>\n",
       "      <td>126</td>\n",
       "      <td>TRAVEL</td>\n",
       "      <td>14 way make family road trip easier parent</td>\n",
       "      <td>waterproof cover seat kind brilliant</td>\n",
       "      <td>14 way make family road trip easier parentwate...</td>\n",
       "    </tr>\n",
       "    <tr>\n",
       "      <th>1</th>\n",
       "      <td>204</td>\n",
       "      <td>TRAVEL</td>\n",
       "      <td>14 trip take new york city long weekend</td>\n",
       "      <td>charming town relaxing beach top hiking destin...</td>\n",
       "      <td>14 trip take new york city long weekendcharmin...</td>\n",
       "    </tr>\n",
       "    <tr>\n",
       "      <th>2</th>\n",
       "      <td>205</td>\n",
       "      <td>TRAVEL</td>\n",
       "      <td>disney reveals opening season star war theme p...</td>\n",
       "      <td>star war galaxy edge open disneyland disney world</td>\n",
       "      <td>disney reveals opening season star war theme p...</td>\n",
       "    </tr>\n",
       "    <tr>\n",
       "      <th>3</th>\n",
       "      <td>256</td>\n",
       "      <td>TRAVEL</td>\n",
       "      <td>lonely planet top european destination 2018 ta...</td>\n",
       "      <td>underrated travel destination europe full tourist</td>\n",
       "      <td>lonely planet top european destination 2018 ta...</td>\n",
       "    </tr>\n",
       "    <tr>\n",
       "      <th>4</th>\n",
       "      <td>324</td>\n",
       "      <td>TRAVEL</td>\n",
       "      <td>8 majestic island europe tourist know yet</td>\n",
       "      <td>dreaming romantic european getaway involve gaz...</td>\n",
       "      <td>8 majestic island europe tourist know yetdream...</td>\n",
       "    </tr>\n",
       "    <tr>\n",
       "      <th>...</th>\n",
       "      <td>...</td>\n",
       "      <td>...</td>\n",
       "      <td>...</td>\n",
       "      <td>...</td>\n",
       "      <td>...</td>\n",
       "    </tr>\n",
       "    <tr>\n",
       "      <th>14995</th>\n",
       "      <td>135591</td>\n",
       "      <td>FOOD &amp; DRINK</td>\n",
       "      <td>cupcake made entirely frosting</td>\n",
       "      <td>dessert get right point</td>\n",
       "      <td>cupcake made entirely frostingdessert get righ...</td>\n",
       "    </tr>\n",
       "    <tr>\n",
       "      <th>14996</th>\n",
       "      <td>135593</td>\n",
       "      <td>FOOD &amp; DRINK</td>\n",
       "      <td>memorial day strike band</td>\n",
       "      <td>winning medley american favorite</td>\n",
       "      <td>memorial day strike bandwinning medley america...</td>\n",
       "    </tr>\n",
       "    <tr>\n",
       "      <th>14997</th>\n",
       "      <td>135608</td>\n",
       "      <td>FOOD &amp; DRINK</td>\n",
       "      <td>roadfood com regional food gps live without</td>\n",
       "      <td>roadfood com led u greatest road trip meal life</td>\n",
       "      <td>roadfood com regional food gps live withoutroa...</td>\n",
       "    </tr>\n",
       "    <tr>\n",
       "      <th>14998</th>\n",
       "      <td>135629</td>\n",
       "      <td>FOOD &amp; DRINK</td>\n",
       "      <td>slow make custard ice cream</td>\n",
       "      <td>extra rich good way</td>\n",
       "      <td>slow make custard ice creamextra rich good way</td>\n",
       "    </tr>\n",
       "    <tr>\n",
       "      <th>14999</th>\n",
       "      <td>135634</td>\n",
       "      <td>FOOD &amp; DRINK</td>\n",
       "      <td>recipe day baked potato</td>\n",
       "      <td>mushroom ragu make spud taste grown</td>\n",
       "      <td>recipe day baked potatomushroom ragu make spud...</td>\n",
       "    </tr>\n",
       "  </tbody>\n",
       "</table>\n",
       "<p>15000 rows × 5 columns</p>\n",
       "</div>"
      ],
      "text/plain": [
       "        index      category  \\\n",
       "0         126        TRAVEL   \n",
       "1         204        TRAVEL   \n",
       "2         205        TRAVEL   \n",
       "3         256        TRAVEL   \n",
       "4         324        TRAVEL   \n",
       "...       ...           ...   \n",
       "14995  135591  FOOD & DRINK   \n",
       "14996  135593  FOOD & DRINK   \n",
       "14997  135608  FOOD & DRINK   \n",
       "14998  135629  FOOD & DRINK   \n",
       "14999  135634  FOOD & DRINK   \n",
       "\n",
       "                                             headline_pr  \\\n",
       "0             14 way make family road trip easier parent   \n",
       "1                14 trip take new york city long weekend   \n",
       "2      disney reveals opening season star war theme p...   \n",
       "3      lonely planet top european destination 2018 ta...   \n",
       "4              8 majestic island europe tourist know yet   \n",
       "...                                                  ...   \n",
       "14995                     cupcake made entirely frosting   \n",
       "14996                           memorial day strike band   \n",
       "14997        roadfood com regional food gps live without   \n",
       "14998                        slow make custard ice cream   \n",
       "14999                            recipe day baked potato   \n",
       "\n",
       "                                    short_description_pr  \\\n",
       "0                   waterproof cover seat kind brilliant   \n",
       "1      charming town relaxing beach top hiking destin...   \n",
       "2      star war galaxy edge open disneyland disney world   \n",
       "3      underrated travel destination europe full tourist   \n",
       "4      dreaming romantic european getaway involve gaz...   \n",
       "...                                                  ...   \n",
       "14995                            dessert get right point   \n",
       "14996                   winning medley american favorite   \n",
       "14997    roadfood com led u greatest road trip meal life   \n",
       "14998                                extra rich good way   \n",
       "14999                mushroom ragu make spud taste grown   \n",
       "\n",
       "                                                union_pr  \n",
       "0      14 way make family road trip easier parentwate...  \n",
       "1      14 trip take new york city long weekendcharmin...  \n",
       "2      disney reveals opening season star war theme p...  \n",
       "3      lonely planet top european destination 2018 ta...  \n",
       "4      8 majestic island europe tourist know yetdream...  \n",
       "...                                                  ...  \n",
       "14995  cupcake made entirely frostingdessert get righ...  \n",
       "14996  memorial day strike bandwinning medley america...  \n",
       "14997  roadfood com regional food gps live withoutroa...  \n",
       "14998     slow make custard ice creamextra rich good way  \n",
       "14999  recipe day baked potatomushroom ragu make spud...  \n",
       "\n",
       "[15000 rows x 5 columns]"
      ]
     },
     "execution_count": 6,
     "metadata": {},
     "output_type": "execute_result"
    }
   ],
   "source": [
    "news"
   ]
  },
  {
   "cell_type": "markdown",
   "metadata": {},
   "source": [
    "## Признаки"
   ]
  },
  {
   "cell_type": "code",
   "execution_count": 7,
   "metadata": {},
   "outputs": [],
   "source": [
    "from sklearn.feature_extraction.text import CountVectorizer, TfidfVectorizer\n",
    "\n",
    "import warnings\n",
    "warnings.filterwarnings(\"ignore\")"
   ]
  },
  {
   "cell_type": "code",
   "execution_count": 8,
   "metadata": {},
   "outputs": [],
   "source": [
    "vectorizer = CountVectorizer(max_df=0.8, \n",
    "                             min_df=10\n",
    "                            )\n",
    "# vectorizer = TfidfVectorizer(max_df=0.8, \n",
    "#                              min_df=2\n",
    "#                             )\n",
    "\n",
    "X = vectorizer.fit_transform(news[\"union_pr\"])\n",
    "X = X.toarray()"
   ]
  },
  {
   "cell_type": "code",
   "execution_count": 9,
   "metadata": {},
   "outputs": [
    {
     "data": {
      "text/plain": [
       "(15000, 3769)"
      ]
     },
     "execution_count": 9,
     "metadata": {},
     "output_type": "execute_result"
    }
   ],
   "source": [
    "X.shape"
   ]
  },
  {
   "cell_type": "code",
   "execution_count": 10,
   "metadata": {},
   "outputs": [
    {
     "data": {
      "text/plain": [
       "(15000, 3769)"
      ]
     },
     "execution_count": 10,
     "metadata": {},
     "output_type": "execute_result"
    }
   ],
   "source": [
    "X.shape"
   ]
  },
  {
   "cell_type": "markdown",
   "metadata": {},
   "source": [
    "### Word2vec"
   ]
  },
  {
   "cell_type": "code",
   "execution_count": 11,
   "metadata": {},
   "outputs": [],
   "source": [
    "import gensim.downloader\n",
    "from gensim.models import Word2Vec"
   ]
  },
  {
   "cell_type": "code",
   "execution_count": 4,
   "metadata": {},
   "outputs": [
    {
     "name": "stdout",
     "output_type": "stream",
     "text": [
      "[==================================================] 100.0% 1662.8/1662.8MB downloaded\n"
     ]
    }
   ],
   "source": [
    "google_news = gensim.downloader.load('word2vec-google-news-300')"
   ]
  },
  {
   "cell_type": "code",
   "execution_count": 14,
   "metadata": {},
   "outputs": [],
   "source": [
    "# Загрузка предобученной на нашем датасете модели\n",
    "news_category = Word2Vec.load(\"word2vec_News_Category_Dataset.model\") "
   ]
  },
  {
   "cell_type": "code",
   "execution_count": 15,
   "metadata": {},
   "outputs": [
    {
     "data": {
      "text/plain": [
       "[('emin', 0.8702220320701599),\n",
       " ('chin', 0.862712562084198),\n",
       " ('shatters', 0.85172438621521),\n",
       " ('vein', 0.8513839244842529),\n",
       " ('squid', 0.8492340445518494),\n",
       " ('navratilova', 0.8449699878692627),\n",
       " ('transplanted', 0.8412217497825623),\n",
       " ('photoviola', 0.8381338715553284),\n",
       " ('te', 0.8368356823921204),\n",
       " ('overloaded', 0.8364784121513367)]"
      ]
     },
     "execution_count": 15,
     "metadata": {},
     "output_type": "execute_result"
    }
   ],
   "source": [
    "news_category.wv.most_similar('politic')"
   ]
  },
  {
   "cell_type": "code",
   "execution_count": 18,
   "metadata": {},
   "outputs": [
    {
     "data": {
      "text/plain": [
       "array([ 0.26371175,  0.9853023 , -1.1115199 , -0.8737721 , -1.0307835 ,\n",
       "       -1.0086764 , -0.54929364,  0.2606924 ,  1.0172111 , -1.3917083 ,\n",
       "       -0.40110084, -0.40293378, -0.2265935 ,  0.23303452,  0.52683437,\n",
       "       -0.57781285,  0.34048334, -0.11968663, -0.25234753, -0.1378148 ,\n",
       "       -0.12845394, -0.11777658,  0.8388428 ,  0.8629214 , -0.7455079 ,\n",
       "        0.25525904,  0.11543323, -0.42045483, -0.9957327 ,  0.9825203 ,\n",
       "        1.2932185 ,  1.1828113 , -1.8386053 , -0.4537164 ,  0.6439324 ,\n",
       "       -0.6422189 , -0.83605444,  0.5199145 , -0.0248966 ,  0.18902436,\n",
       "       -0.08193564, -0.801084  ,  0.09536127,  0.39293182, -0.9586824 ,\n",
       "        0.82634264, -0.3887303 , -0.405828  ,  0.21065184, -0.25953683,\n",
       "       -0.11996812, -0.589777  , -0.70902777,  0.7164571 , -0.6724394 ,\n",
       "       -0.17354062,  0.05743977,  0.12569031, -0.19962083, -0.64998496,\n",
       "        0.2384407 , -0.32564008, -0.8341531 ,  0.690191  , -0.16633235,\n",
       "        0.4021672 , -0.4021976 , -0.08071235, -0.04349608,  0.7858969 ,\n",
       "        0.59975934, -1.5517346 ,  0.15225619,  0.07480654,  0.3357694 ,\n",
       "        0.60065776, -0.12806736, -0.6478238 , -0.59667456, -0.5464272 ,\n",
       "       -0.8321117 , -0.9954935 , -0.63210636,  0.16290791,  0.6749365 ,\n",
       "       -1.1676637 , -0.35202637,  1.8917136 ,  0.2303227 ,  0.82759506,\n",
       "       -0.17814931,  0.2544814 ,  0.69759107, -0.5538199 , -0.26404256,\n",
       "       -0.918914  , -0.37091783, -1.7586082 , -0.07833264, -0.11658768],\n",
       "      dtype=float32)"
      ]
     },
     "execution_count": 18,
     "metadata": {},
     "output_type": "execute_result"
    }
   ],
   "source": [
    "news_category.wv[\"mass\"]"
   ]
  },
  {
   "cell_type": "code",
   "execution_count": 16,
   "metadata": {},
   "outputs": [],
   "source": [
    "vocab = news_category.wv.index_to_key # получить словарь"
   ]
  },
  {
   "cell_type": "code",
   "execution_count": 17,
   "metadata": {},
   "outputs": [],
   "source": [
    "def doc2vec(text):\n",
    "    return np.mean([news_category.wv[x] for x in text.split() if x in vocab], axis=0).reshape(1, -1)"
   ]
  },
  {
   "cell_type": "code",
   "execution_count": 71,
   "metadata": {},
   "outputs": [],
   "source": [
    "news[\"vectorized\"] = news[\"union_pr\"].apply(lambda row: doc2vec(row))"
   ]
  },
  {
   "cell_type": "code",
   "execution_count": 88,
   "metadata": {},
   "outputs": [
    {
     "data": {
      "text/html": [
       "<div>\n",
       "<style scoped>\n",
       "    .dataframe tbody tr th:only-of-type {\n",
       "        vertical-align: middle;\n",
       "    }\n",
       "\n",
       "    .dataframe tbody tr th {\n",
       "        vertical-align: top;\n",
       "    }\n",
       "\n",
       "    .dataframe thead th {\n",
       "        text-align: right;\n",
       "    }\n",
       "</style>\n",
       "<table border=\"1\" class=\"dataframe\">\n",
       "  <thead>\n",
       "    <tr style=\"text-align: right;\">\n",
       "      <th></th>\n",
       "      <th>index</th>\n",
       "      <th>category</th>\n",
       "      <th>headline_pr</th>\n",
       "      <th>short_description_pr</th>\n",
       "      <th>union_pr</th>\n",
       "      <th>vectorized</th>\n",
       "    </tr>\n",
       "  </thead>\n",
       "  <tbody>\n",
       "    <tr>\n",
       "      <th>0</th>\n",
       "      <td>13</td>\n",
       "      <td>POLITICS</td>\n",
       "      <td>trump crackdown immigrant parent put kid alrea...</td>\n",
       "      <td>last month health human service official revea...</td>\n",
       "      <td>trump crackdown immigrant parent put kid alrea...</td>\n",
       "      <td>[[0.24934112, -0.07372986, -0.4697646, -0.6915...</td>\n",
       "    </tr>\n",
       "    <tr>\n",
       "      <th>1</th>\n",
       "      <td>14</td>\n",
       "      <td>POLITICS</td>\n",
       "      <td>trump son concerned fbi obtained wiretap putin...</td>\n",
       "      <td>wiretap feature conversation alexander torshin...</td>\n",
       "      <td>trump son concerned fbi obtained wiretap putin...</td>\n",
       "      <td>[[-0.08956792, 0.46097955, 0.13745223, -0.1175...</td>\n",
       "    </tr>\n",
       "    <tr>\n",
       "      <th>2</th>\n",
       "      <td>15</td>\n",
       "      <td>POLITICS</td>\n",
       "      <td>edward snowden one trump love vladimir putin</td>\n",
       "      <td>count robert mueller nail nsa whistleblower warns</td>\n",
       "      <td>edward snowden one trump love vladimir putinco...</td>\n",
       "      <td>[[-0.33193335, 0.6428256, 0.40255037, 0.313192...</td>\n",
       "    </tr>\n",
       "    <tr>\n",
       "      <th>3</th>\n",
       "      <td>16</td>\n",
       "      <td>POLITICS</td>\n",
       "      <td>booyah obama photographer hilariously troll tr...</td>\n",
       "      <td>peeping minute</td>\n",
       "      <td>booyah obama photographer hilariously troll tr...</td>\n",
       "      <td>[[-0.08145213, 0.55399007, 0.2992495, -0.15863...</td>\n",
       "    </tr>\n",
       "    <tr>\n",
       "      <th>4</th>\n",
       "      <td>17</td>\n",
       "      <td>POLITICS</td>\n",
       "      <td>ireland vote repeal abortion amendment landsli...</td>\n",
       "      <td>irish woman longer travel united kingdom end p...</td>\n",
       "      <td>ireland vote repeal abortion amendment landsli...</td>\n",
       "      <td>[[0.4640411, 0.18794204, 0.25105196, -0.239942...</td>\n",
       "    </tr>\n",
       "  </tbody>\n",
       "</table>\n",
       "</div>"
      ],
      "text/plain": [
       "   index  category                                        headline_pr  \\\n",
       "0     13  POLITICS  trump crackdown immigrant parent put kid alrea...   \n",
       "1     14  POLITICS  trump son concerned fbi obtained wiretap putin...   \n",
       "2     15  POLITICS       edward snowden one trump love vladimir putin   \n",
       "3     16  POLITICS  booyah obama photographer hilariously troll tr...   \n",
       "4     17  POLITICS  ireland vote repeal abortion amendment landsli...   \n",
       "\n",
       "                                short_description_pr  \\\n",
       "0  last month health human service official revea...   \n",
       "1  wiretap feature conversation alexander torshin...   \n",
       "2  count robert mueller nail nsa whistleblower warns   \n",
       "3                                     peeping minute   \n",
       "4  irish woman longer travel united kingdom end p...   \n",
       "\n",
       "                                            union_pr  \\\n",
       "0  trump crackdown immigrant parent put kid alrea...   \n",
       "1  trump son concerned fbi obtained wiretap putin...   \n",
       "2  edward snowden one trump love vladimir putinco...   \n",
       "3  booyah obama photographer hilariously troll tr...   \n",
       "4  ireland vote repeal abortion amendment landsli...   \n",
       "\n",
       "                                          vectorized  \n",
       "0  [[0.24934112, -0.07372986, -0.4697646, -0.6915...  \n",
       "1  [[-0.08956792, 0.46097955, 0.13745223, -0.1175...  \n",
       "2  [[-0.33193335, 0.6428256, 0.40255037, 0.313192...  \n",
       "3  [[-0.08145213, 0.55399007, 0.2992495, -0.15863...  \n",
       "4  [[0.4640411, 0.18794204, 0.25105196, -0.239942...  "
      ]
     },
     "execution_count": 88,
     "metadata": {},
     "output_type": "execute_result"
    }
   ],
   "source": [
    "news.head()"
   ]
  },
  {
   "cell_type": "code",
   "execution_count": 72,
   "metadata": {},
   "outputs": [],
   "source": [
    "X = np.concatenate(news[\"vectorized\"].values)"
   ]
  },
  {
   "cell_type": "markdown",
   "metadata": {},
   "source": [
    "## KMeans"
   ]
  },
  {
   "cell_type": "code",
   "execution_count": 57,
   "metadata": {},
   "outputs": [],
   "source": [
    "from sklearn.cluster import KMeans\n",
    "from collections import Counter\n",
    "from sklearn.metrics import silhouette_score\n",
    "\n",
    "import warnings\n",
    "warnings.filterwarnings(\"ignore\")"
   ]
  },
  {
   "cell_type": "code",
   "execution_count": 74,
   "metadata": {},
   "outputs": [
    {
     "data": {
      "text/plain": [
       "KMeans(algorithm='auto', copy_x=True, init='k-means++', max_iter=500,\n",
       "       n_clusters=5, n_init=10, n_jobs=None, precompute_distances='auto',\n",
       "       random_state=None, tol=0.0001, verbose=0)"
      ]
     },
     "execution_count": 74,
     "metadata": {},
     "output_type": "execute_result"
    }
   ],
   "source": [
    "model = KMeans(n_clusters=5, max_iter=500)\n",
    "model.fit(X)"
   ]
  },
  {
   "cell_type": "code",
   "execution_count": 75,
   "metadata": {},
   "outputs": [],
   "source": [
    "preds = model.predict(X)"
   ]
  },
  {
   "cell_type": "code",
   "execution_count": 76,
   "metadata": {},
   "outputs": [
    {
     "data": {
      "text/plain": [
       "Counter({4: 3165, 3: 3073, 1: 3174, 2: 2568, 0: 520})"
      ]
     },
     "execution_count": 76,
     "metadata": {},
     "output_type": "execute_result"
    }
   ],
   "source": [
    "Counter(preds)"
   ]
  },
  {
   "cell_type": "code",
   "execution_count": 27,
   "metadata": {},
   "outputs": [
    {
     "data": {
      "text/plain": [
       "array([2, 2, 2, ..., 0, 0, 2], dtype=int32)"
      ]
     },
     "execution_count": 27,
     "metadata": {},
     "output_type": "execute_result"
    }
   ],
   "source": [
    "model.labels_"
   ]
  },
  {
   "cell_type": "code",
   "execution_count": 77,
   "metadata": {},
   "outputs": [
    {
     "name": "stdout",
     "output_type": "stream",
     "text": [
      "Counter({4: 2135, 2: 189, 3: 104, 1: 72})\n",
      "Counter({3: 1412, 1: 759, 0: 238, 2: 51, 4: 40})\n",
      "Counter({3: 801, 4: 709, 1: 682, 2: 308})\n",
      "Counter({2: 2006, 4: 241, 3: 177, 1: 76})\n",
      "Counter({1: 1585, 3: 579, 0: 282, 4: 40, 2: 14})\n"
     ]
    }
   ],
   "source": [
    "print(Counter(preds[:n])) # POLITIC\n",
    "print(Counter(preds[n:n*2])) # WEDDING\n",
    "print(Counter(preds[n*2:n*3])) # QUEER VOICES\n",
    "print(Counter(preds[n*3:n*4])) # CRIME\n",
    "print(Counter(preds[n*4:n*5])) # STYLE & BEAUTY"
   ]
  },
  {
   "cell_type": "markdown",
   "metadata": {},
   "source": [
    "## PCA+KMeans"
   ]
  },
  {
   "cell_type": "code",
   "execution_count": 78,
   "metadata": {},
   "outputs": [],
   "source": [
    "from sklearn.decomposition import PCA"
   ]
  },
  {
   "cell_type": "code",
   "execution_count": 104,
   "metadata": {},
   "outputs": [],
   "source": [
    "pca = PCA(3)\n",
    "features = pca.fit_transform(X) "
   ]
  },
  {
   "cell_type": "code",
   "execution_count": 105,
   "metadata": {},
   "outputs": [
    {
     "data": {
      "text/plain": [
       "KMeans(algorithm='auto', copy_x=True, init='k-means++', max_iter=300,\n",
       "       n_clusters=5, n_init=10, n_jobs=None, precompute_distances='auto',\n",
       "       random_state=None, tol=0.0001, verbose=0)"
      ]
     },
     "execution_count": 105,
     "metadata": {},
     "output_type": "execute_result"
    }
   ],
   "source": [
    "model = KMeans(n_clusters=5)\n",
    "model.fit(features)"
   ]
  },
  {
   "cell_type": "code",
   "execution_count": 106,
   "metadata": {},
   "outputs": [],
   "source": [
    "preds = model.predict(features)"
   ]
  },
  {
   "cell_type": "code",
   "execution_count": 107,
   "metadata": {},
   "outputs": [
    {
     "data": {
      "text/plain": [
       "Counter({0: 2876, 1: 2494, 2: 2290, 4: 2223, 3: 2617})"
      ]
     },
     "execution_count": 107,
     "metadata": {},
     "output_type": "execute_result"
    }
   ],
   "source": [
    "Counter(preds)"
   ]
  },
  {
   "cell_type": "code",
   "execution_count": 108,
   "metadata": {},
   "outputs": [
    {
     "name": "stdout",
     "output_type": "stream",
     "text": [
      "Counter({0: 2036, 1: 212, 4: 163, 3: 85, 2: 4})\n",
      "Counter({3: 1195, 2: 845, 1: 414, 0: 24, 4: 22})\n",
      "Counter({1: 940, 3: 657, 0: 576, 4: 223, 2: 104})\n",
      "Counter({4: 1812, 1: 356, 0: 220, 3: 112})\n",
      "Counter({2: 1337, 1: 572, 3: 568, 0: 20, 4: 3})\n"
     ]
    }
   ],
   "source": [
    "print(Counter(preds[:n])) # POLITIC\n",
    "print(Counter(preds[n:n*2])) # WEDDING\n",
    "print(Counter(preds[n*2:n*3])) # QUEER VOICES\n",
    "print(Counter(preds[n*3:n*4])) # CRIME\n",
    "print(Counter(preds[n*4:n*5])) # STYLE & BEAUTY"
   ]
  },
  {
   "cell_type": "markdown",
   "metadata": {},
   "source": [
    "## SVD + KMeans"
   ]
  },
  {
   "cell_type": "code",
   "execution_count": 36,
   "metadata": {},
   "outputs": [],
   "source": [
    "from sklearn.decomposition import TruncatedSVD"
   ]
  },
  {
   "cell_type": "code",
   "execution_count": 42,
   "metadata": {},
   "outputs": [],
   "source": [
    "svd = TruncatedSVD(n_components=3)\n",
    "features = svd.fit_transform(X)"
   ]
  },
  {
   "cell_type": "code",
   "execution_count": 43,
   "metadata": {},
   "outputs": [
    {
     "data": {
      "text/plain": [
       "KMeans(algorithm='auto', copy_x=True, init='k-means++', max_iter=300,\n",
       "       n_clusters=3, n_init=10, n_jobs=None, precompute_distances='auto',\n",
       "       random_state=None, tol=0.0001, verbose=0)"
      ]
     },
     "execution_count": 43,
     "metadata": {},
     "output_type": "execute_result"
    }
   ],
   "source": [
    "model = KMeans(n_clusters=3)\n",
    "model.fit(features)"
   ]
  },
  {
   "cell_type": "code",
   "execution_count": 44,
   "metadata": {},
   "outputs": [],
   "source": [
    "preds = model.predict(features)"
   ]
  },
  {
   "cell_type": "code",
   "execution_count": 45,
   "metadata": {},
   "outputs": [
    {
     "data": {
      "text/plain": [
       "Counter({1: 3482, 0: 2959, 2: 2559})"
      ]
     },
     "execution_count": 45,
     "metadata": {},
     "output_type": "execute_result"
    }
   ],
   "source": [
    "Counter(preds)"
   ]
  },
  {
   "cell_type": "code",
   "execution_count": 46,
   "metadata": {},
   "outputs": [
    {
     "name": "stdout",
     "output_type": "stream",
     "text": [
      "Counter({1: 2634, 0: 323, 2: 43})\n",
      "Counter({2: 1974, 0: 981, 1: 45})\n",
      "Counter({0: 1655, 1: 803, 2: 542})\n"
     ]
    }
   ],
   "source": [
    "print(Counter(preds[:3000])) # POLITIC\n",
    "print(Counter(preds[3000:6000])) # WEDDING\n",
    "print(Counter(preds[6000:])) # QUEER VOICES"
   ]
  }
 ],
 "metadata": {
  "kernelspec": {
   "display_name": "Python 3",
   "language": "python",
   "name": "python3"
  },
  "language_info": {
   "codemirror_mode": {
    "name": "ipython",
    "version": 3
   },
   "file_extension": ".py",
   "mimetype": "text/x-python",
   "name": "python",
   "nbconvert_exporter": "python",
   "pygments_lexer": "ipython3",
   "version": "3.8.8"
  }
 },
 "nbformat": 4,
 "nbformat_minor": 2
}
