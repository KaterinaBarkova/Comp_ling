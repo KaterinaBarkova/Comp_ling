{
 "cells": [
  {
   "cell_type": "code",
   "execution_count": 1,
   "metadata": {},
   "outputs": [],
   "source": [
    "import pandas as pd\n",
    "import numpy as np"
   ]
  },
  {
   "cell_type": "code",
   "execution_count": 2,
   "metadata": {},
   "outputs": [],
   "source": [
    "news = pd.read_csv(\"News_Category_Dataset_v2_prep_full.csv\")"
   ]
  },
  {
   "cell_type": "markdown",
   "metadata": {},
   "source": [
    "## Сокращение датасета"
   ]
  },
  {
   "cell_type": "code",
   "execution_count": 3,
   "metadata": {},
   "outputs": [],
   "source": [
    "for_remove = [\"WOMEN\", \"HEALTHY LIVING\", \"IMPACT\", \"PARENTS\", \"PARENTING\", \"ENTERTAINMENT\", \"BLACK VOICES\", \"WELLNESS\"]\n",
    "news = news.drop(news[news[\"category\"].isin(for_remove)].index)"
   ]
  },
  {
   "cell_type": "code",
   "execution_count": 4,
   "metadata": {},
   "outputs": [
    {
     "data": {
      "text/plain": [
       "121651"
      ]
     },
     "execution_count": 4,
     "metadata": {},
     "output_type": "execute_result"
    }
   ],
   "source": [
    "len(news)"
   ]
  },
  {
   "cell_type": "code",
   "execution_count": 5,
   "metadata": {},
   "outputs": [],
   "source": [
    "counts = news[\"category\"].value_counts() \n",
    "drop_counts = counts[counts < 2500].index"
   ]
  },
  {
   "cell_type": "code",
   "execution_count": 6,
   "metadata": {},
   "outputs": [],
   "source": [
    "news = news.drop(news[news[\"category\"].isin(drop_counts)].index)"
   ]
  },
  {
   "cell_type": "code",
   "execution_count": 7,
   "metadata": {},
   "outputs": [
    {
     "data": {
      "text/plain": [
       "91428"
      ]
     },
     "execution_count": 7,
     "metadata": {},
     "output_type": "execute_result"
    }
   ],
   "source": [
    "len(news)"
   ]
  },
  {
   "cell_type": "code",
   "execution_count": 8,
   "metadata": {},
   "outputs": [],
   "source": [
    "counts = news[\"category\"].value_counts()\n",
    "drop_counts = counts[counts > 6000].index"
   ]
  },
  {
   "cell_type": "code",
   "execution_count": 9,
   "metadata": {},
   "outputs": [],
   "source": [
    "for i in drop_counts:\n",
    "    n = counts[i]-6000\n",
    "    sample = news[news[\"category\"] == i].sample(n)\n",
    "    news = news.drop(sample.index)"
   ]
  },
  {
   "cell_type": "code",
   "execution_count": 10,
   "metadata": {},
   "outputs": [
    {
     "data": {
      "text/plain": [
       "60780"
      ]
     },
     "execution_count": 10,
     "metadata": {},
     "output_type": "execute_result"
    }
   ],
   "source": [
    "len(news)"
   ]
  },
  {
   "cell_type": "code",
   "execution_count": 11,
   "metadata": {},
   "outputs": [
    {
     "data": {
      "text/plain": [
       "FOOD & DRINK      6000\n",
       "POLITICS          6000\n",
       "TRAVEL            6000\n",
       "STYLE & BEAUTY    6000\n",
       "QUEER VOICES      5515\n",
       "BUSINESS          5073\n",
       "COMEDY            4389\n",
       "SPORTS            4205\n",
       "HOME & LIVING     4188\n",
       "THE WORLDPOST     3662\n",
       "WEDDINGS          3651\n",
       "DIVORCE           3423\n",
       "CRIME             2674\n",
       "Name: category, dtype: int64"
      ]
     },
     "execution_count": 11,
     "metadata": {},
     "output_type": "execute_result"
    }
   ],
   "source": [
    "news[\"category\"].value_counts()"
   ]
  },
  {
   "cell_type": "code",
   "execution_count": 12,
   "metadata": {},
   "outputs": [
    {
     "data": {
      "text/html": [
       "<div>\n",
       "<style scoped>\n",
       "    .dataframe tbody tr th:only-of-type {\n",
       "        vertical-align: middle;\n",
       "    }\n",
       "\n",
       "    .dataframe tbody tr th {\n",
       "        vertical-align: top;\n",
       "    }\n",
       "\n",
       "    .dataframe thead th {\n",
       "        text-align: right;\n",
       "    }\n",
       "</style>\n",
       "<table border=\"1\" class=\"dataframe\">\n",
       "  <thead>\n",
       "    <tr style=\"text-align: right;\">\n",
       "      <th></th>\n",
       "      <th>category</th>\n",
       "      <th>headline_pr</th>\n",
       "      <th>short_description_pr</th>\n",
       "      <th>union_pr</th>\n",
       "    </tr>\n",
       "  </thead>\n",
       "  <tbody>\n",
       "    <tr>\n",
       "      <th>0</th>\n",
       "      <td>CRIME</td>\n",
       "      <td>2 mass shooting texas last week 1 tv</td>\n",
       "      <td>left husband killed child another day america</td>\n",
       "      <td>2 mass shooting texas last week 1 tvleft husba...</td>\n",
       "    </tr>\n",
       "    <tr>\n",
       "      <th>13</th>\n",
       "      <td>POLITICS</td>\n",
       "      <td>trump crackdown immigrant parent put kid alrea...</td>\n",
       "      <td>last month health human service official revea...</td>\n",
       "      <td>trump crackdown immigrant parent put kid alrea...</td>\n",
       "    </tr>\n",
       "    <tr>\n",
       "      <th>30</th>\n",
       "      <td>POLITICS</td>\n",
       "      <td>jack johnson pardoned taboo sex still criminal...</td>\n",
       "      <td>new law fight sex trafficking target people os...</td>\n",
       "      <td>jack johnson pardoned taboo sex still criminal...</td>\n",
       "    </tr>\n",
       "    <tr>\n",
       "      <th>32</th>\n",
       "      <td>CRIME</td>\n",
       "      <td>rachel dolezal face felony charge welfare fraud</td>\n",
       "      <td>state prosecutor say almost 84 000 deposited b...</td>\n",
       "      <td>rachel dolezal face felony charge welfare frau...</td>\n",
       "    </tr>\n",
       "    <tr>\n",
       "      <th>37</th>\n",
       "      <td>COMEDY</td>\n",
       "      <td>trump new maga themed swimwear sink twitter</td>\n",
       "      <td>swimsuit make look racist</td>\n",
       "      <td>trump new maga themed swimwear sink twitterswi...</td>\n",
       "    </tr>\n",
       "  </tbody>\n",
       "</table>\n",
       "</div>"
      ],
      "text/plain": [
       "    category                                        headline_pr  \\\n",
       "0      CRIME               2 mass shooting texas last week 1 tv   \n",
       "13  POLITICS  trump crackdown immigrant parent put kid alrea...   \n",
       "30  POLITICS  jack johnson pardoned taboo sex still criminal...   \n",
       "32     CRIME    rachel dolezal face felony charge welfare fraud   \n",
       "37    COMEDY        trump new maga themed swimwear sink twitter   \n",
       "\n",
       "                                 short_description_pr  \\\n",
       "0       left husband killed child another day america   \n",
       "13  last month health human service official revea...   \n",
       "30  new law fight sex trafficking target people os...   \n",
       "32  state prosecutor say almost 84 000 deposited b...   \n",
       "37                          swimsuit make look racist   \n",
       "\n",
       "                                             union_pr  \n",
       "0   2 mass shooting texas last week 1 tvleft husba...  \n",
       "13  trump crackdown immigrant parent put kid alrea...  \n",
       "30  jack johnson pardoned taboo sex still criminal...  \n",
       "32  rachel dolezal face felony charge welfare frau...  \n",
       "37  trump new maga themed swimwear sink twitterswi...  "
      ]
     },
     "execution_count": 12,
     "metadata": {},
     "output_type": "execute_result"
    }
   ],
   "source": [
    "news.head()"
   ]
  },
  {
   "cell_type": "markdown",
   "metadata": {},
   "source": [
    "## Извлекаем признаки"
   ]
  },
  {
   "cell_type": "markdown",
   "metadata": {},
   "source": [
    "### Tf-idf"
   ]
  },
  {
   "cell_type": "code",
   "execution_count": 13,
   "metadata": {},
   "outputs": [],
   "source": [
    "from sklearn.feature_extraction.text import TfidfVectorizer"
   ]
  },
  {
   "cell_type": "code",
   "execution_count": 14,
   "metadata": {},
   "outputs": [],
   "source": [
    "vectorizer = TfidfVectorizer(max_df=0.7, min_df=5)"
   ]
  },
  {
   "cell_type": "code",
   "execution_count": null,
   "metadata": {},
   "outputs": [],
   "source": [
    "X = vectorizer.fit_transform(news[\"union_pr\"])\n",
    "X = X.toarray()"
   ]
  },
  {
   "cell_type": "code",
   "execution_count": 18,
   "metadata": {},
   "outputs": [],
   "source": [
    "with open(\"Tfidfvocab\", \"w\", encoding=\"utf-8\") as f:\n",
    "    f.write(\"\\n\".join(vectorizer.get_feature_names()))"
   ]
  },
  {
   "cell_type": "code",
   "execution_count": 19,
   "metadata": {},
   "outputs": [
    {
     "name": "stdout",
     "output_type": "stream",
     "text": [
      "15540\n"
     ]
    }
   ],
   "source": [
    "with open(\"Tfidfvocab\", \"r\", encoding=\"utf-8\") as f:\n",
    "    print(len(f.readlines()))"
   ]
  },
  {
   "cell_type": "code",
   "execution_count": 20,
   "metadata": {},
   "outputs": [
    {
     "data": {
      "text/plain": [
       "15540"
      ]
     },
     "execution_count": 20,
     "metadata": {},
     "output_type": "execute_result"
    }
   ],
   "source": [
    "len(vectorizer.get_feature_names())"
   ]
  },
  {
   "cell_type": "markdown",
   "metadata": {},
   "source": [
    "### Word2Vec"
   ]
  },
  {
   "cell_type": "code",
   "execution_count": 119,
   "metadata": {},
   "outputs": [],
   "source": [
    "import gensim.downloader\n",
    "from gensim.models import Word2Vec"
   ]
  },
  {
   "cell_type": "code",
   "execution_count": 120,
   "metadata": {},
   "outputs": [],
   "source": [
    "news_category = Word2Vec.load(\"word2vec_News_Category_Dataset.model\")"
   ]
  },
  {
   "cell_type": "code",
   "execution_count": 121,
   "metadata": {},
   "outputs": [],
   "source": [
    "vocab = news_category.wv.index_to_key"
   ]
  },
  {
   "cell_type": "code",
   "execution_count": 122,
   "metadata": {},
   "outputs": [],
   "source": [
    "def doc2vec(text):\n",
    "    return np.mean([news_category.wv[x] for x in text.split() if x in vocab], axis=0).reshape(1, -1)"
   ]
  },
  {
   "cell_type": "code",
   "execution_count": 123,
   "metadata": {},
   "outputs": [
    {
     "name": "stdout",
     "output_type": "stream",
     "text": [
      "Wall time: 1min 52s\n"
     ]
    }
   ],
   "source": [
    "%%time\n",
    "news[\"vectorized\"] = news[\"union_pr\"].apply(lambda row: doc2vec(row))"
   ]
  },
  {
   "cell_type": "code",
   "execution_count": 124,
   "metadata": {},
   "outputs": [],
   "source": [
    "X = np.concatenate(news[\"vectorized\"].values)"
   ]
  },
  {
   "cell_type": "markdown",
   "metadata": {},
   "source": [
    "# Обучение модели"
   ]
  },
  {
   "cell_type": "markdown",
   "metadata": {},
   "source": [
    "## LinearSVC"
   ]
  },
  {
   "cell_type": "code",
   "execution_count": 81,
   "metadata": {},
   "outputs": [],
   "source": [
    "from sklearn import feature_extraction, model_selection, metrics"
   ]
  },
  {
   "cell_type": "code",
   "execution_count": 82,
   "metadata": {},
   "outputs": [],
   "source": [
    "y = news['category']"
   ]
  },
  {
   "cell_type": "code",
   "execution_count": 83,
   "metadata": {},
   "outputs": [],
   "source": [
    "X_train, X_test, y_train, y_test = model_selection.train_test_split(X, y, test_size = 0.33)"
   ]
  },
  {
   "cell_type": "code",
   "execution_count": 84,
   "metadata": {},
   "outputs": [],
   "source": [
    "from sklearn.svm import LinearSVC\n",
    "import warnings\n",
    "warnings.filterwarnings(\"ignore\")"
   ]
  },
  {
   "cell_type": "code",
   "execution_count": 85,
   "metadata": {},
   "outputs": [
    {
     "name": "stdout",
     "output_type": "stream",
     "text": [
      "Wall time: 3.5 s\n"
     ]
    },
    {
     "data": {
      "text/plain": [
       "LinearSVC(C=0.2)"
      ]
     },
     "execution_count": 85,
     "metadata": {},
     "output_type": "execute_result"
    }
   ],
   "source": [
    "%%time\n",
    "clf = LinearSVC(C=0.2)\n",
    "clf.fit(X_train, y_train)"
   ]
  },
  {
   "cell_type": "code",
   "execution_count": 86,
   "metadata": {},
   "outputs": [
    {
     "data": {
      "text/plain": [
       "array(['POLITICS', 'DIVORCE', 'TRAVEL', ..., 'COMEDY', 'QUEER VOICES',\n",
       "       'QUEER VOICES'], dtype=object)"
      ]
     },
     "execution_count": 86,
     "metadata": {},
     "output_type": "execute_result"
    }
   ],
   "source": [
    "y_pred = clf.predict(X_test)\n",
    "y_pred"
   ]
  },
  {
   "cell_type": "code",
   "execution_count": 87,
   "metadata": {},
   "outputs": [
    {
     "name": "stdout",
     "output_type": "stream",
     "text": [
      "                precision    recall  f1-score   support\n",
      "\n",
      "      BUSINESS       0.73      0.74      0.73      1737\n",
      "        COMEDY       0.76      0.64      0.70      1448\n",
      "         CRIME       0.77      0.76      0.76       892\n",
      "       DIVORCE       0.84      0.78      0.81      1084\n",
      "  FOOD & DRINK       0.83      0.87      0.85      2005\n",
      " HOME & LIVING       0.80      0.80      0.80      1420\n",
      "      POLITICS       0.71      0.75      0.73      1889\n",
      "  QUEER VOICES       0.85      0.79      0.82      1835\n",
      "        SPORTS       0.81      0.84      0.83      1374\n",
      "STYLE & BEAUTY       0.83      0.86      0.85      1970\n",
      " THE WORLDPOST       0.81      0.77      0.79      1217\n",
      "        TRAVEL       0.76      0.82      0.78      1996\n",
      "      WEDDINGS       0.83      0.82      0.83      1191\n",
      "\n",
      "      accuracy                           0.79     20058\n",
      "     macro avg       0.79      0.79      0.79     20058\n",
      "  weighted avg       0.79      0.79      0.79     20058\n",
      "\n"
     ]
    }
   ],
   "source": [
    "print(metrics.classification_report(y_test, y_pred))"
   ]
  },
  {
   "cell_type": "code",
   "execution_count": 90,
   "metadata": {},
   "outputs": [
    {
     "data": {
      "text/plain": [
       "(13, 15519)"
      ]
     },
     "execution_count": 90,
     "metadata": {},
     "output_type": "execute_result"
    }
   ],
   "source": [
    "clf.coef_.shape"
   ]
  },
  {
   "cell_type": "markdown",
   "metadata": {},
   "source": [
    "### Наивный Байес"
   ]
  },
  {
   "cell_type": "code",
   "execution_count": 99,
   "metadata": {},
   "outputs": [],
   "source": [
    "y = news['category']"
   ]
  },
  {
   "cell_type": "code",
   "execution_count": 100,
   "metadata": {},
   "outputs": [],
   "source": [
    "X_train, X_test, y_train, y_test = model_selection.train_test_split(X, y, test_size = 0.33)"
   ]
  },
  {
   "cell_type": "code",
   "execution_count": 101,
   "metadata": {},
   "outputs": [],
   "source": [
    "from sklearn import naive_bayes"
   ]
  },
  {
   "cell_type": "code",
   "execution_count": 102,
   "metadata": {},
   "outputs": [],
   "source": [
    "bayes = naive_bayes.MultinomialNB(alpha=0.5)"
   ]
  },
  {
   "cell_type": "code",
   "execution_count": 103,
   "metadata": {},
   "outputs": [
    {
     "data": {
      "text/plain": [
       "MultinomialNB(alpha=0.5)"
      ]
     },
     "execution_count": 103,
     "metadata": {},
     "output_type": "execute_result"
    }
   ],
   "source": [
    "bayes.fit(X_train, y_train)"
   ]
  },
  {
   "cell_type": "code",
   "execution_count": 107,
   "metadata": {},
   "outputs": [
    {
     "data": {
      "text/plain": [
       "array(['STYLE & BEAUTY', 'POLITICS', 'POLITICS', ..., 'POLITICS',\n",
       "       'FOOD & DRINK', 'QUEER VOICES'], dtype='<U14')"
      ]
     },
     "execution_count": 107,
     "metadata": {},
     "output_type": "execute_result"
    }
   ],
   "source": [
    "y_pred = bayes.predict(X_test)\n",
    "y_pred"
   ]
  },
  {
   "cell_type": "code",
   "execution_count": 110,
   "metadata": {},
   "outputs": [
    {
     "data": {
      "text/plain": [
       "array([[0.00970324, 0.00458225, 0.00121561, ..., 0.00338306, 0.06796785,\n",
       "        0.01068257],\n",
       "       [0.06427525, 0.01797294, 0.05275862, ..., 0.037263  , 0.00851625,\n",
       "        0.00691566],\n",
       "       [0.04238632, 0.02829675, 0.01522726, ..., 0.01284707, 0.04519354,\n",
       "        0.13832167],\n",
       "       ...,\n",
       "       [0.01053545, 0.10141462, 0.00295752, ..., 0.00696941, 0.00424752,\n",
       "        0.0010759 ],\n",
       "       [0.00371848, 0.00234435, 0.00102478, ..., 0.00046514, 0.01049949,\n",
       "        0.00384957],\n",
       "       [0.00934959, 0.00853844, 0.02719363, ..., 0.01393487, 0.00755855,\n",
       "        0.00294349]])"
      ]
     },
     "execution_count": 110,
     "metadata": {},
     "output_type": "execute_result"
    }
   ],
   "source": [
    "y_pred_proba = bayes.predict_proba(X_test)\n",
    "y_pred_proba"
   ]
  },
  {
   "cell_type": "code",
   "execution_count": 109,
   "metadata": {},
   "outputs": [
    {
     "name": "stdout",
     "output_type": "stream",
     "text": [
      "                precision    recall  f1-score   support\n",
      "\n",
      "      BUSINESS       0.72      0.76      0.74      1707\n",
      "        COMEDY       0.79      0.58      0.67      1472\n",
      "         CRIME       0.81      0.69      0.74       854\n",
      "       DIVORCE       0.81      0.77      0.79      1109\n",
      "  FOOD & DRINK       0.80      0.86      0.83      2047\n",
      " HOME & LIVING       0.85      0.69      0.76      1362\n",
      "      POLITICS       0.65      0.78      0.71      1960\n",
      "  QUEER VOICES       0.70      0.81      0.75      1806\n",
      "        SPORTS       0.88      0.78      0.83      1408\n",
      "STYLE & BEAUTY       0.81      0.85      0.83      2002\n",
      " THE WORLDPOST       0.83      0.69      0.76      1170\n",
      "        TRAVEL       0.68      0.83      0.75      1972\n",
      "      WEDDINGS       0.83      0.65      0.73      1189\n",
      "\n",
      "      accuracy                           0.76     20058\n",
      "     macro avg       0.78      0.75      0.76     20058\n",
      "  weighted avg       0.77      0.76      0.76     20058\n",
      "\n"
     ]
    }
   ],
   "source": [
    "print(metrics.classification_report(y_test, y_pred))"
   ]
  },
  {
   "cell_type": "code",
   "execution_count": 26,
   "metadata": {},
   "outputs": [],
   "source": [
    "import joblib"
   ]
  },
  {
   "cell_type": "code",
   "execution_count": 91,
   "metadata": {},
   "outputs": [
    {
     "data": {
      "text/plain": [
       "['LinearSVCmodel_79%']"
      ]
     },
     "execution_count": 91,
     "metadata": {},
     "output_type": "execute_result"
    }
   ],
   "source": [
    "joblib.dump(clf, \"LinearSVCmodel_79%\")"
   ]
  },
  {
   "cell_type": "code",
   "execution_count": 642,
   "metadata": {},
   "outputs": [
    {
     "data": {
      "text/plain": [
       "['NaiveBayesmodel_76%']"
      ]
     },
     "execution_count": 642,
     "metadata": {},
     "output_type": "execute_result"
    }
   ],
   "source": [
    "joblib.dump(clf, \"NaiveBayesmodel_76%\")"
   ]
  },
  {
   "cell_type": "code",
   "execution_count": null,
   "metadata": {},
   "outputs": [],
   "source": []
  }
 ],
 "metadata": {
  "kernelspec": {
   "display_name": "Python 3",
   "language": "python",
   "name": "python3"
  },
  "language_info": {
   "codemirror_mode": {
    "name": "ipython",
    "version": 3
   },
   "file_extension": ".py",
   "mimetype": "text/x-python",
   "name": "python",
   "nbconvert_exporter": "python",
   "pygments_lexer": "ipython3",
   "version": "3.8.8"
  }
 },
 "nbformat": 4,
 "nbformat_minor": 2
}
