{
 "cells": [
  {
   "cell_type": "code",
   "execution_count": null,
   "id": "4439758f",
   "metadata": {},
   "outputs": [],
   "source": [
    "import pandas as pd \n",
    "import numpy as np\n",
    "from collections import Counter\n",
    "from sklearn import feature_extraction, model_selection, naive_bayes, metrics, svm\n",
    "from sklearn.feature_extraction.text import CountVectorizer, TfidfVectorizer"
   ]
  },
  {
   "cell_type": "code",
   "execution_count": null,
   "id": "32eee3ef",
   "metadata": {},
   "outputs": [],
   "source": [
    "news = pd.read_csv(\"News_Category_Dataset_v2_prep_full.csv\")"
   ]
  },
  {
   "cell_type": "code",
   "execution_count": null,
   "id": "59adfb26",
   "metadata": {},
   "outputs": [],
   "source": [
    "vectorizer = TfidfVectorizer(max_df=0.7, min_df=5)"
   ]
  },
  {
   "cell_type": "code",
   "execution_count": null,
   "id": "5f371d26",
   "metadata": {},
   "outputs": [],
   "source": [
    "X = vectorizer.fit_transform(news[\"union_pr\"])\n",
    "X = X.toarray()"
   ]
  },
  {
   "cell_type": "code",
   "execution_count": null,
   "id": "a160824b",
   "metadata": {},
   "outputs": [],
   "source": [
    "with open(\"Tfidfvocab\", \"w\", encoding=\"utf-8\") as f:\n",
    "    f.write(\"\\n\".join(vectorizer.get_feature_names()))"
   ]
  },
  {
   "cell_type": "code",
   "execution_count": null,
   "id": "d7fb9c7c",
   "metadata": {},
   "outputs": [],
   "source": [
    "with open(\"Tfidfvocab\", \"r\", encoding=\"utf-8\") as f:\n",
    "    print(len(f.readlines()))"
   ]
  },
  {
   "cell_type": "code",
   "execution_count": null,
   "id": "c27f7a21",
   "metadata": {},
   "outputs": [],
   "source": [
    "len(vectorizer.get_feature_names())"
   ]
  },
  {
   "cell_type": "code",
   "execution_count": null,
   "id": "21c6aa83",
   "metadata": {},
   "outputs": [],
   "source": [
    "y = news['category']"
   ]
  },
  {
   "cell_type": "code",
   "execution_count": null,
   "id": "e8eb7401",
   "metadata": {},
   "outputs": [],
   "source": [
    "X_train, X_test, y_train, y_test = model_selection.train_test_split(X, y, test_size = 0.33) "
   ]
  },
  {
   "cell_type": "code",
   "execution_count": null,
   "id": "128f669f",
   "metadata": {},
   "outputs": [],
   "source": [
    "from sklearn.tree import DecisionTreeClassifier\n",
    "clf = DecisionTreeClassifier(min_samples_split=10) "
   ]
  },
  {
   "cell_type": "code",
   "execution_count": null,
   "id": "f06eb530",
   "metadata": {},
   "outputs": [],
   "source": [
    "clf.fit(X_train, y_train)"
   ]
  },
  {
   "cell_type": "code",
   "execution_count": null,
   "id": "e8974b63",
   "metadata": {},
   "outputs": [],
   "source": [
    "y_pred = clf.predict(X_test)\n",
    "y_pred"
   ]
  },
  {
   "cell_type": "code",
   "execution_count": null,
   "id": "0561ae0a",
   "metadata": {},
   "outputs": [],
   "source": [
    "print(metrics.classification_report(y_test, y_pred)) # Count, C = 0.01"
   ]
  }
 ],
 "metadata": {
  "kernelspec": {
   "display_name": "Python 3",
   "language": "python",
   "name": "python3"
  },
  "language_info": {
   "codemirror_mode": {
    "name": "ipython",
    "version": 3
   },
   "file_extension": ".py",
   "mimetype": "text/x-python",
   "name": "python",
   "nbconvert_exporter": "python",
   "pygments_lexer": "ipython3",
   "version": "3.8.8"
  }
 },
 "nbformat": 4,
 "nbformat_minor": 5
}
