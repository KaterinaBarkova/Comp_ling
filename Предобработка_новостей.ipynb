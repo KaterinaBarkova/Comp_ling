{
 "cells": [
  {
   "cell_type": "code",
   "execution_count": 1,
   "metadata": {},
   "outputs": [],
   "source": [
    "import pandas as pd \n",
    "from collections import Counter\n",
    "from sklearn import feature_extraction, model_selection, naive_bayes, metrics, svm\n",
    "from sklearn.feature_extraction.text import CountVectorizer, TfidfVectorizer"
   ]
  },
  {
   "cell_type": "code",
   "execution_count": 2,
   "metadata": {},
   "outputs": [],
   "source": [
    "news = pd.read_json(\"News_Category_Dataset_v2.json\", lines=True)"
   ]
  },
  {
   "cell_type": "code",
   "execution_count": 3,
   "metadata": {},
   "outputs": [
    {
     "data": {
      "text/html": [
       "<div>\n",
       "<style scoped>\n",
       "    .dataframe tbody tr th:only-of-type {\n",
       "        vertical-align: middle;\n",
       "    }\n",
       "\n",
       "    .dataframe tbody tr th {\n",
       "        vertical-align: top;\n",
       "    }\n",
       "\n",
       "    .dataframe thead th {\n",
       "        text-align: right;\n",
       "    }\n",
       "</style>\n",
       "<table border=\"1\" class=\"dataframe\">\n",
       "  <thead>\n",
       "    <tr style=\"text-align: right;\">\n",
       "      <th></th>\n",
       "      <th>category</th>\n",
       "      <th>headline</th>\n",
       "      <th>authors</th>\n",
       "      <th>link</th>\n",
       "      <th>short_description</th>\n",
       "      <th>date</th>\n",
       "    </tr>\n",
       "  </thead>\n",
       "  <tbody>\n",
       "    <tr>\n",
       "      <th>0</th>\n",
       "      <td>CRIME</td>\n",
       "      <td>There Were 2 Mass Shootings In Texas Last Week...</td>\n",
       "      <td>Melissa Jeltsen</td>\n",
       "      <td>https://www.huffingtonpost.com/entry/texas-ama...</td>\n",
       "      <td>She left her husband. He killed their children...</td>\n",
       "      <td>2018-05-26</td>\n",
       "    </tr>\n",
       "    <tr>\n",
       "      <th>1</th>\n",
       "      <td>ENTERTAINMENT</td>\n",
       "      <td>Will Smith Joins Diplo And Nicky Jam For The 2...</td>\n",
       "      <td>Andy McDonald</td>\n",
       "      <td>https://www.huffingtonpost.com/entry/will-smit...</td>\n",
       "      <td>Of course it has a song.</td>\n",
       "      <td>2018-05-26</td>\n",
       "    </tr>\n",
       "    <tr>\n",
       "      <th>2</th>\n",
       "      <td>ENTERTAINMENT</td>\n",
       "      <td>Hugh Grant Marries For The First Time At Age 57</td>\n",
       "      <td>Ron Dicker</td>\n",
       "      <td>https://www.huffingtonpost.com/entry/hugh-gran...</td>\n",
       "      <td>The actor and his longtime girlfriend Anna Ebe...</td>\n",
       "      <td>2018-05-26</td>\n",
       "    </tr>\n",
       "    <tr>\n",
       "      <th>3</th>\n",
       "      <td>ENTERTAINMENT</td>\n",
       "      <td>Jim Carrey Blasts 'Castrato' Adam Schiff And D...</td>\n",
       "      <td>Ron Dicker</td>\n",
       "      <td>https://www.huffingtonpost.com/entry/jim-carre...</td>\n",
       "      <td>The actor gives Dems an ass-kicking for not fi...</td>\n",
       "      <td>2018-05-26</td>\n",
       "    </tr>\n",
       "    <tr>\n",
       "      <th>4</th>\n",
       "      <td>ENTERTAINMENT</td>\n",
       "      <td>Julianna Margulies Uses Donald Trump Poop Bags...</td>\n",
       "      <td>Ron Dicker</td>\n",
       "      <td>https://www.huffingtonpost.com/entry/julianna-...</td>\n",
       "      <td>The \"Dietland\" actress said using the bags is ...</td>\n",
       "      <td>2018-05-26</td>\n",
       "    </tr>\n",
       "    <tr>\n",
       "      <th>5</th>\n",
       "      <td>ENTERTAINMENT</td>\n",
       "      <td>Morgan Freeman 'Devastated' That Sexual Harass...</td>\n",
       "      <td>Ron Dicker</td>\n",
       "      <td>https://www.huffingtonpost.com/entry/morgan-fr...</td>\n",
       "      <td>\"It is not right to equate horrific incidents ...</td>\n",
       "      <td>2018-05-26</td>\n",
       "    </tr>\n",
       "    <tr>\n",
       "      <th>6</th>\n",
       "      <td>ENTERTAINMENT</td>\n",
       "      <td>Donald Trump Is Lovin' New McDonald's Jingle I...</td>\n",
       "      <td>Ron Dicker</td>\n",
       "      <td>https://www.huffingtonpost.com/entry/donald-tr...</td>\n",
       "      <td>It's catchy, all right.</td>\n",
       "      <td>2018-05-26</td>\n",
       "    </tr>\n",
       "    <tr>\n",
       "      <th>7</th>\n",
       "      <td>ENTERTAINMENT</td>\n",
       "      <td>What To Watch On Amazon Prime That’s New This ...</td>\n",
       "      <td>Todd Van Luling</td>\n",
       "      <td>https://www.huffingtonpost.com/entry/amazon-pr...</td>\n",
       "      <td>There's a great mini-series joining this week.</td>\n",
       "      <td>2018-05-26</td>\n",
       "    </tr>\n",
       "    <tr>\n",
       "      <th>8</th>\n",
       "      <td>ENTERTAINMENT</td>\n",
       "      <td>Mike Myers Reveals He'd 'Like To' Do A Fourth ...</td>\n",
       "      <td>Andy McDonald</td>\n",
       "      <td>https://www.huffingtonpost.com/entry/mike-myer...</td>\n",
       "      <td>Myer's kids may be pushing for a new \"Powers\" ...</td>\n",
       "      <td>2018-05-26</td>\n",
       "    </tr>\n",
       "    <tr>\n",
       "      <th>9</th>\n",
       "      <td>ENTERTAINMENT</td>\n",
       "      <td>What To Watch On Hulu That’s New This Week</td>\n",
       "      <td>Todd Van Luling</td>\n",
       "      <td>https://www.huffingtonpost.com/entry/hulu-what...</td>\n",
       "      <td>You're getting a recent Academy Award-winning ...</td>\n",
       "      <td>2018-05-26</td>\n",
       "    </tr>\n",
       "  </tbody>\n",
       "</table>\n",
       "</div>"
      ],
      "text/plain": [
       "        category                                           headline  \\\n",
       "0          CRIME  There Were 2 Mass Shootings In Texas Last Week...   \n",
       "1  ENTERTAINMENT  Will Smith Joins Diplo And Nicky Jam For The 2...   \n",
       "2  ENTERTAINMENT    Hugh Grant Marries For The First Time At Age 57   \n",
       "3  ENTERTAINMENT  Jim Carrey Blasts 'Castrato' Adam Schiff And D...   \n",
       "4  ENTERTAINMENT  Julianna Margulies Uses Donald Trump Poop Bags...   \n",
       "5  ENTERTAINMENT  Morgan Freeman 'Devastated' That Sexual Harass...   \n",
       "6  ENTERTAINMENT  Donald Trump Is Lovin' New McDonald's Jingle I...   \n",
       "7  ENTERTAINMENT  What To Watch On Amazon Prime That’s New This ...   \n",
       "8  ENTERTAINMENT  Mike Myers Reveals He'd 'Like To' Do A Fourth ...   \n",
       "9  ENTERTAINMENT         What To Watch On Hulu That’s New This Week   \n",
       "\n",
       "           authors                                               link  \\\n",
       "0  Melissa Jeltsen  https://www.huffingtonpost.com/entry/texas-ama...   \n",
       "1    Andy McDonald  https://www.huffingtonpost.com/entry/will-smit...   \n",
       "2       Ron Dicker  https://www.huffingtonpost.com/entry/hugh-gran...   \n",
       "3       Ron Dicker  https://www.huffingtonpost.com/entry/jim-carre...   \n",
       "4       Ron Dicker  https://www.huffingtonpost.com/entry/julianna-...   \n",
       "5       Ron Dicker  https://www.huffingtonpost.com/entry/morgan-fr...   \n",
       "6       Ron Dicker  https://www.huffingtonpost.com/entry/donald-tr...   \n",
       "7  Todd Van Luling  https://www.huffingtonpost.com/entry/amazon-pr...   \n",
       "8    Andy McDonald  https://www.huffingtonpost.com/entry/mike-myer...   \n",
       "9  Todd Van Luling  https://www.huffingtonpost.com/entry/hulu-what...   \n",
       "\n",
       "                                   short_description       date  \n",
       "0  She left her husband. He killed their children... 2018-05-26  \n",
       "1                           Of course it has a song. 2018-05-26  \n",
       "2  The actor and his longtime girlfriend Anna Ebe... 2018-05-26  \n",
       "3  The actor gives Dems an ass-kicking for not fi... 2018-05-26  \n",
       "4  The \"Dietland\" actress said using the bags is ... 2018-05-26  \n",
       "5  \"It is not right to equate horrific incidents ... 2018-05-26  \n",
       "6                            It's catchy, all right. 2018-05-26  \n",
       "7     There's a great mini-series joining this week. 2018-05-26  \n",
       "8  Myer's kids may be pushing for a new \"Powers\" ... 2018-05-26  \n",
       "9  You're getting a recent Academy Award-winning ... 2018-05-26  "
      ]
     },
     "execution_count": 3,
     "metadata": {},
     "output_type": "execute_result"
    }
   ],
   "source": [
    "news.head(10)"
   ]
  },
  {
   "cell_type": "code",
   "execution_count": 4,
   "metadata": {},
   "outputs": [
    {
     "name": "stdout",
     "output_type": "stream",
     "text": [
      "<class 'pandas.core.frame.DataFrame'>\n",
      "RangeIndex: 200853 entries, 0 to 200852\n",
      "Data columns (total 6 columns):\n",
      " #   Column             Non-Null Count   Dtype         \n",
      "---  ------             --------------   -----         \n",
      " 0   category           200853 non-null  object        \n",
      " 1   headline           200853 non-null  object        \n",
      " 2   authors            200853 non-null  object        \n",
      " 3   link               200853 non-null  object        \n",
      " 4   short_description  200853 non-null  object        \n",
      " 5   date               200853 non-null  datetime64[ns]\n",
      "dtypes: datetime64[ns](1), object(5)\n",
      "memory usage: 9.2+ MB\n"
     ]
    }
   ],
   "source": [
    "news.info()"
   ]
  },
  {
   "cell_type": "code",
   "execution_count": 5,
   "metadata": {},
   "outputs": [],
   "source": [
    "news = news.drop([\"authors\", \"link\", \"date\"], axis=1)"
   ]
  },
  {
   "cell_type": "markdown",
   "metadata": {},
   "source": [
    "## Удаление строк"
   ]
  },
  {
   "cell_type": "markdown",
   "metadata": {},
   "source": [
    "- Если заголовок и описание - пустые\n",
    "- Дубликаты заголовка"
   ]
  },
  {
   "cell_type": "markdown",
   "metadata": {},
   "source": [
    "Удалим записи, в которых пустой либо заголовк, либо описание"
   ]
  },
  {
   "cell_type": "code",
   "execution_count": 6,
   "metadata": {},
   "outputs": [],
   "source": [
    "news = news.drop(news[(news[\"headline\"] == \"\") | (news[\"short_description\"] == \"\")].index, \n",
    "                 axis=0)"
   ]
  },
  {
   "cell_type": "code",
   "execution_count": 7,
   "metadata": {},
   "outputs": [
    {
     "data": {
      "text/plain": [
       "Sunday Roundup                                                                  90\n",
       "The 20 Funniest Tweets From Women This Week                                     75\n",
       "Weekly Roundup of eBay Vintage Clothing Finds (PHOTOS)                          59\n",
       "Weekly Roundup of eBay Vintage Home Finds (PHOTOS)                              54\n",
       "Watch The Top 9 YouTube Videos Of The Week                                      46\n",
       "                                                                                ..\n",
       "The Best Buffalo Wings in America                                                1\n",
       "Here's Why A Higher SPF Isn't Always Better                                      1\n",
       "When Love is Too Much But Not Enough                                             1\n",
       "GMO Food Labeling Bill Passes In The Senate                                      1\n",
       "Ex-Cons Pick Up Inmates On 1st Day Out To Help Them Transition Into New Life     1\n",
       "Name: headline, Length: 179765, dtype: int64"
      ]
     },
     "execution_count": 7,
     "metadata": {},
     "output_type": "execute_result"
    }
   ],
   "source": [
    "news[\"headline\"].value_counts()"
   ]
  },
  {
   "cell_type": "markdown",
   "metadata": {},
   "source": [
    "Удалили все новости с заголовком Sunday Roundup, кроме первой "
   ]
  },
  {
   "cell_type": "code",
   "execution_count": 8,
   "metadata": {},
   "outputs": [],
   "source": [
    "locs_for_delete = list(news[news[\"headline\"] == \"Sunday Roundup\"].index[1:])"
   ]
  },
  {
   "cell_type": "code",
   "execution_count": 9,
   "metadata": {},
   "outputs": [],
   "source": [
    "news = news.drop(locs_for_delete, \n",
    "                 axis=0)"
   ]
  },
  {
   "cell_type": "code",
   "execution_count": 10,
   "metadata": {},
   "outputs": [
    {
     "data": {
      "text/html": [
       "<div>\n",
       "<style scoped>\n",
       "    .dataframe tbody tr th:only-of-type {\n",
       "        vertical-align: middle;\n",
       "    }\n",
       "\n",
       "    .dataframe tbody tr th {\n",
       "        vertical-align: top;\n",
       "    }\n",
       "\n",
       "    .dataframe thead th {\n",
       "        text-align: right;\n",
       "    }\n",
       "</style>\n",
       "<table border=\"1\" class=\"dataframe\">\n",
       "  <thead>\n",
       "    <tr style=\"text-align: right;\">\n",
       "      <th></th>\n",
       "      <th>category</th>\n",
       "      <th>headline</th>\n",
       "      <th>short_description</th>\n",
       "    </tr>\n",
       "  </thead>\n",
       "  <tbody>\n",
       "    <tr>\n",
       "      <th>0</th>\n",
       "      <td>CRIME</td>\n",
       "      <td>There Were 2 Mass Shootings In Texas Last Week...</td>\n",
       "      <td>She left her husband. He killed their children...</td>\n",
       "    </tr>\n",
       "    <tr>\n",
       "      <th>1</th>\n",
       "      <td>ENTERTAINMENT</td>\n",
       "      <td>Will Smith Joins Diplo And Nicky Jam For The 2...</td>\n",
       "      <td>Of course it has a song.</td>\n",
       "    </tr>\n",
       "    <tr>\n",
       "      <th>2</th>\n",
       "      <td>ENTERTAINMENT</td>\n",
       "      <td>Hugh Grant Marries For The First Time At Age 57</td>\n",
       "      <td>The actor and his longtime girlfriend Anna Ebe...</td>\n",
       "    </tr>\n",
       "    <tr>\n",
       "      <th>3</th>\n",
       "      <td>ENTERTAINMENT</td>\n",
       "      <td>Jim Carrey Blasts 'Castrato' Adam Schiff And D...</td>\n",
       "      <td>The actor gives Dems an ass-kicking for not fi...</td>\n",
       "    </tr>\n",
       "    <tr>\n",
       "      <th>4</th>\n",
       "      <td>ENTERTAINMENT</td>\n",
       "      <td>Julianna Margulies Uses Donald Trump Poop Bags...</td>\n",
       "      <td>The \"Dietland\" actress said using the bags is ...</td>\n",
       "    </tr>\n",
       "    <tr>\n",
       "      <th>...</th>\n",
       "      <td>...</td>\n",
       "      <td>...</td>\n",
       "      <td>...</td>\n",
       "    </tr>\n",
       "    <tr>\n",
       "      <th>200848</th>\n",
       "      <td>TECH</td>\n",
       "      <td>RIM CEO Thorsten Heins' 'Significant' Plans Fo...</td>\n",
       "      <td>Verizon Wireless and AT&amp;T are already promotin...</td>\n",
       "    </tr>\n",
       "    <tr>\n",
       "      <th>200849</th>\n",
       "      <td>SPORTS</td>\n",
       "      <td>Maria Sharapova Stunned By Victoria Azarenka I...</td>\n",
       "      <td>Afterward, Azarenka, more effusive with the pr...</td>\n",
       "    </tr>\n",
       "    <tr>\n",
       "      <th>200850</th>\n",
       "      <td>SPORTS</td>\n",
       "      <td>Giants Over Patriots, Jets Over Colts Among  M...</td>\n",
       "      <td>Leading up to Super Bowl XLVI, the most talked...</td>\n",
       "    </tr>\n",
       "    <tr>\n",
       "      <th>200851</th>\n",
       "      <td>SPORTS</td>\n",
       "      <td>Aldon Smith Arrested: 49ers Linebacker Busted ...</td>\n",
       "      <td>CORRECTION: An earlier version of this story i...</td>\n",
       "    </tr>\n",
       "    <tr>\n",
       "      <th>200852</th>\n",
       "      <td>SPORTS</td>\n",
       "      <td>Dwight Howard Rips Teammates After Magic Loss ...</td>\n",
       "      <td>The five-time all-star center tore into his te...</td>\n",
       "    </tr>\n",
       "  </tbody>\n",
       "</table>\n",
       "<p>181051 rows × 3 columns</p>\n",
       "</div>"
      ],
      "text/plain": [
       "             category                                           headline  \\\n",
       "0               CRIME  There Were 2 Mass Shootings In Texas Last Week...   \n",
       "1       ENTERTAINMENT  Will Smith Joins Diplo And Nicky Jam For The 2...   \n",
       "2       ENTERTAINMENT    Hugh Grant Marries For The First Time At Age 57   \n",
       "3       ENTERTAINMENT  Jim Carrey Blasts 'Castrato' Adam Schiff And D...   \n",
       "4       ENTERTAINMENT  Julianna Margulies Uses Donald Trump Poop Bags...   \n",
       "...               ...                                                ...   \n",
       "200848           TECH  RIM CEO Thorsten Heins' 'Significant' Plans Fo...   \n",
       "200849         SPORTS  Maria Sharapova Stunned By Victoria Azarenka I...   \n",
       "200850         SPORTS  Giants Over Patriots, Jets Over Colts Among  M...   \n",
       "200851         SPORTS  Aldon Smith Arrested: 49ers Linebacker Busted ...   \n",
       "200852         SPORTS  Dwight Howard Rips Teammates After Magic Loss ...   \n",
       "\n",
       "                                        short_description  \n",
       "0       She left her husband. He killed their children...  \n",
       "1                                Of course it has a song.  \n",
       "2       The actor and his longtime girlfriend Anna Ebe...  \n",
       "3       The actor gives Dems an ass-kicking for not fi...  \n",
       "4       The \"Dietland\" actress said using the bags is ...  \n",
       "...                                                   ...  \n",
       "200848  Verizon Wireless and AT&T are already promotin...  \n",
       "200849  Afterward, Azarenka, more effusive with the pr...  \n",
       "200850  Leading up to Super Bowl XLVI, the most talked...  \n",
       "200851  CORRECTION: An earlier version of this story i...  \n",
       "200852  The five-time all-star center tore into his te...  \n",
       "\n",
       "[181051 rows x 3 columns]"
      ]
     },
     "execution_count": 10,
     "metadata": {},
     "output_type": "execute_result"
    }
   ],
   "source": [
    "news"
   ]
  },
  {
   "cell_type": "code",
   "execution_count": 11,
   "metadata": {},
   "outputs": [
    {
     "data": {
      "text/html": [
       "<div>\n",
       "<style scoped>\n",
       "    .dataframe tbody tr th:only-of-type {\n",
       "        vertical-align: middle;\n",
       "    }\n",
       "\n",
       "    .dataframe tbody tr th {\n",
       "        vertical-align: top;\n",
       "    }\n",
       "\n",
       "    .dataframe thead th {\n",
       "        text-align: right;\n",
       "    }\n",
       "</style>\n",
       "<table border=\"1\" class=\"dataframe\">\n",
       "  <thead>\n",
       "    <tr style=\"text-align: right;\">\n",
       "      <th></th>\n",
       "      <th>category</th>\n",
       "      <th>headline</th>\n",
       "      <th>short_description</th>\n",
       "    </tr>\n",
       "  </thead>\n",
       "  <tbody>\n",
       "    <tr>\n",
       "      <th>68</th>\n",
       "      <td>WOMEN</td>\n",
       "      <td>The 20 Funniest Tweets From Women This Week</td>\n",
       "      <td>\"Welcome to adulthood. You have a favorite spa...</td>\n",
       "    </tr>\n",
       "    <tr>\n",
       "      <th>429</th>\n",
       "      <td>WOMEN</td>\n",
       "      <td>The 20 Funniest Tweets From Women This Week</td>\n",
       "      <td>\"Coffee mugs do a lot of heavy lifting when it...</td>\n",
       "    </tr>\n",
       "    <tr>\n",
       "      <th>786</th>\n",
       "      <td>WOMEN</td>\n",
       "      <td>The 20 Funniest Tweets From Women This Week</td>\n",
       "      <td>\"On a scale of Kanye to Donald Glover, how are...</td>\n",
       "    </tr>\n",
       "    <tr>\n",
       "      <th>1171</th>\n",
       "      <td>WOMEN</td>\n",
       "      <td>The 20 Funniest Tweets From Women This Week</td>\n",
       "      <td>\"I'm already stressed out about summer being o...</td>\n",
       "    </tr>\n",
       "    <tr>\n",
       "      <th>1942</th>\n",
       "      <td>WOMEN</td>\n",
       "      <td>The 20 Funniest Tweets From Women This Week</td>\n",
       "      <td>\"Running shoes? No, I don't run. These are my ...</td>\n",
       "    </tr>\n",
       "    <tr>\n",
       "      <th>...</th>\n",
       "      <td>...</td>\n",
       "      <td>...</td>\n",
       "      <td>...</td>\n",
       "    </tr>\n",
       "    <tr>\n",
       "      <th>74185</th>\n",
       "      <td>WOMEN</td>\n",
       "      <td>The 20 Funniest Tweets From Women This Week</td>\n",
       "      <td>The ladies of Twitter never fail to brighten o...</td>\n",
       "    </tr>\n",
       "    <tr>\n",
       "      <th>76082</th>\n",
       "      <td>WOMEN</td>\n",
       "      <td>The 20 Funniest Tweets From Women This Week</td>\n",
       "      <td>The ladies of Twitter never fail to brighten o...</td>\n",
       "    </tr>\n",
       "    <tr>\n",
       "      <th>81129</th>\n",
       "      <td>WOMEN</td>\n",
       "      <td>The 20 Funniest Tweets From Women This Week</td>\n",
       "      <td>The ladies of Twitter never fail to brighten o...</td>\n",
       "    </tr>\n",
       "    <tr>\n",
       "      <th>81724</th>\n",
       "      <td>WOMEN</td>\n",
       "      <td>The 20 Funniest Tweets From Women This Week</td>\n",
       "      <td>The ladies of Twitter never fail to brighten o...</td>\n",
       "    </tr>\n",
       "    <tr>\n",
       "      <th>84200</th>\n",
       "      <td>WOMEN</td>\n",
       "      <td>The 20 Funniest Tweets From Women This Week</td>\n",
       "      <td>The ladies of Twitter never fail to brighten o...</td>\n",
       "    </tr>\n",
       "  </tbody>\n",
       "</table>\n",
       "<p>75 rows × 3 columns</p>\n",
       "</div>"
      ],
      "text/plain": [
       "      category                                     headline  \\\n",
       "68       WOMEN  The 20 Funniest Tweets From Women This Week   \n",
       "429      WOMEN  The 20 Funniest Tweets From Women This Week   \n",
       "786      WOMEN  The 20 Funniest Tweets From Women This Week   \n",
       "1171     WOMEN  The 20 Funniest Tweets From Women This Week   \n",
       "1942     WOMEN  The 20 Funniest Tweets From Women This Week   \n",
       "...        ...                                          ...   \n",
       "74185    WOMEN  The 20 Funniest Tweets From Women This Week   \n",
       "76082    WOMEN  The 20 Funniest Tweets From Women This Week   \n",
       "81129    WOMEN  The 20 Funniest Tweets From Women This Week   \n",
       "81724    WOMEN  The 20 Funniest Tweets From Women This Week   \n",
       "84200    WOMEN  The 20 Funniest Tweets From Women This Week   \n",
       "\n",
       "                                       short_description  \n",
       "68     \"Welcome to adulthood. You have a favorite spa...  \n",
       "429    \"Coffee mugs do a lot of heavy lifting when it...  \n",
       "786    \"On a scale of Kanye to Donald Glover, how are...  \n",
       "1171   \"I'm already stressed out about summer being o...  \n",
       "1942   \"Running shoes? No, I don't run. These are my ...  \n",
       "...                                                  ...  \n",
       "74185  The ladies of Twitter never fail to brighten o...  \n",
       "76082  The ladies of Twitter never fail to brighten o...  \n",
       "81129  The ladies of Twitter never fail to brighten o...  \n",
       "81724  The ladies of Twitter never fail to brighten o...  \n",
       "84200  The ladies of Twitter never fail to brighten o...  \n",
       "\n",
       "[75 rows x 3 columns]"
      ]
     },
     "execution_count": 11,
     "metadata": {},
     "output_type": "execute_result"
    }
   ],
   "source": [
    "news[(news[\"headline\"] == \"The 20 Funniest Tweets From Women This Week\")]"
   ]
  },
  {
   "cell_type": "code",
   "execution_count": 12,
   "metadata": {},
   "outputs": [
    {
     "data": {
      "text/plain": [
       "Welcome to the HuffPost Rise Morning Newsbrief, a short wrap-up of the news to help you start your day.                              192\n",
       "The stress and strain of constantly being connected can sometimes take your life -- and your well-being -- off course. GPS           125\n",
       "Want more? Be sure to check out HuffPost Style on Twitter, Facebook, Tumblr, Pinterest and Instagram at @HuffPostStyle. -- Do         91\n",
       "Do you have a home story idea or tip? Email us at homesubmissions@huffingtonpost.com. (PR pitches sent to this address will           75\n",
       "We all need help maintaining our personal spiritual practice. We hope that these Daily Meditations, prayers and mindful awareness     71\n",
       "                                                                                                                                    ... \n",
       "Turns out fairytales ARE real after all. By day, Gorge de Coaticook is one of Quebec's most precious nature parks with the             1\n",
       "\"Eyebrows are deeply important to me, and this squiggle brow trend is causing me much psychological distress.\"                         1\n",
       "Kristen Bell handled the People's Choice Awards technical error like a pro, though.                                                    1\n",
       "Neither are we, to be honest.                                                                                                          1\n",
       "Tyga, of course, wore his gold chains and grill.                                                                                       1\n",
       "Name: short_description, Length: 178262, dtype: int64"
      ]
     },
     "execution_count": 12,
     "metadata": {},
     "output_type": "execute_result"
    }
   ],
   "source": [
    "news[\"short_description\"].value_counts()"
   ]
  },
  {
   "cell_type": "code",
   "execution_count": 13,
   "metadata": {},
   "outputs": [
    {
     "data": {
      "text/html": [
       "<div>\n",
       "<style scoped>\n",
       "    .dataframe tbody tr th:only-of-type {\n",
       "        vertical-align: middle;\n",
       "    }\n",
       "\n",
       "    .dataframe tbody tr th {\n",
       "        vertical-align: top;\n",
       "    }\n",
       "\n",
       "    .dataframe thead th {\n",
       "        text-align: right;\n",
       "    }\n",
       "</style>\n",
       "<table border=\"1\" class=\"dataframe\">\n",
       "  <thead>\n",
       "    <tr style=\"text-align: right;\">\n",
       "      <th></th>\n",
       "      <th>category</th>\n",
       "      <th>headline</th>\n",
       "      <th>short_description</th>\n",
       "    </tr>\n",
       "  </thead>\n",
       "  <tbody>\n",
       "    <tr>\n",
       "      <th>51112</th>\n",
       "      <td>POLITICS</td>\n",
       "      <td>HuffPost Rise: What You Need To Know On August 9</td>\n",
       "      <td>Welcome to the HuffPost Rise Morning Newsbrief...</td>\n",
       "    </tr>\n",
       "    <tr>\n",
       "      <th>51228</th>\n",
       "      <td>POLITICS</td>\n",
       "      <td>HuffPost Rise: What You Need To Know On August 8</td>\n",
       "      <td>Welcome to the HuffPost Rise Morning Newsbrief...</td>\n",
       "    </tr>\n",
       "    <tr>\n",
       "      <th>51435</th>\n",
       "      <td>POLITICS</td>\n",
       "      <td>HuffPost Rise: What You Need To Know On August 5</td>\n",
       "      <td>Welcome to the HuffPost Rise Morning Newsbrief...</td>\n",
       "    </tr>\n",
       "    <tr>\n",
       "      <th>51569</th>\n",
       "      <td>POLITICS</td>\n",
       "      <td>HuffPost Rise: What You Need To Know On August 4</td>\n",
       "      <td>Welcome to the HuffPost Rise Morning Newsbrief...</td>\n",
       "    </tr>\n",
       "    <tr>\n",
       "      <th>51662</th>\n",
       "      <td>POLITICS</td>\n",
       "      <td>HuffPost Rise: What You Need To Know On August 3</td>\n",
       "      <td>Welcome to the HuffPost Rise Morning Newsbrief...</td>\n",
       "    </tr>\n",
       "    <tr>\n",
       "      <th>...</th>\n",
       "      <td>...</td>\n",
       "      <td>...</td>\n",
       "      <td>...</td>\n",
       "    </tr>\n",
       "    <tr>\n",
       "      <th>78329</th>\n",
       "      <td>POLITICS</td>\n",
       "      <td>HuffPost Rise Morning Newsbrief, October 5</td>\n",
       "      <td>Welcome to the HuffPost Rise Morning Newsbrief...</td>\n",
       "    </tr>\n",
       "    <tr>\n",
       "      <th>78611</th>\n",
       "      <td>POLITICS</td>\n",
       "      <td>HuffPost Rise Morning Newsbrief, October 2</td>\n",
       "      <td>Welcome to the HuffPost Rise Morning Newsbrief...</td>\n",
       "    </tr>\n",
       "    <tr>\n",
       "      <th>78666</th>\n",
       "      <td>POLITICS</td>\n",
       "      <td>HuffPost Rise Morning Newsbrief, October 1</td>\n",
       "      <td>Welcome to the HuffPost Rise Morning Newsbrief...</td>\n",
       "    </tr>\n",
       "    <tr>\n",
       "      <th>78758</th>\n",
       "      <td>POLITICS</td>\n",
       "      <td>HuffPost Rise Morning Newsbrief, September 30</td>\n",
       "      <td>Welcome to the HuffPost Rise Morning Newsbrief...</td>\n",
       "    </tr>\n",
       "    <tr>\n",
       "      <th>78970</th>\n",
       "      <td>POLITICS</td>\n",
       "      <td>HuffPost Rise Morning Newsbrief, September 28</td>\n",
       "      <td>Welcome to the HuffPost Rise Morning Newsbrief...</td>\n",
       "    </tr>\n",
       "  </tbody>\n",
       "</table>\n",
       "<p>192 rows × 3 columns</p>\n",
       "</div>"
      ],
      "text/plain": [
       "       category                                          headline  \\\n",
       "51112  POLITICS  HuffPost Rise: What You Need To Know On August 9   \n",
       "51228  POLITICS  HuffPost Rise: What You Need To Know On August 8   \n",
       "51435  POLITICS  HuffPost Rise: What You Need To Know On August 5   \n",
       "51569  POLITICS  HuffPost Rise: What You Need To Know On August 4   \n",
       "51662  POLITICS  HuffPost Rise: What You Need To Know On August 3   \n",
       "...         ...                                               ...   \n",
       "78329  POLITICS        HuffPost Rise Morning Newsbrief, October 5   \n",
       "78611  POLITICS        HuffPost Rise Morning Newsbrief, October 2   \n",
       "78666  POLITICS        HuffPost Rise Morning Newsbrief, October 1   \n",
       "78758  POLITICS     HuffPost Rise Morning Newsbrief, September 30   \n",
       "78970  POLITICS     HuffPost Rise Morning Newsbrief, September 28   \n",
       "\n",
       "                                       short_description  \n",
       "51112  Welcome to the HuffPost Rise Morning Newsbrief...  \n",
       "51228  Welcome to the HuffPost Rise Morning Newsbrief...  \n",
       "51435  Welcome to the HuffPost Rise Morning Newsbrief...  \n",
       "51569  Welcome to the HuffPost Rise Morning Newsbrief...  \n",
       "51662  Welcome to the HuffPost Rise Morning Newsbrief...  \n",
       "...                                                  ...  \n",
       "78329  Welcome to the HuffPost Rise Morning Newsbrief...  \n",
       "78611  Welcome to the HuffPost Rise Morning Newsbrief...  \n",
       "78666  Welcome to the HuffPost Rise Morning Newsbrief...  \n",
       "78758  Welcome to the HuffPost Rise Morning Newsbrief...  \n",
       "78970  Welcome to the HuffPost Rise Morning Newsbrief...  \n",
       "\n",
       "[192 rows x 3 columns]"
      ]
     },
     "execution_count": 13,
     "metadata": {},
     "output_type": "execute_result"
    }
   ],
   "source": [
    "news[news[\"short_description\"] == \"Welcome to the HuffPost Rise Morning Newsbrief, a short wrap-up of the news to help you start your day.\"]"
   ]
  },
  {
   "cell_type": "code",
   "execution_count": 14,
   "metadata": {},
   "outputs": [
    {
     "data": {
      "text/html": [
       "<div>\n",
       "<style scoped>\n",
       "    .dataframe tbody tr th:only-of-type {\n",
       "        vertical-align: middle;\n",
       "    }\n",
       "\n",
       "    .dataframe tbody tr th {\n",
       "        vertical-align: top;\n",
       "    }\n",
       "\n",
       "    .dataframe thead th {\n",
       "        text-align: right;\n",
       "    }\n",
       "</style>\n",
       "<table border=\"1\" class=\"dataframe\">\n",
       "  <thead>\n",
       "    <tr style=\"text-align: right;\">\n",
       "      <th></th>\n",
       "      <th>category</th>\n",
       "      <th>headline</th>\n",
       "      <th>short_description</th>\n",
       "    </tr>\n",
       "  </thead>\n",
       "  <tbody>\n",
       "    <tr>\n",
       "      <th>49607</th>\n",
       "      <td>POLITICS</td>\n",
       "      <td>HuffPost Rise: What You Need To Know On August...</td>\n",
       "      <td>Donald Trump’s campaign chief is under scrutin...</td>\n",
       "    </tr>\n",
       "    <tr>\n",
       "      <th>51112</th>\n",
       "      <td>POLITICS</td>\n",
       "      <td>HuffPost Rise: What You Need To Know On August 9</td>\n",
       "      <td>Welcome to the HuffPost Rise Morning Newsbrief...</td>\n",
       "    </tr>\n",
       "    <tr>\n",
       "      <th>51228</th>\n",
       "      <td>POLITICS</td>\n",
       "      <td>HuffPost Rise: What You Need To Know On August 8</td>\n",
       "      <td>Welcome to the HuffPost Rise Morning Newsbrief...</td>\n",
       "    </tr>\n",
       "    <tr>\n",
       "      <th>51435</th>\n",
       "      <td>POLITICS</td>\n",
       "      <td>HuffPost Rise: What You Need To Know On August 5</td>\n",
       "      <td>Welcome to the HuffPost Rise Morning Newsbrief...</td>\n",
       "    </tr>\n",
       "    <tr>\n",
       "      <th>51569</th>\n",
       "      <td>POLITICS</td>\n",
       "      <td>HuffPost Rise: What You Need To Know On August 4</td>\n",
       "      <td>Welcome to the HuffPost Rise Morning Newsbrief...</td>\n",
       "    </tr>\n",
       "    <tr>\n",
       "      <th>...</th>\n",
       "      <td>...</td>\n",
       "      <td>...</td>\n",
       "      <td>...</td>\n",
       "    </tr>\n",
       "    <tr>\n",
       "      <th>72673</th>\n",
       "      <td>POLITICS</td>\n",
       "      <td>HuffPost Rise: What You Need To Know On Decemb...</td>\n",
       "      <td>Welcome to the HuffPost Rise Morning Newsbrief...</td>\n",
       "    </tr>\n",
       "    <tr>\n",
       "      <th>72946</th>\n",
       "      <td>POLITICS</td>\n",
       "      <td>HuffPost Rise: What You Need To Know On Decemb...</td>\n",
       "      <td>Welcome to the HuffPost Rise Morning Newsbrief...</td>\n",
       "    </tr>\n",
       "    <tr>\n",
       "      <th>73024</th>\n",
       "      <td>POLITICS</td>\n",
       "      <td>HuffPost Rise: What You Need To Know On Decemb...</td>\n",
       "      <td>Welcome to the HuffPost Rise Morning Newsbrief...</td>\n",
       "    </tr>\n",
       "    <tr>\n",
       "      <th>73101</th>\n",
       "      <td>POLITICS</td>\n",
       "      <td>HuffPost Rise: What You Need To Know On Decemb...</td>\n",
       "      <td>Welcome to the HuffPost Rise Morning Newsbrief...</td>\n",
       "    </tr>\n",
       "    <tr>\n",
       "      <th>73210</th>\n",
       "      <td>POLITICS</td>\n",
       "      <td>HuffPost Rise: What You Need To Know On Decemb...</td>\n",
       "      <td>Welcome to the HuffPost Rise Morning Newsbrief...</td>\n",
       "    </tr>\n",
       "  </tbody>\n",
       "</table>\n",
       "<p>164 rows × 3 columns</p>\n",
       "</div>"
      ],
      "text/plain": [
       "       category                                           headline  \\\n",
       "49607  POLITICS  HuffPost Rise: What You Need To Know On August...   \n",
       "51112  POLITICS   HuffPost Rise: What You Need To Know On August 9   \n",
       "51228  POLITICS   HuffPost Rise: What You Need To Know On August 8   \n",
       "51435  POLITICS   HuffPost Rise: What You Need To Know On August 5   \n",
       "51569  POLITICS   HuffPost Rise: What You Need To Know On August 4   \n",
       "...         ...                                                ...   \n",
       "72673  POLITICS  HuffPost Rise: What You Need To Know On Decemb...   \n",
       "72946  POLITICS  HuffPost Rise: What You Need To Know On Decemb...   \n",
       "73024  POLITICS  HuffPost Rise: What You Need To Know On Decemb...   \n",
       "73101  POLITICS  HuffPost Rise: What You Need To Know On Decemb...   \n",
       "73210  POLITICS  HuffPost Rise: What You Need To Know On Decemb...   \n",
       "\n",
       "                                       short_description  \n",
       "49607  Donald Trump’s campaign chief is under scrutin...  \n",
       "51112  Welcome to the HuffPost Rise Morning Newsbrief...  \n",
       "51228  Welcome to the HuffPost Rise Morning Newsbrief...  \n",
       "51435  Welcome to the HuffPost Rise Morning Newsbrief...  \n",
       "51569  Welcome to the HuffPost Rise Morning Newsbrief...  \n",
       "...                                                  ...  \n",
       "72673  Welcome to the HuffPost Rise Morning Newsbrief...  \n",
       "72946  Welcome to the HuffPost Rise Morning Newsbrief...  \n",
       "73024  Welcome to the HuffPost Rise Morning Newsbrief...  \n",
       "73101  Welcome to the HuffPost Rise Morning Newsbrief...  \n",
       "73210  Welcome to the HuffPost Rise Morning Newsbrief...  \n",
       "\n",
       "[164 rows x 3 columns]"
      ]
     },
     "execution_count": 14,
     "metadata": {},
     "output_type": "execute_result"
    }
   ],
   "source": [
    "news[news[\"headline\"].str.contains(\"HuffPost Rise: What You Need To Know On\") # выбрать записи, в которых headline содержит HuffPost Rise: What You Need To Know On\n",
    "    ]"
   ]
  },
  {
   "cell_type": "code",
   "execution_count": 15,
   "metadata": {},
   "outputs": [],
   "source": [
    "news[\"headline\"] = news[\"headline\"].apply(lambda x: \"HuffPost Rise: What You Need To Know On\" if \"HuffPost Rise: What You Need To Know On\" in x else x)"
   ]
  },
  {
   "cell_type": "code",
   "execution_count": 16,
   "metadata": {},
   "outputs": [],
   "source": [
    "news[\"headline\"] = news[\"headline\"].apply(lambda x: \"HuffPost Rise Morning Newsbrief\" if \"HuffPost Rise Morning Newsbrief\" in x else x)"
   ]
  },
  {
   "cell_type": "markdown",
   "metadata": {},
   "source": [
    "## Предобработка"
   ]
  },
  {
   "cell_type": "code",
   "execution_count": 17,
   "metadata": {},
   "outputs": [
    {
     "name": "stderr",
     "output_type": "stream",
     "text": [
      "[nltk_data] Downloading package stopwords to\n",
      "[nltk_data]     /Users/anastasialobkina/nltk_data...\n",
      "[nltk_data]   Package stopwords is already up-to-date!\n",
      "[nltk_data] Downloading package wordnet to\n",
      "[nltk_data]     /Users/anastasialobkina/nltk_data...\n",
      "[nltk_data]   Package wordnet is already up-to-date!\n"
     ]
    },
    {
     "data": {
      "text/plain": [
       "True"
      ]
     },
     "execution_count": 17,
     "metadata": {},
     "output_type": "execute_result"
    }
   ],
   "source": [
    "import re\n",
    "import nltk\n",
    "from nltk.corpus import stopwords\n",
    "from nltk.tokenize import word_tokenize\n",
    "\n",
    "nltk.download('stopwords')\n",
    "nltk.download('wordnet')"
   ]
  },
  {
   "cell_type": "code",
   "execution_count": 18,
   "metadata": {},
   "outputs": [],
   "source": [
    "contractions = { \n",
    "\"ain't\": \"am not\",\n",
    "\"aren't\": \"are not\",\n",
    "\"can't\": \"cannot\",\n",
    "\"can't've\": \"cannot have\",\n",
    "\"'cause\": \"because\",\n",
    "\"could've\": \"could have\",\n",
    "\"couldn't\": \"could not\",\n",
    "\"couldn't've\": \"could not have\",\n",
    "\"didn't\": \"did not\",\n",
    "\"doesn't\": \"does not\",\n",
    "\"don't\": \"do not\",\n",
    "\"hadn't\": \"had not\",\n",
    "\"hadn't've\": \"had not have\",\n",
    "\"hasn't\": \"has not\",\n",
    "\"haven't\": \"have not\",\n",
    "\"he'd\": \"he would\",\n",
    "\"he'd've\": \"he would have\",\n",
    "\"he'll\": \"he will\",\n",
    "\"he'll've\": \"he will have\",\n",
    "\"he's\": \"he is\",\n",
    "\"how'd\": \"how did\",\n",
    "\"how'd'y\": \"how do you\",\n",
    "\"how'll\": \"how will\",\n",
    "\"how's\": \"how does\",\n",
    "\"i'd\": \"i would\",\n",
    "\"i'd've\": \"i would have\",\n",
    "\"i'll\": \"i will\",\n",
    "\"i'll've\": \"i will have\",\n",
    "\"i'm\": \"i am\",\n",
    "\"i've\": \"i have\",\n",
    "\"isn't\": \"is not\",\n",
    "\"it'd\": \"it would\",\n",
    "\"it'd've\": \"it would have\",\n",
    "\"it'll\": \"it will\",\n",
    "\"it'll've\": \"it will have\",\n",
    "\"it's\": \"it is\",\n",
    "\"let's\": \"let us\",\n",
    "\"ma'am\": \"madam\",\n",
    "\"mayn't\": \"may not\",\n",
    "\"might've\": \"might have\",\n",
    "\"mightn't\": \"might not\",\n",
    "\"mightn't've\": \"might not have\",\n",
    "\"must've\": \"must have\",\n",
    "\"mustn't\": \"must not\",\n",
    "\"mustn't've\": \"must not have\",\n",
    "\"needn't\": \"need not\",\n",
    "\"needn't've\": \"need not have\",\n",
    "\"o'clock\": \"of the clock\",\n",
    "\"oughtn't\": \"ought not\",\n",
    "\"oughtn't've\": \"ought not have\",\n",
    "\"shan't\": \"shall not\",\n",
    "\"sha'n't\": \"shall not\",\n",
    "\"shan't've\": \"shall not have\",\n",
    "\"she'd\": \"she would\",\n",
    "\"she'd've\": \"she would have\",\n",
    "\"she'll\": \"she will\",\n",
    "\"she'll've\": \"she will have\",\n",
    "\"she's\": \"she is\",\n",
    "\"should've\": \"should have\",\n",
    "\"shouldn't\": \"should not\",\n",
    "\"shouldn't've\": \"should not have\",\n",
    "\"so've\": \"so have\",\n",
    "\"so's\": \"so is\",\n",
    "\"that'd\": \"that would\",\n",
    "\"that'd've\": \"that would have\",\n",
    "\"that's\": \"that is\",\n",
    "\"there'd\": \"there would\",\n",
    "\"there'd've\": \"there would have\",\n",
    "\"there's\": \"there is\",\n",
    "\"they'd\": \"they would\",\n",
    "\"they'd've\": \"they would have\",\n",
    "\"they'll\": \"they will\",\n",
    "\"they'll've\": \"they will have\",\n",
    "\"they're\": \"they are\",\n",
    "\"they've\": \"they have\",\n",
    "\"to've\": \"to have\",\n",
    "\"wasn't\": \"was not\",\n",
    "\" u \": \" you \",\n",
    "\" ur \": \" your \",\n",
    "\" n \": \" and \",\n",
    "\"won't\": \"would not\",\n",
    "\"you're\": \"you are\",\n",
    "\"you'll\": \"you will\",\n",
    "\"you've\": \"you have\",\n",
    "\"you'd\": \"you would\",\n",
    "\"you'd've\": \"you would have\",\n",
    "\"you'll've\": \"you will have\",\n",
    "\"here's\" : \"here is\",\n",
    "\"there's\" : \"there is\",\n",
    "\"where's\": \"where is\"\n",
    "}"
   ]
  },
  {
   "cell_type": "code",
   "execution_count": 19,
   "metadata": {},
   "outputs": [],
   "source": [
    "def proprocess(text):\n",
    "    text = re.sub(\"[\\W ]+\", \" \", text)\n",
    "    text = text.lower()\n",
    "    for cont in contractions:\n",
    "        if cont in text:\n",
    "            text = text.replace(cont, contractions[cont])\n",
    "    return text"
   ]
  },
  {
   "cell_type": "code",
   "execution_count": 20,
   "metadata": {},
   "outputs": [],
   "source": [
    "stop_words = stopwords.words('english')\n",
    "\n",
    "def remove_stops(text):\n",
    "    text = word_tokenize(text)\n",
    "    text = [word for word in text if word not in stop_words]\n",
    "    return text"
   ]
  },
  {
   "cell_type": "code",
   "execution_count": 22,
   "metadata": {},
   "outputs": [],
   "source": [
    "text = \"Metropolitan Community Churches are proud to say marriage equality has been part of our DNA for almost 50 years. One of the first things our founder, Rev. Elder Troy Perry, did after forming Metropolitan Community Church in 1968 was to begin performing marriage ceremonies.\""
   ]
  },
  {
   "cell_type": "code",
   "execution_count": 22,
   "metadata": {},
   "outputs": [
    {
     "data": {
      "text/html": [
       "<div>\n",
       "<style scoped>\n",
       "    .dataframe tbody tr th:only-of-type {\n",
       "        vertical-align: middle;\n",
       "    }\n",
       "\n",
       "    .dataframe tbody tr th {\n",
       "        vertical-align: top;\n",
       "    }\n",
       "\n",
       "    .dataframe thead th {\n",
       "        text-align: right;\n",
       "    }\n",
       "</style>\n",
       "<table border=\"1\" class=\"dataframe\">\n",
       "  <thead>\n",
       "    <tr style=\"text-align: right;\">\n",
       "      <th></th>\n",
       "      <th>category</th>\n",
       "      <th>headline</th>\n",
       "      <th>short_description</th>\n",
       "      <th>headline_pr</th>\n",
       "      <th>short_description_pr</th>\n",
       "    </tr>\n",
       "  </thead>\n",
       "  <tbody>\n",
       "    <tr>\n",
       "      <th>0</th>\n",
       "      <td>CRIME</td>\n",
       "      <td>There Were 2 Mass Shootings In Texas Last Week...</td>\n",
       "      <td>She left her husband. He killed their children...</td>\n",
       "      <td>[2, mass, shootings, texas, last, week, 1, tv]</td>\n",
       "      <td>[left, husband, killed, children, another, day...</td>\n",
       "    </tr>\n",
       "    <tr>\n",
       "      <th>1</th>\n",
       "      <td>ENTERTAINMENT</td>\n",
       "      <td>Will Smith Joins Diplo And Nicky Jam For The 2...</td>\n",
       "      <td>Of course it has a song.</td>\n",
       "      <td>[smith, joins, diplo, nicky, jam, 2018, world,...</td>\n",
       "      <td>[course, song]</td>\n",
       "    </tr>\n",
       "    <tr>\n",
       "      <th>2</th>\n",
       "      <td>ENTERTAINMENT</td>\n",
       "      <td>Hugh Grant Marries For The First Time At Age 57</td>\n",
       "      <td>The actor and his longtime girlfriend Anna Ebe...</td>\n",
       "      <td>[hugh, grant, marries, first, time, age, 57]</td>\n",
       "      <td>[actor, longtime, girlfriend, anna, eberstein,...</td>\n",
       "    </tr>\n",
       "    <tr>\n",
       "      <th>3</th>\n",
       "      <td>ENTERTAINMENT</td>\n",
       "      <td>Jim Carrey Blasts 'Castrato' Adam Schiff And D...</td>\n",
       "      <td>The actor gives Dems an ass-kicking for not fi...</td>\n",
       "      <td>[jim, carrey, blasts, castrato, adam, schiff, ...</td>\n",
       "      <td>[actor, gives, dems, ass, kicking, fighting, h...</td>\n",
       "    </tr>\n",
       "    <tr>\n",
       "      <th>4</th>\n",
       "      <td>ENTERTAINMENT</td>\n",
       "      <td>Julianna Margulies Uses Donald Trump Poop Bags...</td>\n",
       "      <td>The \"Dietland\" actress said using the bags is ...</td>\n",
       "      <td>[julianna, margulies, uses, donald, trump, poo...</td>\n",
       "      <td>[dietland, actress, said, using, bags, really,...</td>\n",
       "    </tr>\n",
       "    <tr>\n",
       "      <th>...</th>\n",
       "      <td>...</td>\n",
       "      <td>...</td>\n",
       "      <td>...</td>\n",
       "      <td>...</td>\n",
       "      <td>...</td>\n",
       "    </tr>\n",
       "    <tr>\n",
       "      <th>200848</th>\n",
       "      <td>TECH</td>\n",
       "      <td>RIM CEO Thorsten Heins' 'Significant' Plans Fo...</td>\n",
       "      <td>Verizon Wireless and AT&amp;T are already promotin...</td>\n",
       "      <td>[rim, ceo, thorsten, heins, significant, plans...</td>\n",
       "      <td>[verizon, wireless, already, promoting, lte, d...</td>\n",
       "    </tr>\n",
       "    <tr>\n",
       "      <th>200849</th>\n",
       "      <td>SPORTS</td>\n",
       "      <td>Maria Sharapova Stunned By Victoria Azarenka I...</td>\n",
       "      <td>Afterward, Azarenka, more effusive with the pr...</td>\n",
       "      <td>[maria, sharapova, stunned, victoria, azarenka...</td>\n",
       "      <td>[afterward, azarenka, effusive, press, normal,...</td>\n",
       "    </tr>\n",
       "    <tr>\n",
       "      <th>200850</th>\n",
       "      <td>SPORTS</td>\n",
       "      <td>Giants Over Patriots, Jets Over Colts Among  M...</td>\n",
       "      <td>Leading up to Super Bowl XLVI, the most talked...</td>\n",
       "      <td>[giants, patriots, jets, colts, among, improba...</td>\n",
       "      <td>[leading, super, bowl, xlvi, talked, game, cou...</td>\n",
       "    </tr>\n",
       "    <tr>\n",
       "      <th>200851</th>\n",
       "      <td>SPORTS</td>\n",
       "      <td>Aldon Smith Arrested: 49ers Linebacker Busted ...</td>\n",
       "      <td>CORRECTION: An earlier version of this story i...</td>\n",
       "      <td>[aldon, smith, arrested, 49ers, linebacker, bu...</td>\n",
       "      <td>[correction, earlier, version, story, incorrec...</td>\n",
       "    </tr>\n",
       "    <tr>\n",
       "      <th>200852</th>\n",
       "      <td>SPORTS</td>\n",
       "      <td>Dwight Howard Rips Teammates After Magic Loss ...</td>\n",
       "      <td>The five-time all-star center tore into his te...</td>\n",
       "      <td>[dwight, howard, rips, teammates, magic, loss,...</td>\n",
       "      <td>[five, time, star, center, tore, teammates, fr...</td>\n",
       "    </tr>\n",
       "  </tbody>\n",
       "</table>\n",
       "<p>181051 rows × 5 columns</p>\n",
       "</div>"
      ],
      "text/plain": [
       "             category                                           headline  \\\n",
       "0               CRIME  There Were 2 Mass Shootings In Texas Last Week...   \n",
       "1       ENTERTAINMENT  Will Smith Joins Diplo And Nicky Jam For The 2...   \n",
       "2       ENTERTAINMENT    Hugh Grant Marries For The First Time At Age 57   \n",
       "3       ENTERTAINMENT  Jim Carrey Blasts 'Castrato' Adam Schiff And D...   \n",
       "4       ENTERTAINMENT  Julianna Margulies Uses Donald Trump Poop Bags...   \n",
       "...               ...                                                ...   \n",
       "200848           TECH  RIM CEO Thorsten Heins' 'Significant' Plans Fo...   \n",
       "200849         SPORTS  Maria Sharapova Stunned By Victoria Azarenka I...   \n",
       "200850         SPORTS  Giants Over Patriots, Jets Over Colts Among  M...   \n",
       "200851         SPORTS  Aldon Smith Arrested: 49ers Linebacker Busted ...   \n",
       "200852         SPORTS  Dwight Howard Rips Teammates After Magic Loss ...   \n",
       "\n",
       "                                        short_description  \\\n",
       "0       She left her husband. He killed their children...   \n",
       "1                                Of course it has a song.   \n",
       "2       The actor and his longtime girlfriend Anna Ebe...   \n",
       "3       The actor gives Dems an ass-kicking for not fi...   \n",
       "4       The \"Dietland\" actress said using the bags is ...   \n",
       "...                                                   ...   \n",
       "200848  Verizon Wireless and AT&T are already promotin...   \n",
       "200849  Afterward, Azarenka, more effusive with the pr...   \n",
       "200850  Leading up to Super Bowl XLVI, the most talked...   \n",
       "200851  CORRECTION: An earlier version of this story i...   \n",
       "200852  The five-time all-star center tore into his te...   \n",
       "\n",
       "                                              headline_pr  \\\n",
       "0          [2, mass, shootings, texas, last, week, 1, tv]   \n",
       "1       [smith, joins, diplo, nicky, jam, 2018, world,...   \n",
       "2            [hugh, grant, marries, first, time, age, 57]   \n",
       "3       [jim, carrey, blasts, castrato, adam, schiff, ...   \n",
       "4       [julianna, margulies, uses, donald, trump, poo...   \n",
       "...                                                   ...   \n",
       "200848  [rim, ceo, thorsten, heins, significant, plans...   \n",
       "200849  [maria, sharapova, stunned, victoria, azarenka...   \n",
       "200850  [giants, patriots, jets, colts, among, improba...   \n",
       "200851  [aldon, smith, arrested, 49ers, linebacker, bu...   \n",
       "200852  [dwight, howard, rips, teammates, magic, loss,...   \n",
       "\n",
       "                                     short_description_pr  \n",
       "0       [left, husband, killed, children, another, day...  \n",
       "1                                          [course, song]  \n",
       "2       [actor, longtime, girlfriend, anna, eberstein,...  \n",
       "3       [actor, gives, dems, ass, kicking, fighting, h...  \n",
       "4       [dietland, actress, said, using, bags, really,...  \n",
       "...                                                   ...  \n",
       "200848  [verizon, wireless, already, promoting, lte, d...  \n",
       "200849  [afterward, azarenka, effusive, press, normal,...  \n",
       "200850  [leading, super, bowl, xlvi, talked, game, cou...  \n",
       "200851  [correction, earlier, version, story, incorrec...  \n",
       "200852  [five, time, star, center, tore, teammates, fr...  \n",
       "\n",
       "[181051 rows x 5 columns]"
      ]
     },
     "execution_count": 22,
     "metadata": {},
     "output_type": "execute_result"
    }
   ],
   "source": [
    "news[\"headline_pr\"] = news[\"headline\"].apply(lambda x: remove_stops(proprocess(x)))\n",
    "news[\"short_description_pr\"] = news[\"short_description\"].apply(lambda x: remove_stops(proprocess(x)))\n",
    "news"
   ]
  },
  {
   "cell_type": "markdown",
   "metadata": {},
   "source": [
    "### Лемматизация"
   ]
  },
  {
   "cell_type": "code",
   "execution_count": 23,
   "metadata": {},
   "outputs": [],
   "source": [
    "lemmatizer = nltk.stem.WordNetLemmatizer()"
   ]
  },
  {
   "cell_type": "code",
   "execution_count": 24,
   "metadata": {},
   "outputs": [],
   "source": [
    "def lemmatize(text):\n",
    "    text = [lemmatizer.lemmatize(word) for word in text]\n",
    "    return text"
   ]
  },
  {
   "cell_type": "code",
   "execution_count": 25,
   "metadata": {},
   "outputs": [],
   "source": [
    "news[\"headline_pr\"] = news[\"headline_pr\"].apply(lambda x: lemmatize(x))\n",
    "news[\"short_description_pr\"] = news[\"short_description_pr\"].apply(lambda x: lemmatize(x))"
   ]
  },
  {
   "cell_type": "markdown",
   "metadata": {},
   "source": [
    "**Объединим столбцы заголовков и описания**"
   ]
  },
  {
   "cell_type": "code",
   "execution_count": 46,
   "metadata": {},
   "outputs": [],
   "source": [
    "news[\"union_pr\"] = news.apply(lambda x: \" \".join(x[\"headline_pr\"]) + \" \".join(x[\"short_description_pr\"]), axis=1)"
   ]
  },
  {
   "cell_type": "markdown",
   "metadata": {},
   "source": [
    "## Получим вектора"
   ]
  },
  {
   "cell_type": "code",
   "execution_count": 47,
   "metadata": {},
   "outputs": [
    {
     "data": {
      "text/plain": [
       "array([[0, 0, 0, ..., 0, 0, 0],\n",
       "       [0, 0, 0, ..., 0, 0, 0],\n",
       "       [0, 0, 0, ..., 0, 0, 0],\n",
       "       ...,\n",
       "       [0, 0, 0, ..., 0, 0, 0],\n",
       "       [0, 0, 0, ..., 0, 0, 0],\n",
       "       [0, 0, 0, ..., 0, 0, 0]])"
      ]
     },
     "execution_count": 47,
     "metadata": {},
     "output_type": "execute_result"
    }
   ],
   "source": [
    "vectorizer = CountVectorizer()\n",
    "X = vectorizer.fit_transform(news[\"union_pr\"])\n",
    "X.toarray()"
   ]
  },
  {
   "cell_type": "code",
   "execution_count": 59,
   "metadata": {},
   "outputs": [],
   "source": [
    "tf_idf = TfidfVectorizer()\n",
    "X = vectorizer.fit_transform(news[\"union_pr\"])"
   ]
  },
  {
   "cell_type": "markdown",
   "metadata": {},
   "source": [
    "## LinearSVC"
   ]
  },
  {
   "cell_type": "markdown",
   "metadata": {},
   "source": [
    "### Разделим данные "
   ]
  },
  {
   "cell_type": "code",
   "execution_count": 48,
   "metadata": {},
   "outputs": [
    {
     "data": {
      "text/plain": [
       "POLITICS          29489\n",
       "WELLNESS          17825\n",
       "ENTERTAINMENT     13470\n",
       "STYLE & BEAUTY     9637\n",
       "TRAVEL             9408\n",
       "PARENTING          8676\n",
       "FOOD & DRINK       6217\n",
       "QUEER VOICES       5570\n",
       "HEALTHY LIVING     5265\n",
       "BUSINESS           5077\n",
       "COMEDY             4417\n",
       "SPORTS             4221\n",
       "HOME & LIVING      4192\n",
       "BLACK VOICES       4122\n",
       "THE WORLDPOST      3664\n",
       "WEDDINGS           3651\n",
       "PARENTS            3556\n",
       "DIVORCE            3426\n",
       "WOMEN              3102\n",
       "IMPACT             3061\n",
       "CRIME              2675\n",
       "MEDIA              2275\n",
       "WEIRD NEWS         2209\n",
       "WORLD NEWS         2175\n",
       "TECH               2081\n",
       "GREEN              2046\n",
       "TASTE              1940\n",
       "RELIGION           1857\n",
       "SCIENCE            1775\n",
       "MONEY              1706\n",
       "STYLE              1567\n",
       "ARTS & CULTURE     1339\n",
       "ENVIRONMENT        1321\n",
       "WORLDPOST          1242\n",
       "FIFTY              1042\n",
       "GOOD NEWS          1039\n",
       "LATINO VOICES      1021\n",
       "CULTURE & ARTS     1019\n",
       "COLLEGE             921\n",
       "EDUCATION           892\n",
       "ARTS                863\n",
       "Name: category, dtype: int64"
      ]
     },
     "execution_count": 48,
     "metadata": {},
     "output_type": "execute_result"
    }
   ],
   "source": [
    "news['category'].value_counts()"
   ]
  },
  {
   "cell_type": "code",
   "execution_count": 60,
   "metadata": {},
   "outputs": [],
   "source": [
    "y = news['category']"
   ]
  },
  {
   "cell_type": "code",
   "execution_count": 61,
   "metadata": {},
   "outputs": [],
   "source": [
    "X_train, X_test, y_train, y_test = model_selection.train_test_split(X, y, test_size = 0.33) "
   ]
  },
  {
   "cell_type": "code",
   "execution_count": 66,
   "metadata": {},
   "outputs": [],
   "source": [
    "from sklearn.svm import LinearSVC\n",
    "clf = LinearSVC(C=3) # Попробовать разные значения C"
   ]
  },
  {
   "cell_type": "code",
   "execution_count": 67,
   "metadata": {},
   "outputs": [
    {
     "name": "stderr",
     "output_type": "stream",
     "text": [
      "/Users/anastasialobkina/anaconda3/lib/python3.7/site-packages/sklearn/svm/base.py:929: ConvergenceWarning: Liblinear failed to converge, increase the number of iterations.\n",
      "  \"the number of iterations.\", ConvergenceWarning)\n"
     ]
    },
    {
     "data": {
      "text/plain": [
       "LinearSVC(C=3, class_weight=None, dual=True, fit_intercept=True,\n",
       "          intercept_scaling=1, loss='squared_hinge', max_iter=1000,\n",
       "          multi_class='ovr', penalty='l2', random_state=None, tol=0.0001,\n",
       "          verbose=0)"
      ]
     },
     "execution_count": 67,
     "metadata": {},
     "output_type": "execute_result"
    }
   ],
   "source": [
    "clf.fit(X_train, y_train)"
   ]
  },
  {
   "cell_type": "code",
   "execution_count": 68,
   "metadata": {},
   "outputs": [
    {
     "data": {
      "text/plain": [
       "array(['TRAVEL', 'POLITICS', 'HEALTHY LIVING', ..., 'STYLE & BEAUTY',\n",
       "       'SPORTS', 'SCIENCE'], dtype=object)"
      ]
     },
     "execution_count": 68,
     "metadata": {},
     "output_type": "execute_result"
    }
   ],
   "source": [
    "y_pred = clf.predict(X_test)\n",
    "y_pred"
   ]
  },
  {
   "cell_type": "code",
   "execution_count": 55,
   "metadata": {},
   "outputs": [
    {
     "name": "stdout",
     "output_type": "stream",
     "text": [
      "                precision    recall  f1-score   support\n",
      "\n",
      "          ARTS       0.48      0.14      0.22       298\n",
      "ARTS & CULTURE       0.42      0.14      0.20       428\n",
      "  BLACK VOICES       0.53      0.35      0.43      1364\n",
      "      BUSINESS       0.52      0.43      0.47      1670\n",
      "       COLLEGE       0.45      0.28      0.34       313\n",
      "        COMEDY       0.62      0.38      0.47      1467\n",
      "         CRIME       0.55      0.55      0.55       858\n",
      "CULTURE & ARTS       0.51      0.23      0.32       347\n",
      "       DIVORCE       0.79      0.66      0.72      1165\n",
      "     EDUCATION       0.52      0.29      0.38       292\n",
      " ENTERTAINMENT       0.54      0.73      0.62      4473\n",
      "   ENVIRONMENT       0.52      0.23      0.32       454\n",
      "         FIFTY       0.47      0.09      0.15       346\n",
      "  FOOD & DRINK       0.60      0.76      0.67      2028\n",
      "     GOOD NEWS       0.51      0.06      0.11       348\n",
      "         GREEN       0.48      0.34      0.40       672\n",
      "HEALTHY LIVING       0.40      0.08      0.13      1714\n",
      " HOME & LIVING       0.66      0.73      0.69      1402\n",
      "        IMPACT       0.46      0.21      0.29      1014\n",
      " LATINO VOICES       0.72      0.23      0.35       354\n",
      "         MEDIA       0.54      0.34      0.42       743\n",
      "         MONEY       0.56      0.38      0.45       576\n",
      "     PARENTING       0.49      0.65      0.56      2861\n",
      "       PARENTS       0.51      0.09      0.15      1217\n",
      "      POLITICS       0.65      0.88      0.75      9778\n",
      "  QUEER VOICES       0.76      0.65      0.70      1788\n",
      "      RELIGION       0.60      0.39      0.47       616\n",
      "       SCIENCE       0.65      0.44      0.53       541\n",
      "        SPORTS       0.66      0.69      0.68      1392\n",
      "         STYLE       0.65      0.02      0.04       524\n",
      "STYLE & BEAUTY       0.71      0.82      0.76      3141\n",
      "         TASTE       0.37      0.06      0.10       652\n",
      "          TECH       0.54      0.44      0.48       660\n",
      " THE WORLDPOST       0.56      0.49      0.52      1212\n",
      "        TRAVEL       0.65      0.78      0.71      3107\n",
      "      WEDDINGS       0.77      0.75      0.76      1219\n",
      "    WEIRD NEWS       0.43      0.15      0.23       718\n",
      "      WELLNESS       0.54      0.82      0.65      5852\n",
      "         WOMEN       0.43      0.23      0.30      1030\n",
      "    WORLD NEWS       0.47      0.16      0.23       700\n",
      "     WORLDPOST       0.55      0.21      0.30       413\n",
      "\n",
      "      accuracy                           0.60     59747\n",
      "     macro avg       0.56      0.40      0.43     59747\n",
      "  weighted avg       0.58      0.60      0.56     59747\n",
      "\n"
     ]
    }
   ],
   "source": [
    "print(metrics.classification_report(y_test, y_pred)) # Count, C = 0.01"
   ]
  },
  {
   "cell_type": "code",
   "execution_count": 65,
   "metadata": {},
   "outputs": [
    {
     "name": "stdout",
     "output_type": "stream",
     "text": [
      "                precision    recall  f1-score   support\n",
      "\n",
      "          ARTS       0.51      0.13      0.20       281\n",
      "ARTS & CULTURE       0.46      0.13      0.20       449\n",
      "  BLACK VOICES       0.56      0.35      0.43      1340\n",
      "      BUSINESS       0.52      0.42      0.47      1733\n",
      "       COLLEGE       0.48      0.31      0.38       309\n",
      "        COMEDY       0.59      0.39      0.47      1392\n",
      "         CRIME       0.56      0.53      0.55       876\n",
      "CULTURE & ARTS       0.48      0.25      0.33       358\n",
      "       DIVORCE       0.80      0.66      0.72      1085\n",
      "     EDUCATION       0.44      0.24      0.31       292\n",
      " ENTERTAINMENT       0.56      0.74      0.64      4523\n",
      "   ENVIRONMENT       0.49      0.22      0.30       453\n",
      "         FIFTY       0.57      0.09      0.16       344\n",
      "  FOOD & DRINK       0.60      0.75      0.66      2092\n",
      "     GOOD NEWS       0.58      0.06      0.11       347\n",
      "         GREEN       0.41      0.32      0.36       668\n",
      "HEALTHY LIVING       0.40      0.08      0.14      1660\n",
      " HOME & LIVING       0.67      0.75      0.70      1386\n",
      "        IMPACT       0.46      0.20      0.28      1051\n",
      " LATINO VOICES       0.73      0.24      0.36       341\n",
      "         MEDIA       0.53      0.33      0.41       742\n",
      "         MONEY       0.55      0.35      0.43       571\n",
      "     PARENTING       0.49      0.65      0.56      2882\n",
      "       PARENTS       0.42      0.09      0.14      1188\n",
      "      POLITICS       0.64      0.87      0.74      9670\n",
      "  QUEER VOICES       0.76      0.67      0.71      1796\n",
      "      RELIGION       0.56      0.37      0.44       604\n",
      "       SCIENCE       0.63      0.43      0.51       575\n",
      "        SPORTS       0.69      0.68      0.68      1460\n",
      "         STYLE       0.50      0.01      0.03       543\n",
      "STYLE & BEAUTY       0.71      0.83      0.77      3194\n",
      "         TASTE       0.35      0.05      0.09       608\n",
      "          TECH       0.57      0.47      0.51       677\n",
      " THE WORLDPOST       0.54      0.47      0.50      1217\n",
      "        TRAVEL       0.66      0.79      0.72      3113\n",
      "      WEDDINGS       0.77      0.75      0.76      1197\n",
      "    WEIRD NEWS       0.48      0.16      0.24       729\n",
      "      WELLNESS       0.54      0.82      0.65      5858\n",
      "         WOMEN       0.42      0.21      0.28      1013\n",
      "    WORLD NEWS       0.47      0.16      0.24       698\n",
      "     WORLDPOST       0.58      0.24      0.34       432\n",
      "\n",
      "      accuracy                           0.60     59747\n",
      "     macro avg       0.55      0.40      0.43     59747\n",
      "  weighted avg       0.58      0.60      0.56     59747\n",
      "\n"
     ]
    }
   ],
   "source": [
    "print(metrics.classification_report(y_test, y_pred)) # Tf-idf, C = 0.01"
   ]
  },
  {
   "cell_type": "code",
   "execution_count": 69,
   "metadata": {},
   "outputs": [
    {
     "name": "stdout",
     "output_type": "stream",
     "text": [
      "                precision    recall  f1-score   support\n",
      "\n",
      "          ARTS       0.28      0.13      0.18       281\n",
      "ARTS & CULTURE       0.29      0.24      0.26       449\n",
      "  BLACK VOICES       0.45      0.41      0.43      1340\n",
      "      BUSINESS       0.40      0.36      0.38      1733\n",
      "       COLLEGE       0.38      0.29      0.33       309\n",
      "        COMEDY       0.43      0.41      0.42      1392\n",
      "         CRIME       0.49      0.47      0.48       876\n",
      "CULTURE & ARTS       0.36      0.22      0.28       358\n",
      "       DIVORCE       0.70      0.67      0.68      1085\n",
      "     EDUCATION       0.34      0.27      0.30       292\n",
      " ENTERTAINMENT       0.60      0.65      0.62      4523\n",
      "   ENVIRONMENT       0.38      0.24      0.30       453\n",
      "         FIFTY       0.27      0.17      0.21       344\n",
      "  FOOD & DRINK       0.57      0.62      0.59      2092\n",
      "     GOOD NEWS       0.24      0.20      0.22       347\n",
      "         GREEN       0.32      0.32      0.32       668\n",
      "HEALTHY LIVING       0.23      0.21      0.22      1660\n",
      " HOME & LIVING       0.64      0.69      0.67      1386\n",
      "        IMPACT       0.27      0.22      0.24      1051\n",
      " LATINO VOICES       0.49      0.33      0.40       341\n",
      "         MEDIA       0.40      0.35      0.37       742\n",
      "         MONEY       0.40      0.31      0.35       571\n",
      "     PARENTING       0.46      0.49      0.48      2882\n",
      "       PARENTS       0.26      0.24      0.25      1188\n",
      "      POLITICS       0.69      0.78      0.73      9670\n",
      "  QUEER VOICES       0.65      0.66      0.65      1796\n",
      "      RELIGION       0.41      0.35      0.38       604\n",
      "       SCIENCE       0.46      0.42      0.44       575\n",
      "        SPORTS       0.64      0.64      0.64      1460\n",
      "         STYLE       0.31      0.21      0.25       543\n",
      "STYLE & BEAUTY       0.75      0.76      0.76      3194\n",
      "         TASTE       0.21      0.19      0.20       608\n",
      "          TECH       0.44      0.45      0.45       677\n",
      " THE WORLDPOST       0.47      0.46      0.46      1217\n",
      "        TRAVEL       0.66      0.68      0.67      3113\n",
      "      WEDDINGS       0.72      0.70      0.71      1197\n",
      "    WEIRD NEWS       0.29      0.26      0.28       729\n",
      "      WELLNESS       0.58      0.63      0.61      5858\n",
      "         WOMEN       0.26      0.24      0.25      1013\n",
      "    WORLD NEWS       0.31      0.27      0.28       698\n",
      "     WORLDPOST       0.39      0.25      0.31       432\n",
      "\n",
      "      accuracy                           0.55     59747\n",
      "     macro avg       0.44      0.40      0.42     59747\n",
      "  weighted avg       0.54      0.55      0.54     59747\n",
      "\n"
     ]
    }
   ],
   "source": [
    "print(metrics.classification_report(y_test, y_pred))"
   ]
  },
  {
   "cell_type": "code",
   "execution_count": 57,
   "metadata": {},
   "outputs": [],
   "source": [
    "import joblib"
   ]
  },
  {
   "cell_type": "code",
   "execution_count": 58,
   "metadata": {},
   "outputs": [
    {
     "data": {
      "text/plain": [
       "['LinearSVCmodel_v1']"
      ]
     },
     "execution_count": 58,
     "metadata": {},
     "output_type": "execute_result"
    }
   ],
   "source": [
    "joblib.dump(clf, \"LinearSVCmodel_v1\")"
   ]
  }
 ],
 "metadata": {
  "kernelspec": {
   "display_name": "Python 3",
   "language": "python",
   "name": "python3"
  },
  "language_info": {
   "codemirror_mode": {
    "name": "ipython",
    "version": 3
   },
   "file_extension": ".py",
   "mimetype": "text/x-python",
   "name": "python",
   "nbconvert_exporter": "python",
   "pygments_lexer": "ipython3",
   "version": "3.8.8"
  }
 },
 "nbformat": 4,
 "nbformat_minor": 2
}
