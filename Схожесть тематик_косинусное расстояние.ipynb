{
 "cells": [
  {
   "cell_type": "code",
   "execution_count": 1,
   "metadata": {},
   "outputs": [],
   "source": [
    "import pandas as pd\n",
    "import numpy as np\n",
    "\n",
    "import warnings\n",
    "warnings.filterwarnings(\"ignore\")"
   ]
  },
  {
   "cell_type": "code",
   "execution_count": 2,
   "metadata": {},
   "outputs": [],
   "source": [
    "news = pd.read_csv(\"News_Category_Dataset_v2_prep_full.csv\")"
   ]
  },
  {
   "cell_type": "code",
   "execution_count": 3,
   "metadata": {},
   "outputs": [
    {
     "data": {
      "text/html": [
       "<div>\n",
       "<style scoped>\n",
       "    .dataframe tbody tr th:only-of-type {\n",
       "        vertical-align: middle;\n",
       "    }\n",
       "\n",
       "    .dataframe tbody tr th {\n",
       "        vertical-align: top;\n",
       "    }\n",
       "\n",
       "    .dataframe thead th {\n",
       "        text-align: right;\n",
       "    }\n",
       "</style>\n",
       "<table border=\"1\" class=\"dataframe\">\n",
       "  <thead>\n",
       "    <tr style=\"text-align: right;\">\n",
       "      <th></th>\n",
       "      <th>category</th>\n",
       "      <th>headline_pr</th>\n",
       "      <th>short_description_pr</th>\n",
       "      <th>union_pr</th>\n",
       "    </tr>\n",
       "  </thead>\n",
       "  <tbody>\n",
       "    <tr>\n",
       "      <th>0</th>\n",
       "      <td>CRIME</td>\n",
       "      <td>2 mass shooting texas last week 1 tv</td>\n",
       "      <td>left husband killed child another day america</td>\n",
       "      <td>2 mass shooting texas last week 1 tvleft husba...</td>\n",
       "    </tr>\n",
       "    <tr>\n",
       "      <th>1</th>\n",
       "      <td>ENTERTAINMENT</td>\n",
       "      <td>smith join diplo nicky jam 2018 world cup offi...</td>\n",
       "      <td>course song</td>\n",
       "      <td>smith join diplo nicky jam 2018 world cup offi...</td>\n",
       "    </tr>\n",
       "    <tr>\n",
       "      <th>2</th>\n",
       "      <td>ENTERTAINMENT</td>\n",
       "      <td>hugh grant marries first time age 57</td>\n",
       "      <td>actor longtime girlfriend anna eberstein tied ...</td>\n",
       "      <td>hugh grant marries first time age 57actor long...</td>\n",
       "    </tr>\n",
       "    <tr>\n",
       "      <th>3</th>\n",
       "      <td>ENTERTAINMENT</td>\n",
       "      <td>jim carrey blast castrato adam schiff democrat...</td>\n",
       "      <td>actor give dems as kicking fighting hard enoug...</td>\n",
       "      <td>jim carrey blast castrato adam schiff democrat...</td>\n",
       "    </tr>\n",
       "    <tr>\n",
       "      <th>4</th>\n",
       "      <td>ENTERTAINMENT</td>\n",
       "      <td>julianna margulies us donald trump poop bag pi...</td>\n",
       "      <td>dietland actress said using bag really cathart...</td>\n",
       "      <td>julianna margulies us donald trump poop bag pi...</td>\n",
       "    </tr>\n",
       "  </tbody>\n",
       "</table>\n",
       "</div>"
      ],
      "text/plain": [
       "        category                                        headline_pr  \\\n",
       "0          CRIME               2 mass shooting texas last week 1 tv   \n",
       "1  ENTERTAINMENT  smith join diplo nicky jam 2018 world cup offi...   \n",
       "2  ENTERTAINMENT               hugh grant marries first time age 57   \n",
       "3  ENTERTAINMENT  jim carrey blast castrato adam schiff democrat...   \n",
       "4  ENTERTAINMENT  julianna margulies us donald trump poop bag pi...   \n",
       "\n",
       "                                short_description_pr  \\\n",
       "0      left husband killed child another day america   \n",
       "1                                        course song   \n",
       "2  actor longtime girlfriend anna eberstein tied ...   \n",
       "3  actor give dems as kicking fighting hard enoug...   \n",
       "4  dietland actress said using bag really cathart...   \n",
       "\n",
       "                                            union_pr  \n",
       "0  2 mass shooting texas last week 1 tvleft husba...  \n",
       "1  smith join diplo nicky jam 2018 world cup offi...  \n",
       "2  hugh grant marries first time age 57actor long...  \n",
       "3  jim carrey blast castrato adam schiff democrat...  \n",
       "4  julianna margulies us donald trump poop bag pi...  "
      ]
     },
     "execution_count": 3,
     "metadata": {},
     "output_type": "execute_result"
    }
   ],
   "source": [
    "news.head()"
   ]
  },
  {
   "cell_type": "code",
   "execution_count": 4,
   "metadata": {},
   "outputs": [],
   "source": [
    "n = 1700\n",
    "TRAVEL = news[news[\"category\"] == \"TRAVEL\"].iloc[:n].reset_index()\n",
    "SPORTS = news[news[\"category\"] == \"SPORTS\"].iloc[:n].reset_index()\n",
    "ENTERTAINMENT = news[news[\"category\"] == \"ENTERTAINMENT\"].iloc[:n].reset_index()\n",
    "WELLNESS = news[news[\"category\"] == \"WELLNESS\"].iloc[:n].reset_index()\n",
    "FOOD_DRINK = news[news[\"category\"] == \"FOOD & DRINK\"].iloc[:n].reset_index()\n",
    "QUEER_VOICES = news[news[\"category\"] == \"QUEER VOICES\"].iloc[:n].reset_index()\n",
    "WEDDINGS = news[news[\"category\"] == \"WEDDINGS\"].iloc[:n].reset_index()\n",
    "\n",
    "news = TRAVEL.append(SPORTS, ignore_index=True).append(ENTERTAINMENT, ignore_index=True)\n",
    "news = news.append(WELLNESS, ignore_index=True).append(FOOD_DRINK, ignore_index=True)\n",
    "news = news.append(WEDDINGS, ignore_index=True).append(QUEER_VOICES, ignore_index=True)"
   ]
  },
  {
   "cell_type": "code",
   "execution_count": 5,
   "metadata": {},
   "outputs": [
    {
     "data": {
      "text/html": [
       "<div>\n",
       "<style scoped>\n",
       "    .dataframe tbody tr th:only-of-type {\n",
       "        vertical-align: middle;\n",
       "    }\n",
       "\n",
       "    .dataframe tbody tr th {\n",
       "        vertical-align: top;\n",
       "    }\n",
       "\n",
       "    .dataframe thead th {\n",
       "        text-align: right;\n",
       "    }\n",
       "</style>\n",
       "<table border=\"1\" class=\"dataframe\">\n",
       "  <thead>\n",
       "    <tr style=\"text-align: right;\">\n",
       "      <th></th>\n",
       "      <th>index</th>\n",
       "      <th>category</th>\n",
       "      <th>headline_pr</th>\n",
       "      <th>short_description_pr</th>\n",
       "      <th>union_pr</th>\n",
       "    </tr>\n",
       "  </thead>\n",
       "  <tbody>\n",
       "    <tr>\n",
       "      <th>0</th>\n",
       "      <td>126</td>\n",
       "      <td>TRAVEL</td>\n",
       "      <td>14 way make family road trip easier parent</td>\n",
       "      <td>waterproof cover seat kind brilliant</td>\n",
       "      <td>14 way make family road trip easier parentwate...</td>\n",
       "    </tr>\n",
       "    <tr>\n",
       "      <th>1</th>\n",
       "      <td>204</td>\n",
       "      <td>TRAVEL</td>\n",
       "      <td>14 trip take new york city long weekend</td>\n",
       "      <td>charming town relaxing beach top hiking destin...</td>\n",
       "      <td>14 trip take new york city long weekendcharmin...</td>\n",
       "    </tr>\n",
       "    <tr>\n",
       "      <th>2</th>\n",
       "      <td>205</td>\n",
       "      <td>TRAVEL</td>\n",
       "      <td>disney reveals opening season star war theme p...</td>\n",
       "      <td>star war galaxy edge open disneyland disney world</td>\n",
       "      <td>disney reveals opening season star war theme p...</td>\n",
       "    </tr>\n",
       "    <tr>\n",
       "      <th>3</th>\n",
       "      <td>256</td>\n",
       "      <td>TRAVEL</td>\n",
       "      <td>lonely planet top european destination 2018 ta...</td>\n",
       "      <td>underrated travel destination europe full tourist</td>\n",
       "      <td>lonely planet top european destination 2018 ta...</td>\n",
       "    </tr>\n",
       "    <tr>\n",
       "      <th>4</th>\n",
       "      <td>324</td>\n",
       "      <td>TRAVEL</td>\n",
       "      <td>8 majestic island europe tourist know yet</td>\n",
       "      <td>dreaming romantic european getaway involve gaz...</td>\n",
       "      <td>8 majestic island europe tourist know yetdream...</td>\n",
       "    </tr>\n",
       "    <tr>\n",
       "      <th>...</th>\n",
       "      <td>...</td>\n",
       "      <td>...</td>\n",
       "      <td>...</td>\n",
       "      <td>...</td>\n",
       "      <td>...</td>\n",
       "    </tr>\n",
       "    <tr>\n",
       "      <th>11895</th>\n",
       "      <td>34364</td>\n",
       "      <td>QUEER VOICES</td>\n",
       "      <td>trans teen gavin grimm responds laverne cox sh...</td>\n",
       "      <td>thrilled</td>\n",
       "      <td>trans teen gavin grimm responds laverne cox sh...</td>\n",
       "    </tr>\n",
       "    <tr>\n",
       "      <th>11896</th>\n",
       "      <td>34371</td>\n",
       "      <td>QUEER VOICES</td>\n",
       "      <td>would never date guy support donald trump</td>\n",
       "      <td>trump republican antithesis tolerant accepting</td>\n",
       "      <td>would never date guy support donald trumptrump...</td>\n",
       "    </tr>\n",
       "    <tr>\n",
       "      <th>11897</th>\n",
       "      <td>34424</td>\n",
       "      <td>QUEER VOICES</td>\n",
       "      <td>valentine best friend life without</td>\n",
       "      <td>may may share physical intimacy bond friendshi...</td>\n",
       "      <td>valentine best friend life withoutmay may shar...</td>\n",
       "    </tr>\n",
       "    <tr>\n",
       "      <th>11898</th>\n",
       "      <td>34434</td>\n",
       "      <td>QUEER VOICES</td>\n",
       "      <td>drag superstar vicky vox pride ability live au...</td>\n",
       "      <td>vicky vox veritable force nature powerhouse pe...</td>\n",
       "      <td>drag superstar vicky vox pride ability live au...</td>\n",
       "    </tr>\n",
       "    <tr>\n",
       "      <th>11899</th>\n",
       "      <td>34435</td>\n",
       "      <td>QUEER VOICES</td>\n",
       "      <td>way know neil gorsuch really think gay sex ask</td>\n",
       "      <td>john robert gay friend</td>\n",
       "      <td>way know neil gorsuch really think gay sex ask...</td>\n",
       "    </tr>\n",
       "  </tbody>\n",
       "</table>\n",
       "<p>11900 rows × 5 columns</p>\n",
       "</div>"
      ],
      "text/plain": [
       "       index      category                                        headline_pr  \\\n",
       "0        126        TRAVEL         14 way make family road trip easier parent   \n",
       "1        204        TRAVEL            14 trip take new york city long weekend   \n",
       "2        205        TRAVEL  disney reveals opening season star war theme p...   \n",
       "3        256        TRAVEL  lonely planet top european destination 2018 ta...   \n",
       "4        324        TRAVEL          8 majestic island europe tourist know yet   \n",
       "...      ...           ...                                                ...   \n",
       "11895  34364  QUEER VOICES  trans teen gavin grimm responds laverne cox sh...   \n",
       "11896  34371  QUEER VOICES          would never date guy support donald trump   \n",
       "11897  34424  QUEER VOICES                 valentine best friend life without   \n",
       "11898  34434  QUEER VOICES  drag superstar vicky vox pride ability live au...   \n",
       "11899  34435  QUEER VOICES     way know neil gorsuch really think gay sex ask   \n",
       "\n",
       "                                    short_description_pr  \\\n",
       "0                   waterproof cover seat kind brilliant   \n",
       "1      charming town relaxing beach top hiking destin...   \n",
       "2      star war galaxy edge open disneyland disney world   \n",
       "3      underrated travel destination europe full tourist   \n",
       "4      dreaming romantic european getaway involve gaz...   \n",
       "...                                                  ...   \n",
       "11895                                           thrilled   \n",
       "11896     trump republican antithesis tolerant accepting   \n",
       "11897  may may share physical intimacy bond friendshi...   \n",
       "11898  vicky vox veritable force nature powerhouse pe...   \n",
       "11899                             john robert gay friend   \n",
       "\n",
       "                                                union_pr  \n",
       "0      14 way make family road trip easier parentwate...  \n",
       "1      14 trip take new york city long weekendcharmin...  \n",
       "2      disney reveals opening season star war theme p...  \n",
       "3      lonely planet top european destination 2018 ta...  \n",
       "4      8 majestic island europe tourist know yetdream...  \n",
       "...                                                  ...  \n",
       "11895  trans teen gavin grimm responds laverne cox sh...  \n",
       "11896  would never date guy support donald trumptrump...  \n",
       "11897  valentine best friend life withoutmay may shar...  \n",
       "11898  drag superstar vicky vox pride ability live au...  \n",
       "11899  way know neil gorsuch really think gay sex ask...  \n",
       "\n",
       "[11900 rows x 5 columns]"
      ]
     },
     "execution_count": 5,
     "metadata": {},
     "output_type": "execute_result"
    }
   ],
   "source": [
    "news"
   ]
  },
  {
   "cell_type": "markdown",
   "metadata": {},
   "source": [
    "## Самые частотные слова в каждой тематике"
   ]
  },
  {
   "cell_type": "code",
   "execution_count": 6,
   "metadata": {},
   "outputs": [],
   "source": [
    "from collections import Counter"
   ]
  },
  {
   "cell_type": "code",
   "execution_count": 7,
   "metadata": {},
   "outputs": [],
   "source": [
    "news_grouped = news[[\"category\", \"union_pr\"]].groupby(\"category\") \n",
    "group_word_freeqs = {}\n",
    "for group_name, group in news_grouped:\n",
    "    word_freeqs = Counter()\n",
    "    group[\"union_pr\"].apply(lambda line: word_freeqs.update(line.split()))\n",
    "    group_word_freeqs[group_name] = word_freeqs "
   ]
  },
  {
   "cell_type": "code",
   "execution_count": 8,
   "metadata": {},
   "outputs": [
    {
     "name": "stdout",
     "output_type": "stream",
     "text": [
      "ENTERTAINMENT\n",
      "[('new', 183), ('star', 169), ('say', 153), ('show', 122), ('said', 113), ('year', 113), ('trump', 83), ('movie', 81), ('time', 77), ('like', 75), ('get', 74), ('first', 72), ('woman', 71), ('sexual', 69), ('actor', 64), ('back', 62), ('one', 62), ('oscar', 60), ('film', 58), ('people', 57), ('hollywood', 57), ('fan', 55), ('make', 54), ('best', 52), ('netflix', 50), ('actress', 48), ('john', 47), ('take', 47), ('black', 46), ('war', 45), ('look', 45), ('game', 45), ('season', 45), ('thing', 45), ('twitter', 43), ('donald', 42), ('got', 42), ('kim', 42), ('old', 41), ('dead', 41), ('day', 40), ('tv', 39), ('director', 39), ('give', 38), ('singer', 37), ('last', 37), ('u', 37), ('night', 37), ('kardashian', 36), ('made', 36), ('baby', 36), ('host', 36), ('talk', 36), ('2', 35), ('want', 35), ('life', 35), ('coming', 35), ('love', 35), ('world', 34), ('go', 34), ('b', 34), ('music', 34), ('trailer', 34), ('golden', 34), ('really', 32), ('reveals', 32), ('also', 32), ('story', 32), ('james', 32), ('would', 32), ('family', 32), ('chrissy', 32), ('jennifer', 32), ('accused', 31), ('ryan', 31), ('teigen', 31), ('michael', 31), ('jimmy', 30), ('girl', 30), ('know', 30), ('video', 29), ('hit', 29), ('award', 28), ('set', 28), ('need', 28), ('roseanne', 28), ('american', 28), ('call', 28), ('panther', 28), ('tell', 28), ('good', 28), ('globe', 28), ('could', 27), ('watch', 27), ('david', 27), ('ellen', 27), ('little', 27), ('right', 26), ('west', 26), ('reportedly', 26)]\n",
      "\n",
      "FOOD & DRINK\n",
      "[('food', 346), ('make', 220), ('best', 190), ('recipe', 153), ('like', 141), ('new', 130), ('one', 125), ('time', 121), ('way', 120), ('thing', 106), ('year', 105), ('wine', 103), ('10', 97), ('eat', 96), ('chocolate', 94), ('know', 89), ('restaurant', 84), ('taste', 83), ('day', 83), ('u', 79), ('holiday', 79), ('get', 77), ('good', 74), ('cheese', 74), ('love', 73), ('need', 70), ('5', 69), ('favorite', 68), ('drink', 65), ('world', 64), ('dish', 61), ('beer', 61), ('chicken', 60), ('thanksgiving', 60), ('want', 58), ('cooking', 58), ('even', 58), ('delicious', 57), ('cake', 57), ('burger', 55), ('made', 54), ('go', 53), ('ever', 52), ('never', 50), ('dinner', 50), ('eating', 50), ('cocktail', 50), ('coffee', 49), ('perfect', 49), ('great', 49), ('pizza', 48), ('better', 47), ('american', 47), ('sauce', 46), ('would', 46), ('kitchen', 45), ('dessert', 45), ('hot', 45), ('come', 44), ('right', 44), ('people', 44), ('top', 44), ('making', 44), ('chef', 43), ('think', 43), ('party', 43), ('every', 42), ('look', 42), ('cream', 42), ('around', 42), ('bacon', 42), ('might', 41), ('sweet', 40), ('bar', 40), ('ice', 39), ('little', 38), ('reason', 38), ('sandwich', 38), ('bowl', 38), ('turkey', 38), ('candy', 38), ('america', 37), ('actually', 37), ('really', 37), ('breakfast', 37), ('two', 36), ('cook', 36), ('easy', 36), ('flavor', 35), ('healthy', 35), ('free', 35), ('butter', 34), ('home', 34), ('kind', 34), ('order', 33), ('much', 33), ('first', 33), ('without', 33), ('super', 33), ('lot', 32)]\n",
      "\n",
      "QUEER VOICES\n",
      "[('gay', 369), ('lgbtq', 321), ('new', 197), ('trans', 185), ('queer', 179), ('people', 178), ('transgender', 142), ('trump', 135), ('say', 121), ('said', 114), ('star', 113), ('year', 113), ('right', 103), ('drag', 98), ('first', 89), ('one', 89), ('sex', 85), ('community', 80), ('pride', 79), ('anti', 76), ('life', 75), ('love', 75), ('woman', 75), ('time', 73), ('show', 71), ('men', 68), ('marriage', 68), ('get', 64), ('gender', 63), ('rupaul', 62), ('like', 62), ('family', 58), ('race', 57), ('make', 56), ('way', 56), ('lgbt', 56), ('story', 55), ('week', 52), ('kid', 51), ('talk', 50), ('u', 50), ('day', 50), ('would', 49), ('back', 48), ('come', 47), ('need', 47), ('open', 47), ('coming', 46), ('man', 45), ('history', 45), ('group', 44), ('two', 44), ('want', 43), ('video', 40), ('school', 40), ('word', 40), ('america', 40), ('equality', 40), ('couple', 38), ('series', 38), ('film', 37), ('could', 37), ('ban', 37), ('activist', 37), ('world', 36), ('state', 36), ('donald', 36), ('last', 36), ('never', 35), ('child', 35), ('feel', 35), ('support', 34), ('find', 34), ('boy', 34), ('hiv', 34), ('court', 34), ('call', 33), ('queen', 33), ('sexuality', 32), ('friend', 32), ('president', 31), ('play', 30), ('take', 30), ('sexual', 30), ('texas', 30), ('american', 29), ('identity', 29), ('may', 29), ('know', 29), ('pop', 28), ('hope', 28), ('old', 28), ('still', 28), ('made', 28), ('country', 28), ('many', 28), ('lesbian', 28), ('ever', 27), ('go', 27), ('military', 27)]\n",
      "\n",
      "SPORTS\n",
      "[('olympic', 195), ('team', 169), ('player', 158), ('game', 146), ('nfl', 132), ('say', 129), ('first', 126), ('win', 124), ('olympics', 112), ('year', 110), ('said', 108), ('woman', 100), ('gold', 94), ('world', 93), ('nba', 92), ('time', 87), ('trump', 81), ('sport', 80), ('star', 79), ('one', 77), ('rio', 77), ('medal', 71), ('new', 68), ('u', 64), ('athlete', 63), ('like', 62), ('fan', 61), ('national', 59), ('football', 57), ('soccer', 54), ('two', 54), ('super', 54), ('old', 54), ('winter', 54), ('coach', 53), ('usa', 52), ('state', 52), ('make', 50), ('get', 47), ('michael', 45), ('league', 44), ('nassar', 44), ('james', 43), ('final', 43), ('american', 42), ('former', 41), ('history', 40), ('second', 40), ('last', 40), ('sexual', 39), ('want', 38), ('kaepernick', 38), ('ever', 38), ('take', 38), ('look', 37), ('1', 37), ('bowl', 37), ('man', 37), ('could', 37), ('day', 36), ('record', 36), ('thing', 36), ('way', 36), ('anthem', 35), ('even', 35), ('ncaa', 35), ('2016', 35), ('abuse', 34), ('gymnastics', 34), ('russian', 34), ('go', 33), ('doping', 33), ('baseball', 33), ('lebron', 32), ('show', 32), ('3', 31), ('colin', 31), ('hockey', 31), ('basketball', 31), ('going', 31), ('championship', 30), ('larry', 30), ('phelps', 30), ('event', 30), ('protest', 29), ('made', 29), ('men', 29), ('back', 29), ('best', 29), ('season', 29), ('call', 29), ('champion', 28), ('really', 28), ('2', 28), ('life', 28), ('hit', 28), ('williams', 28), ('olympian', 28), ('would', 28), ('watch', 28)]\n",
      "\n",
      "TRAVEL\n",
      "[('travel', 296), ('world', 208), ('new', 203), ('one', 202), ('best', 175), ('city', 165), ('like', 158), ('time', 152), ('day', 150), ('flight', 149), ('way', 146), ('hotel', 145), ('trip', 137), ('year', 135), ('place', 133), ('make', 126), ('get', 113), ('vacation', 107), ('5', 106), ('traveler', 101), ('airline', 98), ('thing', 97), ('take', 95), ('around', 93), ('go', 85), ('beach', 83), ('destination', 83), ('country', 83), ('know', 78), ('first', 78), ('people', 78), ('island', 77), ('summer', 77), ('10', 76), ('love', 74), ('traveling', 72), ('see', 72), ('u', 71), ('need', 68), ('park', 67), ('visit', 67), ('every', 66), ('even', 65), ('airport', 63), ('little', 63), ('want', 63), ('great', 63), ('life', 62), ('part', 62), ('home', 60), ('town', 59), ('top', 59), ('look', 59), ('american', 58), ('many', 58), ('two', 58), ('may', 57), ('family', 56), ('7', 56), ('next', 55), ('experience', 55), ('disney', 53), ('italian', 53), ('reason', 53), ('long', 52), ('perfect', 52), ('air', 50), ('could', 50), ('america', 50), ('hour', 50), ('road', 49), ('tourist', 49), ('list', 49), ('never', 48), ('york', 46), ('ever', 46), ('right', 46), ('holiday', 45), ('come', 45), ('say', 44), ('national', 44), ('food', 43), ('last', 43), ('tip', 43), ('adventure', 42), ('spot', 41), ('good', 41), ('resort', 41), ('europe', 40), ('going', 40), ('much', 40), ('offer', 40), ('back', 40), ('3', 39), ('find', 39), ('kid', 39), ('8', 38), ('really', 38), ('would', 38), ('also', 38)]\n",
      "\n",
      "WEDDINGS\n",
      "[('wedding', 1537), ('couple', 291), ('marriage', 256), ('bride', 252), ('day', 245), ('photo', 209), ('love', 189), ('dress', 181), ('one', 179), ('married', 166), ('make', 164), ('check', 158), ('way', 158), ('get', 157), ('year', 155), ('huffpost', 149), ('touch', 142), ('facebook', 131), ('time', 131), ('planning', 119), ('twitter', 118), ('pinterest', 117), ('thing', 115), ('proposal', 115), ('guest', 111), ('big', 111), ('bridal', 109), ('want', 105), ('like', 102), ('best', 98), ('know', 97), ('10', 96), ('groom', 94), ('engagement', 93), ('new', 90), ('idea', 87), ('ring', 85), ('5', 84), ('first', 84), ('ly', 83), ('keep', 81), ('people', 81), ('life', 81), ('say', 80), ('got', 79), ('u', 78), ('lover', 78), ('tip', 75), ('woman', 75), ('look', 75), ('real', 71), ('husband', 67), ('cake', 67), ('friend', 67), ('even', 66), ('take', 66), ('video', 65), ('man', 62), ('wife', 62), ('see', 62), ('go', 62), ('slideshow', 61), ('last', 60), ('gown', 60), ('relationship', 60), ('may', 59), ('find', 58), ('good', 58), ('reason', 58), ('moment', 57), ('engaged', 56), ('need', 56), ('knot', 55), ('much', 54), ('two', 53), ('really', 53), ('many', 53), ('question', 53), ('getting', 53), ('help', 53), ('come', 52), ('every', 51), ('little', 50), ('top', 50), ('going', 50), ('said', 50), ('share', 49), ('bridesmaid', 49), ('think', 49), ('show', 48), ('weekend', 48), ('long', 48), ('via', 48), ('ceremony', 47), ('trend', 46), ('family', 46), ('work', 46), ('perfect', 46), ('style', 45), ('would', 44)]\n",
      "\n",
      "WELLNESS\n",
      "[('life', 282), ('way', 195), ('time', 193), ('people', 184), ('one', 172), ('u', 165), ('like', 160), ('health', 159), ('make', 158), ('day', 158), ('thing', 148), ('get', 135), ('may', 126), ('love', 125), ('new', 115), ('help', 113), ('could', 112), ('take', 112), ('feel', 109), ('year', 108), ('sleep', 102), ('food', 100), ('5', 98), ('cancer', 96), ('work', 95), ('need', 94), ('want', 93), ('body', 92), ('study', 91), ('go', 87), ('well', 85), ('better', 84), ('good', 84), ('know', 83), ('heart', 82), ('even', 81), ('change', 76), ('think', 76), ('healthy', 74), ('much', 74), ('part', 74), ('say', 72), ('also', 71), ('many', 69), ('10', 68), ('would', 65), ('weight', 64), ('right', 63), ('patient', 63), ('best', 63), ('find', 62), ('something', 61), ('come', 61), ('first', 61), ('world', 60), ('really', 60), ('others', 59), ('risk', 58), ('relationship', 57), ('yoga', 57), ('back', 56), ('eating', 55), ('woman', 54), ('care', 54), ('found', 53), ('mind', 53), ('let', 53), ('never', 53), ('living', 52), ('drug', 51), ('disease', 51), ('feeling', 51), ('moment', 50), ('long', 50), ('live', 50), ('might', 49), ('going', 49), ('see', 49), ('important', 49), ('self', 48), ('brain', 47), ('fat', 46), ('great', 46), ('give', 46), ('workout', 46), ('happiness', 46), ('family', 46), ('person', 45), ('7', 45), ('sometimes', 45), ('child', 45), ('thought', 45), ('eat', 44), ('look', 44), ('problem', 44), ('week', 44), ('mental', 44), ('mean', 44), ('move', 43), ('exercise', 43)]\n",
      "\n"
     ]
    }
   ],
   "source": [
    " for key in group_word_freeqs:\n",
    "        print(key)\n",
    "        print(group_word_freeqs[key].most_common(100))\n",
    "        print()"
   ]
  },
  {
   "cell_type": "markdown",
   "metadata": {},
   "source": [
    "### Графики"
   ]
  },
  {
   "cell_type": "code",
   "execution_count": 9,
   "metadata": {},
   "outputs": [],
   "source": [
    "import matplotlib.pyplot as plt"
   ]
  },
  {
   "cell_type": "code",
   "execution_count": 10,
   "metadata": {},
   "outputs": [],
   "source": [
    "def plot_top_words(model, feature_names, n_top_words, title):\n",
    "    \n",
    "    fig, axes = plt.subplots(2, 5, figsize=(30, 15)) # параметры отображения \n",
    "    axes = axes.flatten()\n",
    "    all_features = {} # словарь для сохранения ключевых слов для тем\n",
    "    \n",
    "    for topic_idx, topic in enumerate(model.components_):\n",
    "        top_features_ind = topic.argsort()[:-n_top_words - 1:-1] \n",
    "        top_features = [feature_names[i] for i in top_features_ind]\n",
    "        # строка для сохранения темы и слов в словарь\n",
    "        \n",
    "        weights = topic[top_features_ind]\n",
    "\n",
    "        ax = axes[topic_idx]\n",
    "        ax.barh(top_features, weights, height=0.7)\n",
    "        ax.set_title(f'Topic {topic_idx +1}',\n",
    "                     fontdict={'fontsize': 30})\n",
    "        ax.invert_yaxis()\n",
    "        ax.tick_params(axis='both', which='major', labelsize=20)\n",
    "        for i in 'top right left'.split():\n",
    "            ax.spines[i].set_visible(False)\n",
    "#         fig.suptitle(title, fontsize=40)\n",
    "\n",
    "    plt.show()"
   ]
  },
  {
   "cell_type": "code",
   "execution_count": 11,
   "metadata": {},
   "outputs": [
    {
     "data": {
      "image/png": "[encoded data removed]",
      "text/plain": [
       "<Figure size 2160x1080 with 7 Axes>"
      ]
     },
     "metadata": {
      "needs_background": "light"
     },
     "output_type": "display_data"
    }
   ],
   "source": [
    "fig, axes = plt.subplots(1, 7, figsize=(30, 15)) # параметры отображения \n",
    "axes = axes.flatten()\n",
    "\n",
    "for index, key in enumerate(group_word_freeqs):\n",
    "    dct = dict(group_word_freeqs[key].most_common(10))\n",
    "    axes[index].barh(list(dct.keys()), list(dct.values()), height=0.7)\n",
    "    axes[index].set_title(key, fontdict={'fontsize': 30})\n",
    "    axes[index].invert_yaxis()\n",
    "    axes[index].tick_params(axis='both', which='major', labelsize=20)\n",
    "    for i in 'top right left'.split():\n",
    "        axes[index].spines[i].set_visible(False)\n"
   ]
  },
  {
   "cell_type": "code",
   "execution_count": null,
   "metadata": {},
   "outputs": [],
   "source": []
  },
  {
   "cell_type": "markdown",
   "metadata": {},
   "source": [
    "## Поиск расстояния"
   ]
  },
  {
   "cell_type": "code",
   "execution_count": 12,
   "metadata": {},
   "outputs": [],
   "source": [
    "from gensim.models import Word2Vec"
   ]
  },
  {
   "cell_type": "code",
   "execution_count": 13,
   "metadata": {},
   "outputs": [],
   "source": [
    "news_category = Word2Vec.load(\"word2vec_News_Category_Dataset.model\") "
   ]
  },
  {
   "cell_type": "markdown",
   "metadata": {},
   "source": [
    "## Sports"
   ]
  },
  {
   "cell_type": "code",
   "execution_count": 14,
   "metadata": {},
   "outputs": [
    {
     "name": "stdout",
     "output_type": "stream",
     "text": [
      "['olympic', 'team', 'player', 'game', 'nfl', 'say', 'first', 'win', 'olympics', 'year', 'said', 'woman', 'gold', 'world', 'nba', 'time', 'trump', 'sport', 'star', 'one', 'rio', 'medal', 'new', 'u', 'athlete', 'like', 'fan', 'national', 'football', 'soccer', 'two', 'super', 'old', 'winter', 'coach', 'usa', 'state', 'make', 'get', 'michael', 'league', 'nassar', 'james', 'final', 'american', 'former', 'history', 'second', 'last', 'sexual', 'want', 'kaepernick', 'ever', 'take', 'look', '1', 'bowl', 'man', 'could', 'day', 'record', 'thing', 'way', 'anthem', 'even', 'ncaa', '2016', 'abuse', 'gymnastics', 'russian', 'go', 'doping', 'baseball', 'lebron', 'show', '3', 'colin', 'hockey', 'basketball', 'going', 'championship', 'larry', 'phelps', 'event', 'protest', 'made', 'men', 'back', 'best', 'season', 'call', 'champion', 'really', '2', 'life', 'hit', 'williams', 'olympian', 'would', 'watch']\n"
     ]
    }
   ],
   "source": [
    "words = list(dict(group_word_freeqs[\"SPORTS\"].most_common(100)).keys())\n",
    "print(words)"
   ]
  },
  {
   "cell_type": "code",
   "execution_count": 16,
   "metadata": {},
   "outputs": [
    {
     "data": {
      "text/plain": [
       "array([ 1.4346386 ,  0.2172419 ,  0.5445907 , -1.3215128 ,  0.00733186,\n",
       "       -0.05760287,  0.23559298, -1.3231289 , -1.110139  ,  0.44615406,\n",
       "        0.45493034,  0.0895124 , -0.30086917,  0.6663028 , -0.5764501 ,\n",
       "       -1.0428656 , -0.37932688,  2.3123758 , -0.3857291 , -0.8944774 ,\n",
       "        1.2314171 ,  0.34401426, -0.9247511 , -0.09861387, -1.1419743 ,\n",
       "        1.6147642 ,  0.21220136, -1.8468387 , -1.211978  ,  1.1753889 ,\n",
       "        0.39216423,  1.1074848 , -0.6731407 ,  0.93691784,  1.7787793 ,\n",
       "        0.11950482,  1.6262304 ,  1.2974216 , -2.782213  , -0.9521623 ,\n",
       "        0.22998664, -1.1174242 , -1.0165504 ,  0.02161887, -0.4569142 ,\n",
       "       -0.9269508 ,  1.2323622 ,  0.4988134 ,  0.42728543,  1.0438974 ,\n",
       "        0.14898852, -0.8892457 , -2.204913  , -0.35514843,  0.06850944,\n",
       "       -0.8425188 ,  1.6085141 ,  0.9945465 , -0.9342954 , -0.15874024,\n",
       "       -0.24980582,  1.7029974 , -1.2875171 ,  0.60367805,  1.8370327 ,\n",
       "        0.45812908,  2.4658823 , -0.9928062 ,  0.22046381,  0.6496494 ,\n",
       "        0.05803154,  0.11847232,  1.011707  ,  0.46761623, -1.4423525 ,\n",
       "       -0.2766817 , -2.0202081 , -1.3119552 ,  1.1939548 ,  0.29492128,\n",
       "       -0.06992874, -0.5723169 , -0.75100476,  0.5204251 ,  1.5172127 ,\n",
       "       -0.06658821, -0.7691836 ,  0.33836824,  0.9292002 ,  0.33932346,\n",
       "       -0.04586941,  0.9055945 ,  0.42717963, -0.36346516,  1.2498957 ,\n",
       "       -2.001317  , -0.16616419, -0.80984396,  0.8568184 , -0.09033359],\n",
       "      dtype=float32)"
      ]
     },
     "execution_count": 16,
     "metadata": {},
     "output_type": "execute_result"
    }
   ],
   "source": [
    "news_category.wv['player'] # Посмотреть вектор"
   ]
  },
  {
   "cell_type": "code",
   "execution_count": 17,
   "metadata": {},
   "outputs": [
    {
     "data": {
      "text/plain": [
       "[('football', 0.8737607002258301),\n",
       " ('basketball', 0.8449459671974182),\n",
       " ('nfl', 0.8379102349281311),\n",
       " ('league', 0.8117823600769043),\n",
       " ('team', 0.797318160533905),\n",
       " ('baseball', 0.7968619465827942),\n",
       " ('coach', 0.7915477156639099),\n",
       " ('nba', 0.7688778638839722),\n",
       " ('hockey', 0.7622306942939758),\n",
       " ('athlete', 0.7382351756095886)]"
      ]
     },
     "execution_count": 17,
     "metadata": {},
     "output_type": "execute_result"
    }
   ],
   "source": [
    "news_category.wv.most_similar('player') # Посмотреть похожие слова"
   ]
  },
  {
   "cell_type": "code",
   "execution_count": 18,
   "metadata": {},
   "outputs": [
    {
     "name": "stdout",
     "output_type": "stream",
     "text": [
      "[ 1.4346386   0.2172419   0.5445907  -1.3215128   0.00733186 -0.05760287\n",
      "  0.23559298 -1.3231289  -1.110139    0.44615406  0.45493034  0.0895124\n",
      " -0.30086917  0.6663028  -0.5764501  -1.0428656  -0.37932688  2.3123758\n",
      " -0.3857291  -0.8944774   1.2314171   0.34401426 -0.9247511  -0.09861387\n",
      " -1.1419743   1.6147642   0.21220136 -1.8468387  -1.211978    1.1753889\n",
      "  0.39216423  1.1074848  -0.6731407   0.93691784  1.7787793   0.11950482\n",
      "  1.6262304   1.2974216  -2.782213   -0.9521623   0.22998664 -1.1174242\n",
      " -1.0165504   0.02161887 -0.4569142  -0.9269508   1.2323622   0.4988134\n",
      "  0.42728543  1.0438974   0.14898852 -0.8892457  -2.204913   -0.35514843\n",
      "  0.06850944 -0.8425188   1.6085141   0.9945465  -0.9342954  -0.15874024\n",
      " -0.24980582  1.7029974  -1.2875171   0.60367805  1.8370327   0.45812908\n",
      "  2.4658823  -0.9928062   0.22046381  0.6496494   0.05803154  0.11847232\n",
      "  1.011707    0.46761623 -1.4423525  -0.2766817  -2.0202081  -1.3119552\n",
      "  1.1939548   0.29492128 -0.06992874 -0.5723169  -0.75100476  0.5204251\n",
      "  1.5172127  -0.06658821 -0.7691836   0.33836824  0.9292002   0.33932346\n",
      " -0.04586941  0.9055945   0.42717963 -0.36346516  1.2498957  -2.001317\n",
      " -0.16616419 -0.80984396  0.8568184  -0.09033359]\n",
      "[ 1.7266748   0.42279357 -2.1258721  -0.9508213   2.7203932   0.38777754\n",
      " -1.7451432   1.1143618  -0.2938224  -0.3253076  -1.5946767   0.5991965\n",
      "  1.6092552  -0.12796435  1.3239655  -1.3950315   0.21824259  2.713297\n",
      " -2.5345936  -2.511841   -1.2680194  -1.3180122  -0.95707625 -0.77425593\n",
      " -0.13048509 -0.37039262  1.0222878   1.0328718  -1.027       1.6529903\n",
      "  0.9394765  -0.49541986 -1.1864172  -1.7336508  -0.92613274 -2.0770445\n",
      " -1.0710226  -1.5126724  -0.20690288 -2.4562829  -1.1083974  -0.4618916\n",
      "  0.7528599  -0.02744622  0.2330724   1.4587829  -1.0291983  -1.0961835\n",
      "  0.7944866  -0.09321191  0.07398913 -0.6924492  -0.29492593 -1.4266901\n",
      " -1.0889671  -1.5723883   0.54867387 -0.17841096 -2.3239326   1.6597921\n",
      "  0.5799384  -1.1318566   0.7782132   0.6350492  -2.5414493   3.108635\n",
      "  1.8990101  -0.3555701  -1.5181986  -0.1268758   1.1809258  -2.2581873\n",
      "  0.7224144   0.6334713  -1.0973635   1.2431747   4.029376   -0.37867236\n",
      " -1.6789361   2.6422608  -0.62386763 -0.80281746 -1.8358773   1.1840802\n",
      "  2.0944169  -2.1606462   0.6438855  -1.3374116   0.54031223 -0.67759037\n",
      "  0.07350577  0.02921436  0.11601162  0.64868087  0.5691765   1.4378967\n",
      "  1.7566992   1.1558286   2.1865907  -1.1155355 ]\n"
     ]
    }
   ],
   "source": [
    "print(news_category.wv['player'])\n",
    "print(news_category.wv['year'])"
   ]
  },
  {
   "cell_type": "code",
   "execution_count": 19,
   "metadata": {},
   "outputs": [],
   "source": [
    "vocab = news_category.wv.index_to_key # получить словарь\n",
    "sports = []\n",
    "for word in words:\n",
    "    if word in vocab:\n",
    "        sports.append(news_category.wv[word])\n",
    "    \n",
    "sports = np.array(sports)"
   ]
  },
  {
   "cell_type": "code",
   "execution_count": 20,
   "metadata": {},
   "outputs": [
    {
     "data": {
      "text/plain": [
       "(100, 100)"
      ]
     },
     "execution_count": 20,
     "metadata": {},
     "output_type": "execute_result"
    }
   ],
   "source": [
    "sports.shape"
   ]
  },
  {
   "cell_type": "code",
   "execution_count": 21,
   "metadata": {},
   "outputs": [
    {
     "data": {
      "text/plain": [
       "100"
      ]
     },
     "execution_count": 21,
     "metadata": {},
     "output_type": "execute_result"
    }
   ],
   "source": [
    "matrix = []\n",
    "for i in range(sports.shape[0]):\n",
    "    matrix.append(sports[:, i].mean())\n",
    "len(matrix)"
   ]
  },
  {
   "cell_type": "code",
   "execution_count": 22,
   "metadata": {},
   "outputs": [],
   "source": [
    "matrix = np.array(matrix)"
   ]
  },
  {
   "cell_type": "code",
   "execution_count": 23,
   "metadata": {},
   "outputs": [
    {
     "data": {
      "text/plain": [
       "[('collegiate', 0.7997668981552124)]"
      ]
     },
     "execution_count": 23,
     "metadata": {},
     "output_type": "execute_result"
    }
   ],
   "source": [
    "news_category.wv.most_similar(positive=[matrix], topn=1) "
   ]
  },
  {
   "cell_type": "code",
   "execution_count": 24,
   "metadata": {},
   "outputs": [
    {
     "data": {
      "text/plain": [
       "0.36462086"
      ]
     },
     "execution_count": 24,
     "metadata": {},
     "output_type": "execute_result"
    }
   ],
   "source": [
    "news_category.wv.similarity(\"collegiate\", \"traveling\")"
   ]
  },
  {
   "cell_type": "markdown",
   "metadata": {},
   "source": [
    "## Travel"
   ]
  },
  {
   "cell_type": "code",
   "execution_count": 20,
   "metadata": {},
   "outputs": [
    {
     "name": "stdout",
     "output_type": "stream",
     "text": [
      "['travel', 'new', 'world', 'one', 'best', 'city', 'place', 'day', 'hotel', 'like', 'time', 'year', 'way', 'get', 'trip', 'thing', 'make', '10', 'flight', 'vacation', 'take', 'go', '5', 'beach', 'around', 'traveler', 'destination', 'love', 'island', 'country', 'visit', 'people', 'u', 'know', 'airline', 'even', 'first', 'top', 'see', 'park', 'little', 'home', 'town', 'every', 'great', 'traveling', 'reason', 'many', 'need', 'life', 'may', 'could', 'family', '7', 'want', 'american', 'experience', 'two', 'america', 'never', 'summer', 'road', 'list', 'look', 'next', 'back', 'part', 'come', 'tip', 'tourist', 'perfect', 'spring', 'still', 'say', 'resort', 'photo', 'york', 'airport', 'holiday', 'find', 'beautiful', 'hour', 'food', 'much', 'long', 'really', 'winter', 'good', 'local', 'right', 'europe', 'think', 'going', 'favorite', 'something', 'ski', 'air', 'last', 'ever', 'got']\n"
     ]
    }
   ],
   "source": [
    "words = list(dict(group_word_freeqs[\"TRAVEL\"].most_common(100)).keys())\n",
    "print(words)"
   ]
  },
  {
   "cell_type": "code",
   "execution_count": 21,
   "metadata": {},
   "outputs": [
    {
     "data": {
      "text/plain": [
       "array([-0.8929525 , -0.6439674 ,  0.4423513 , -0.08034885, -0.92846614,\n",
       "       -1.9285005 , -0.14483413,  2.1386638 ,  0.13244504, -0.91187495,\n",
       "       -0.9436799 , -2.0261462 , -1.8269668 ,  1.1929922 , -0.59329444,\n",
       "       -0.3497418 ,  1.0421726 , -0.56853384,  0.17619956, -0.28108802,\n",
       "        3.032528  , -0.93883693,  0.8088264 , -1.0790559 , -0.01227765,\n",
       "        0.19611162, -0.36496732,  1.182942  , -0.05456687,  1.4187633 ,\n",
       "       -0.3973859 ,  2.210895  ,  0.49008876, -2.1182477 ,  1.440104  ,\n",
       "        0.05157078, -0.27321965, -1.3853136 ,  0.49806184, -0.94344395,\n",
       "        1.9570322 , -1.7228123 , -0.04538931,  0.41646564,  1.7450217 ,\n",
       "        0.47989532, -1.2084984 , -2.031083  ,  0.2223135 , -0.56071293,\n",
       "        0.1856304 ,  0.35096714,  1.3997214 , -0.24710959, -0.70174944,\n",
       "       -0.0197562 ,  0.00338497,  0.03262153, -0.17669348,  0.3278942 ,\n",
       "       -1.0305331 , -0.11794911,  0.42098564, -1.5804466 ,  0.3157153 ,\n",
       "        1.0378877 ,  0.70023155,  0.11296158, -0.3509418 , -0.21947564,\n",
       "       -0.8246726 , -0.42866537,  0.32117736, -0.3338682 ,  1.6851057 ,\n",
       "        0.10903712,  1.943239  , -1.1745808 , -0.14302556, -0.7267401 ,\n",
       "       -1.8086532 ,  1.6623106 ,  0.9527679 ,  0.78653634,  0.72326446,\n",
       "        0.35928658,  1.471811  , -0.9326357 , -2.2248971 , -0.7454415 ,\n",
       "        2.3841317 , -1.3533441 ,  0.09350524, -0.27412742, -0.69458014,\n",
       "       -0.15566503,  1.2571822 , -0.19219449, -1.2190953 , -0.6452286 ],\n",
       "      dtype=float32)"
      ]
     },
     "execution_count": 21,
     "metadata": {},
     "output_type": "execute_result"
    }
   ],
   "source": [
    "news_category.wv['travel'] # Посмотреть вектор"
   ]
  },
  {
   "cell_type": "code",
   "execution_count": 22,
   "metadata": {},
   "outputs": [
    {
     "data": {
      "text/plain": [
       "[('traveler', 0.8318110704421997),\n",
       " ('destination', 0.7664557695388794),\n",
       " ('traveling', 0.7597246170043945),\n",
       " ('vacation', 0.7118176221847534),\n",
       " ('trip', 0.6827754378318787),\n",
       " ('honeymoon', 0.6807881593704224),\n",
       " ('booking', 0.6798457503318787),\n",
       " ('busiest', 0.6782686114311218),\n",
       " ('itinerary', 0.6768943071365356),\n",
       " ('offering', 0.6754525899887085)]"
      ]
     },
     "execution_count": 22,
     "metadata": {},
     "output_type": "execute_result"
    }
   ],
   "source": [
    "news_category.wv.most_similar('travel') # Посмотреть похожие слова"
   ]
  },
  {
   "cell_type": "code",
   "execution_count": 36,
   "metadata": {},
   "outputs": [],
   "source": [
    "vocab = news_category.wv.index_to_key # получить словарь\n",
    "travel = []\n",
    "for word in words:\n",
    "    if word in vocab:\n",
    "        travel.append(news_category.wv[word])\n",
    "    \n",
    "travel = np.array(travel)"
   ]
  },
  {
   "cell_type": "code",
   "execution_count": 37,
   "metadata": {},
   "outputs": [
    {
     "data": {
      "text/plain": [
       "(100, 100)"
      ]
     },
     "execution_count": 37,
     "metadata": {},
     "output_type": "execute_result"
    }
   ],
   "source": [
    "travel.shape"
   ]
  },
  {
   "cell_type": "code",
   "execution_count": 38,
   "metadata": {},
   "outputs": [
    {
     "data": {
      "text/plain": [
       "100"
      ]
     },
     "execution_count": 38,
     "metadata": {},
     "output_type": "execute_result"
    }
   ],
   "source": [
    "matrix = []\n",
    "for i in range(travel.shape[0]):\n",
    "    matrix.append(travel[:, i].mean())\n",
    "len(matrix)"
   ]
  },
  {
   "cell_type": "code",
   "execution_count": 39,
   "metadata": {},
   "outputs": [],
   "source": [
    "matrix = np.array(matrix)"
   ]
  },
  {
   "cell_type": "code",
   "execution_count": 40,
   "metadata": {},
   "outputs": [
    {
     "data": {
      "text/plain": [
       "[('traveling', 0.8422669172286987)]"
      ]
     },
     "execution_count": 40,
     "metadata": {},
     "output_type": "execute_result"
    }
   ],
   "source": [
    "news_category.wv.most_similar(positive=[matrix], topn=1) "
   ]
  },
  {
   "cell_type": "markdown",
   "metadata": {},
   "source": [
    "## Wellness"
   ]
  },
  {
   "cell_type": "code",
   "execution_count": 24,
   "metadata": {},
   "outputs": [
    {
     "name": "stdout",
     "output_type": "stream",
     "text": [
      "['life', 'way', 'time', 'people', 'one', 'u', 'like', 'health', 'make', 'day', 'thing', 'get', 'may', 'love', 'new', 'help', 'could', 'take', 'feel', 'year', 'sleep', 'food', '5', 'cancer', 'work', 'need', 'want', 'body', 'study', 'go', 'well', 'better', 'good', 'know', 'heart', 'even', 'change', 'think', 'healthy', 'much', 'part', 'say', 'also', 'many', '10', 'would', 'weight', 'right', 'patient', 'best', 'find', 'something', 'come', 'first', 'world', 'really', 'others', 'risk', 'relationship', 'yoga', 'back', 'eating', 'woman', 'care', 'found', 'mind', 'let', 'never', 'living', 'drug', 'disease', 'feeling', 'moment', 'long', 'live', 'might', 'going', 'see', 'important', 'self', 'brain', 'fat', 'great', 'give', 'workout', 'happiness', 'family', 'person', '7', 'sometimes', 'child', 'thought', 'eat', 'look', 'problem', 'week', 'mental', 'mean', 'move', 'exercise']\n"
     ]
    }
   ],
   "source": [
    "words = list(dict(group_word_freeqs[\"WELLNESS\"].most_common(100)).keys())\n",
    "print(words)"
   ]
  },
  {
   "cell_type": "code",
   "execution_count": 25,
   "metadata": {},
   "outputs": [
    {
     "data": {
      "text/plain": [
       "array([-0.05576981,  1.9642634 , -1.6825976 , -3.0842206 ,  2.3388777 ,\n",
       "       -3.7203333 , -1.2496065 ,  4.4264054 ,  2.2089105 , -1.6408072 ,\n",
       "        1.2188126 , -0.51213807, -1.5955124 ,  1.299346  ,  0.05881563,\n",
       "        1.5026548 , -0.38367364, -0.78583795, -1.4975502 , -0.60498077,\n",
       "        0.8564228 , -0.05838799, -0.99072963,  0.5826926 ,  0.7030876 ,\n",
       "       -1.8825068 ,  0.5500583 , -2.2087543 ,  0.37814197, -0.4049791 ,\n",
       "        1.8673918 ,  0.82094216, -0.92877257,  0.86139315, -0.8255278 ,\n",
       "        1.1999828 , -1.8962322 , -1.5184681 ,  1.7872276 , -0.20036492,\n",
       "        1.7465177 , -1.7617372 ,  0.61606187, -0.5538494 ,  1.368504  ,\n",
       "       -1.0475533 , -0.84358454,  0.7414254 ,  2.4455552 ,  0.04537964,\n",
       "        0.06619976,  0.5552974 ,  1.7934297 ,  0.07648607,  2.369894  ,\n",
       "        0.20477065,  1.8196512 , -0.1871205 ,  0.6801809 , -1.273912  ,\n",
       "       -1.6247038 , -0.28623465,  0.39173433,  0.6564885 , -0.83253974,\n",
       "        1.5311826 ,  1.5123577 , -1.4685928 ,  0.1958616 , -0.54820484,\n",
       "        0.14348696, -2.20214   ,  0.6193832 , -0.5425831 ,  0.02158323,\n",
       "       -0.18721369,  1.0186931 ,  0.8350031 , -0.39184123,  1.4739165 ,\n",
       "        2.0622585 ,  0.3514073 ,  0.19774593, -0.12940927,  1.5053874 ,\n",
       "        0.21524481, -0.3260046 ,  1.2113233 ,  1.6280107 , -0.50315523,\n",
       "        0.50054157,  1.9778763 ,  3.2226703 ,  0.1494492 ,  0.09832339,\n",
       "       -2.4055572 ,  0.45157883,  0.8395913 ,  2.350016  ,  0.76505464],\n",
       "      dtype=float32)"
      ]
     },
     "execution_count": 25,
     "metadata": {},
     "output_type": "execute_result"
    }
   ],
   "source": [
    "news_category.wv['life'] # Посмотреть вектор"
   ]
  },
  {
   "cell_type": "code",
   "execution_count": 26,
   "metadata": {},
   "outputs": [
    {
     "data": {
      "text/plain": [
       "[('experience', 0.6032000184059143),\n",
       " ('worldfinding', 0.5859621167182922),\n",
       " ('meaningful', 0.5656275749206543),\n",
       " ('relationship', 0.5643864274024963),\n",
       " ('fully', 0.5639217495918274),\n",
       " ('meant', 0.5543309450149536),\n",
       " ('friendship', 0.5530180335044861),\n",
       " ('motherhood', 0.5517522692680359),\n",
       " ('grateful', 0.5508873462677002),\n",
       " ('truly', 0.5488318800926208)]"
      ]
     },
     "execution_count": 26,
     "metadata": {},
     "output_type": "execute_result"
    }
   ],
   "source": [
    "news_category.wv.most_similar('life') # Посмотреть похожие слова"
   ]
  },
  {
   "cell_type": "code",
   "execution_count": 27,
   "metadata": {},
   "outputs": [],
   "source": [
    "vocab = news_category.wv.index_to_key # получить словарь\n",
    "wellness = []\n",
    "for word in words:\n",
    "    if word in vocab:\n",
    "        wellness.append(news_category.wv[word])\n",
    "    \n",
    "wellness = np.array(wellness)"
   ]
  },
  {
   "cell_type": "code",
   "execution_count": 28,
   "metadata": {},
   "outputs": [
    {
     "data": {
      "text/plain": [
       "(100, 100)"
      ]
     },
     "execution_count": 28,
     "metadata": {},
     "output_type": "execute_result"
    }
   ],
   "source": [
    "wellness.shape"
   ]
  },
  {
   "cell_type": "code",
   "execution_count": 29,
   "metadata": {},
   "outputs": [
    {
     "data": {
      "text/plain": [
       "100"
      ]
     },
     "execution_count": 29,
     "metadata": {},
     "output_type": "execute_result"
    }
   ],
   "source": [
    "matrix = []\n",
    "for i in range(wellness.shape[0]):\n",
    "    matrix.append(wellness[:, i].mean())\n",
    "len(matrix)"
   ]
  },
  {
   "cell_type": "code",
   "execution_count": 30,
   "metadata": {},
   "outputs": [],
   "source": [
    "matrix = np.array(matrix)"
   ]
  },
  {
   "cell_type": "code",
   "execution_count": 31,
   "metadata": {},
   "outputs": [
    {
     "data": {
      "text/plain": [
       "[('stressed', 0.8907976746559143)]"
      ]
     },
     "execution_count": 31,
     "metadata": {},
     "output_type": "execute_result"
    }
   ],
   "source": [
    "news_category.wv.most_similar(positive=[matrix], topn=1) "
   ]
  },
  {
   "cell_type": "code",
   "execution_count": 47,
   "metadata": {},
   "outputs": [
    {
     "data": {
      "text/plain": [
       "0.46284205"
      ]
     },
     "execution_count": 47,
     "metadata": {},
     "output_type": "execute_result"
    }
   ],
   "source": [
    "news_category.wv.similarity(\"stressed\", \"booze\")"
   ]
  },
  {
   "cell_type": "markdown",
   "metadata": {},
   "source": [
    "## Entretainment"
   ]
  },
  {
   "cell_type": "code",
   "execution_count": 33,
   "metadata": {},
   "outputs": [
    {
     "name": "stdout",
     "output_type": "stream",
     "text": [
      "['new', 'star', 'say', 'show', 'said', 'year', 'trump', 'movie', 'time', 'like', 'get', 'first', 'woman', 'sexual', 'actor', 'back', 'one', 'oscar', 'film', 'people', 'hollywood', 'fan', 'make', 'best', 'netflix', 'actress', 'john', 'take', 'black', 'war', 'look', 'game', 'season', 'thing', 'twitter', 'donald', 'got', 'kim', 'old', 'dead', 'day', 'tv', 'director', 'give', 'singer', 'last', 'u', 'night', 'kardashian', 'made', 'baby', 'host', 'talk', '2', 'want', 'life', 'coming', 'love', 'world', 'go', 'b', 'music', 'trailer', 'golden', 'really', 'reveals', 'also', 'story', 'james', 'would', 'family', 'chrissy', 'jennifer', 'accused', 'ryan', 'teigen', 'michael', 'jimmy', 'girl', 'know', 'video', 'hit', 'award', 'set', 'need', 'roseanne', 'american', 'call', 'panther', 'tell', 'good', 'globe', 'could', 'watch', 'david', 'ellen', 'little', 'right', 'west', 'reportedly']\n"
     ]
    }
   ],
   "source": [
    "words = list(dict(group_word_freeqs[\"ENTERTAINMENT\"].most_common(100)).keys())\n",
    "print(words)"
   ]
  },
  {
   "cell_type": "code",
   "execution_count": 34,
   "metadata": {},
   "outputs": [
    {
     "data": {
      "text/plain": [
       "array([-0.62584734,  1.0837263 , -0.7265201 ,  1.0855874 ,  0.5800832 ,\n",
       "       -1.9335208 ,  2.7430096 ,  1.4957602 , -0.99558604, -0.19826487,\n",
       "        1.8057846 ,  0.89860654, -3.3120902 ,  1.1154747 , -0.3672594 ,\n",
       "        0.7464682 , -0.1834364 , -0.30134892, -2.6978583 , -2.6642945 ,\n",
       "        1.2400774 ,  0.67085594,  1.9754494 , -1.0396445 ,  2.3211138 ,\n",
       "       -3.165262  ,  0.50517005, -0.66320354, -1.0452874 ,  0.5888691 ,\n",
       "       -0.6577867 ,  0.47751227,  2.1990845 , -1.1984006 ,  0.08188101,\n",
       "       -1.0820111 ,  0.12420285, -0.8943856 ,  0.5567378 , -0.42873156,\n",
       "       -1.0868396 , -0.20127869, -1.8868735 , -0.9941776 , -1.465375  ,\n",
       "        1.4973668 , -0.33326492,  0.72889733,  2.4532955 ,  1.2443078 ,\n",
       "       -0.18110897,  1.570785  , -2.2261503 ,  0.97839814,  2.4787025 ,\n",
       "       -2.0640144 ,  1.9859856 ,  2.2657397 , -1.1702398 ,  0.9743015 ,\n",
       "       -1.3624827 , -0.6949682 , -1.185886  , -0.9701849 ,  1.3828593 ,\n",
       "        1.5705373 , -0.7562082 ,  1.0972184 , -0.82961226,  1.1002023 ,\n",
       "        1.1393236 ,  0.54405206, -1.1463838 ,  0.33414847,  0.719802  ,\n",
       "       -0.03749214,  1.2275406 , -0.16621962, -1.0094718 , -1.2970301 ,\n",
       "       -1.0551531 , -0.11879308,  1.0491335 , -0.6610438 , -0.17404154,\n",
       "       -0.30608255,  3.4735558 , -0.8630772 , -2.2148852 ,  0.2377997 ,\n",
       "        0.1876819 ,  1.2331914 , -1.0314338 ,  1.4703931 ,  2.3690822 ,\n",
       "        1.7466538 , -0.29289752, -0.34643504, -0.8216236 , -0.4206263 ],\n",
       "      dtype=float32)"
      ]
     },
     "execution_count": 34,
     "metadata": {},
     "output_type": "execute_result"
    }
   ],
   "source": [
    "news_category.wv['new']"
   ]
  },
  {
   "cell_type": "code",
   "execution_count": 35,
   "metadata": {},
   "outputs": [
    {
     "data": {
      "text/plain": [
       "[('citynew', 0.6901751756668091),\n",
       " ('cbsnewyork', 0.6742492914199829),\n",
       " ('sandynew', 0.6655153632164001),\n",
       " ('minster', 0.665090799331665),\n",
       " ('nycnew', 0.6401103734970093),\n",
       " ('citytwo', 0.6360494494438171),\n",
       " ('taxnew', 0.6314601302146912),\n",
       " ('lastnew', 0.6085033416748047),\n",
       " ('cnnmoney', 0.607225239276886),\n",
       " ('weddingnew', 0.6048398017883301)]"
      ]
     },
     "execution_count": 35,
     "metadata": {},
     "output_type": "execute_result"
    }
   ],
   "source": [
    "news_category.wv.most_similar('new')"
   ]
  },
  {
   "cell_type": "code",
   "execution_count": 36,
   "metadata": {},
   "outputs": [],
   "source": [
    "vocab = news_category.wv.index_to_key # получить словарь\n",
    "entertainment = []\n",
    "for word in words:\n",
    "    if word in vocab:\n",
    "        entertainment.append(news_category.wv[word])\n",
    "    \n",
    "entertainment = np.array(entertainment)"
   ]
  },
  {
   "cell_type": "code",
   "execution_count": 37,
   "metadata": {},
   "outputs": [
    {
     "data": {
      "text/plain": [
       "100"
      ]
     },
     "execution_count": 37,
     "metadata": {},
     "output_type": "execute_result"
    }
   ],
   "source": [
    "matrix = []\n",
    "for i in range(entertainment.shape[0]):\n",
    "    matrix.append(entertainment[:, i].mean())\n",
    "len(matrix)"
   ]
  },
  {
   "cell_type": "code",
   "execution_count": 38,
   "metadata": {},
   "outputs": [],
   "source": [
    "matrix = np.array(matrix)"
   ]
  },
  {
   "cell_type": "code",
   "execution_count": 39,
   "metadata": {},
   "outputs": [
    {
     "data": {
      "text/plain": [
       "[('qween', 0.8647509813308716)]"
      ]
     },
     "execution_count": 39,
     "metadata": {},
     "output_type": "execute_result"
    }
   ],
   "source": [
    "news_category.wv.most_similar(positive=[matrix], topn=1) "
   ]
  },
  {
   "cell_type": "markdown",
   "metadata": {},
   "source": [
    "## FOOD AND DRINK"
   ]
  },
  {
   "cell_type": "code",
   "execution_count": 40,
   "metadata": {},
   "outputs": [
    {
     "name": "stdout",
     "output_type": "stream",
     "text": [
      "['food', 'make', 'best', 'recipe', 'like', 'new', 'one', 'time', 'way', 'thing', 'year', 'wine', '10', 'eat', 'chocolate', 'know', 'restaurant', 'taste', 'day', 'u', 'holiday', 'get', 'good', 'cheese', 'love', 'need', '5', 'favorite', 'drink', 'world', 'dish', 'beer', 'chicken', 'thanksgiving', 'want', 'cooking', 'even', 'delicious', 'cake', 'burger', 'made', 'go', 'ever', 'never', 'dinner', 'eating', 'cocktail', 'coffee', 'perfect', 'great', 'pizza', 'better', 'american', 'sauce', 'would', 'kitchen', 'dessert', 'hot', 'come', 'right', 'people', 'top', 'making', 'chef', 'think', 'party', 'every', 'look', 'cream', 'around', 'bacon', 'might', 'sweet', 'bar', 'ice', 'little', 'reason', 'sandwich', 'bowl', 'turkey', 'candy', 'america', 'actually', 'really', 'breakfast', 'two', 'cook', 'easy', 'flavor', 'healthy', 'free', 'butter', 'home', 'kind', 'order', 'much', 'first', 'without', 'super', 'lot']\n"
     ]
    }
   ],
   "source": [
    "words = list(dict(group_word_freeqs[\"FOOD & DRINK\"].most_common(100)).keys())\n",
    "print(words)"
   ]
  },
  {
   "cell_type": "code",
   "execution_count": 41,
   "metadata": {},
   "outputs": [
    {
     "data": {
      "text/plain": [
       "array([-1.2610805 , -2.373608  , -0.3204888 , -0.11983506,  0.84449434,\n",
       "       -2.2575915 ,  1.8644425 ,  3.0035615 , -0.306712  , -0.3276883 ,\n",
       "       -2.1197362 , -0.37715173, -1.3273813 ,  0.7210304 ,  2.1989548 ,\n",
       "       -0.7205569 ,  0.26655787,  0.1416099 , -0.41014954,  0.41276696,\n",
       "       -0.22594401,  0.5775353 ,  1.1044847 , -0.15051709, -1.2359846 ,\n",
       "       -0.897921  , -0.28886953, -1.49274   , -0.06689809, -0.89722395,\n",
       "        0.5493005 ,  1.2467594 ,  0.44233662,  0.85128164,  0.5680287 ,\n",
       "        0.9964116 ,  0.5604194 , -0.97245747,  1.0638971 ,  0.5507042 ,\n",
       "        0.10355817, -0.7279351 , -1.6916327 , -1.2236054 ,  0.2383554 ,\n",
       "        2.3755422 , -2.642411  ,  1.3353002 ,  1.8442322 ,  0.28268936,\n",
       "        0.7935428 , -2.1642005 , -0.9620827 ,  0.9005169 , -1.5934842 ,\n",
       "        1.9238936 ,  0.95727074,  1.3211157 ,  1.2305379 , -0.29407075,\n",
       "        1.2568576 ,  1.3445019 , -2.2911441 , -2.3298547 , -1.847747  ,\n",
       "        0.3151313 , -0.23892778, -0.98524565, -1.1940589 ,  2.6880171 ,\n",
       "        1.0079257 ,  1.3927641 ,  0.2460724 ,  2.0998938 ,  1.1822103 ,\n",
       "       -1.8383621 ,  0.4468831 , -1.0523616 , -1.5739462 , -1.62386   ,\n",
       "       -0.5277197 ,  1.8993179 ,  1.2366338 ,  1.0666275 ,  0.21748511,\n",
       "       -0.04226431, -1.9010665 , -1.0941167 , -0.48011112, -1.9544871 ,\n",
       "        0.8354901 , -0.89982176, -0.302888  ,  1.2196634 , -1.9603455 ,\n",
       "        0.98216206, -0.04641813, -0.70133764,  1.4874767 , -1.2461408 ],\n",
       "      dtype=float32)"
      ]
     },
     "execution_count": 41,
     "metadata": {},
     "output_type": "execute_result"
    }
   ],
   "source": [
    "news_category.wv['food']"
   ]
  },
  {
   "cell_type": "code",
   "execution_count": 42,
   "metadata": {},
   "outputs": [
    {
     "data": {
      "text/plain": [
       "[('nutritious', 0.7130677700042725),\n",
       " ('organic', 0.7035893797874451),\n",
       " ('junk', 0.692295491695404),\n",
       " ('foodknow', 0.6920154690742493),\n",
       " ('diet', 0.6872634291648865),\n",
       " ('fooddangerous', 0.6858177781105042),\n",
       " ('digesting', 0.6847081184387207),\n",
       " ('fast', 0.6778801679611206),\n",
       " ('vegan', 0.6726208925247192),\n",
       " ('beverage', 0.6712450385093689)]"
      ]
     },
     "execution_count": 42,
     "metadata": {},
     "output_type": "execute_result"
    }
   ],
   "source": [
    "news_category.wv.most_similar('food')"
   ]
  },
  {
   "cell_type": "code",
   "execution_count": 43,
   "metadata": {},
   "outputs": [],
   "source": [
    "vocab = news_category.wv.index_to_key # получить словарь\n",
    "food = []\n",
    "for word in words:\n",
    "    if word in vocab:\n",
    "        food.append(news_category.wv[word])\n",
    "    \n",
    "food = np.array(food)"
   ]
  },
  {
   "cell_type": "code",
   "execution_count": 44,
   "metadata": {},
   "outputs": [
    {
     "data": {
      "text/plain": [
       "100"
      ]
     },
     "execution_count": 44,
     "metadata": {},
     "output_type": "execute_result"
    }
   ],
   "source": [
    "matrix = []\n",
    "for i in range(food.shape[0]):\n",
    "    matrix.append(food[:, i].mean())\n",
    "len(matrix)"
   ]
  },
  {
   "cell_type": "code",
   "execution_count": 45,
   "metadata": {},
   "outputs": [],
   "source": [
    "matrix = np.array(matrix)"
   ]
  },
  {
   "cell_type": "code",
   "execution_count": 46,
   "metadata": {},
   "outputs": [
    {
     "data": {
      "text/plain": [
       "[('booze', 0.8751394748687744)]"
      ]
     },
     "execution_count": 46,
     "metadata": {},
     "output_type": "execute_result"
    }
   ],
   "source": [
    "news_category.wv.most_similar(positive=[matrix], topn=1) "
   ]
  }
 ],
 "metadata": {
  "kernelspec": {
   "display_name": "Python 3",
   "language": "python",
   "name": "python3"
  },
  "language_info": {
   "codemirror_mode": {
    "name": "ipython",
    "version": 3
   },
   "file_extension": ".py",
   "mimetype": "text/x-python",
   "name": "python",
   "nbconvert_exporter": "python",
   "pygments_lexer": "ipython3",
   "version": "3.8.8"
  }
 },
 "nbformat": 4,
 "nbformat_minor": 2
}
